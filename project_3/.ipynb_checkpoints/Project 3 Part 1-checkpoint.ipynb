{
 "cells": [
  {
   "cell_type": "markdown",
   "id": "38771055",
   "metadata": {},
   "source": [
    "<img src=\"http://imgur.com/1ZcRyrc.png\" style=\"float: left; margin: 20px; height: 55px\">\n",
    "\n",
    "# Project 3: Web APIs & NLP ( Part 1 )"
   ]
  },
  {
   "cell_type": "markdown",
   "id": "7f8480dc",
   "metadata": {},
   "source": [
    "## About the project"
   ]
  },
  {
   "cell_type": "markdown",
   "id": "96491994",
   "metadata": {},
   "source": [
    "This project covers three of the biggest concepts we cover in the class: Classification Modeling, Natural Language Processing and Data Wrangling/Acquisition.\n",
    "\n",
    "For this project, we will be scraping data from two subreddits. Thereafter, we will apply Natural Language Processing to train a classifier to classify which subreddit a particular post comes from."
   ]
  },
  {
   "cell_type": "markdown",
   "id": "3e35f097",
   "metadata": {},
   "source": [
    "---"
   ]
  },
  {
   "cell_type": "markdown",
   "id": "4a244ed0",
   "metadata": {},
   "source": [
    "## Problem Statement"
   ]
  },
  {
   "cell_type": "markdown",
   "id": "be00b257",
   "metadata": {},
   "source": [
    "According to Bachmann S. Epidemiology of Suicide and the Psychiatric Perspective, most suicides are related to psychiatric disease, with depression, substance use disorders and psychosis being the most relevant risk factors. In view of this statistic, a newly developed social media application, Chipper, has implemented a new feature where users are able to report other users' posts for suspected mental health issue so that they will be able to provide help to these users before it is too late.\n",
    "\n",
    "As a data scientist working in this company, I am tasked to train a classifier that will categorise posts that were\n",
    "reported for mental health issues into either Anxiety or Depression so that we are able to route these users to its appropriate helpline. To train the classifier, I will be using posts from Reddit's r/Anxiety and r/Depression subreddits as proxy data.\n",
    "\n",
    "Source: https://www.ncbi.nlm.nih.gov/pmc/articles/PMC6165520/#B1-ijerph-15-02028"
   ]
  },
  {
   "cell_type": "markdown",
   "id": "9811c89b",
   "metadata": {},
   "source": [
    "---"
   ]
  },
  {
   "cell_type": "markdown",
   "id": "b1c52532",
   "metadata": {},
   "source": [
    "## In this section"
   ]
  },
  {
   "cell_type": "markdown",
   "id": "d44fc56b",
   "metadata": {},
   "source": [
    "In this section, we will only be scraping data from `Anxiety` and `Depression` subreddit."
   ]
  },
  {
   "cell_type": "markdown",
   "id": "592efea2",
   "metadata": {},
   "source": [
    "---"
   ]
  },
  {
   "cell_type": "markdown",
   "id": "eecaa08b",
   "metadata": {},
   "source": [
    "## Pushshift API"
   ]
  },
  {
   "cell_type": "markdown",
   "id": "d907fd92",
   "metadata": {},
   "source": [
    "The pushshift.io Reddit API was designed and created by the /r/datasets mod team to help provide enhanced functionality and search capabilities for searching Reddit comments and submissions."
   ]
  },
  {
   "cell_type": "code",
   "execution_count": 7,
   "id": "4fbd5517",
   "metadata": {},
   "outputs": [],
   "source": [
    "# pip install psaw"
   ]
  },
  {
   "cell_type": "markdown",
   "id": "cfdc924d",
   "metadata": {},
   "source": [
    "---"
   ]
  },
  {
   "cell_type": "markdown",
   "id": "e7e14f06",
   "metadata": {},
   "source": [
    "### Import Libraries"
   ]
  },
  {
   "cell_type": "code",
   "execution_count": 1,
   "id": "1dfc7b67",
   "metadata": {},
   "outputs": [],
   "source": [
    "# Import libraries\n",
    "import requests\n",
    "import pandas as pd\n",
    "import datetime as dt \n",
    "import time\n",
    "import random\n",
    "\n",
    "# Ignore warnings\n",
    "import warnings\n",
    "warnings.filterwarnings(\"ignore\")"
   ]
  },
  {
   "cell_type": "markdown",
   "id": "9aa95891",
   "metadata": {},
   "source": [
    "---"
   ]
  },
  {
   "cell_type": "markdown",
   "id": "93bf857d",
   "metadata": {},
   "source": [
    "### Scrap Function"
   ]
  },
  {
   "cell_type": "code",
   "execution_count": 2,
   "id": "d5af6367",
   "metadata": {},
   "outputs": [],
   "source": [
    "def get_reddit_posts(subreddit, n, days = 30):\n",
    "    \n",
    "    # Url\n",
    "    base_url = 'https://api.pushshift.io/reddit/search/submission'\n",
    "    full_url = f'{base_url}?subreddit={subreddit}&size=100'\n",
    "    \n",
    "    # Creating an empty list to store the posts\n",
    "    posts = []\n",
    "    \n",
    "    # Iterations to modify the url after each iteration\n",
    "    for i in range(1, n+1):\n",
    "        urlmod = '{}&after={}d'.format(full_url, days*i)\n",
    "        res_1 = requests.get(urlmod)\n",
    "        \n",
    "        # prevent errors from stopping the codes from running\n",
    "        try:\n",
    "            res = requests.get(urlmod)\n",
    "            assert res.status_code == 200\n",
    "        except:\n",
    "            continue\n",
    "        \n",
    "        # Converting to json\n",
    "        extracted = res.json()['data']\n",
    "        # Constructing a dataframe from dict\n",
    "        df = pd.DataFrame.from_dict(extracted)\n",
    "        # Adding the df to post list(created on top)\n",
    "        posts.append(df)\n",
    "        \n",
    "        # Total number of posts scrapped\n",
    "        total_scraped = sum(len(x) for x in posts)\n",
    "        \n",
    "        # If there are more than n values/data, stop. \n",
    "        if total_scraped > n:\n",
    "            break\n",
    "        \n",
    "        # Generate a random sleep duration to seem like a human user\n",
    "        sleep_duration = random.randint(1,9)\n",
    "        time.sleep(sleep_duration)\n",
    "            \n",
    "    \n",
    "    # create list of features that we will be using\n",
    "    features_of_interest = ['subreddit', 'title', 'selftext']\n",
    "    \n",
    "    # combine all iterations\n",
    "    final_df = pd.concat(posts, sort=False)\n",
    "    # remove all the unrequired columns from the datasets\n",
    "    final_df = final_df[features_of_interest]\n",
    "    # Drop duplicates\n",
    "    final_df.drop_duplicates(inplace=True)\n",
    "    return final_df.reset_index(drop=True)"
   ]
  },
  {
   "cell_type": "markdown",
   "id": "43ae02a1",
   "metadata": {},
   "source": [
    "---"
   ]
  },
  {
   "cell_type": "markdown",
   "id": "95d38fdc",
   "metadata": {},
   "source": [
    "### Scrapped on 24 Nov 2022, 11.43 A.M."
   ]
  },
  {
   "cell_type": "code",
   "execution_count": 3,
   "id": "93b69049",
   "metadata": {
    "scrolled": false
   },
   "outputs": [
    {
     "name": "stdout",
     "output_type": "stream",
     "text": [
      "Scraped 3085 posts on 'Anxiety' using Pushshift\n",
      "Scraped 3082 posts on 'Depression' using Pushshift\n"
     ]
    }
   ],
   "source": [
    "anxiety = get_reddit_posts('Anxiety', 3000)\n",
    "depression = get_reddit_posts('depression', 3000)\n",
    "\n",
    "print(f'Scraped {len(anxiety)} posts on \\'Anxiety\\' using Pushshift')\n",
    "print((f'Scraped {len(depression)} posts on \\'Depression\\' using Pushshift'))"
   ]
  },
  {
   "cell_type": "markdown",
   "id": "11d5b87f",
   "metadata": {},
   "source": [
    "---"
   ]
  },
  {
   "cell_type": "markdown",
   "id": "7c9be06a",
   "metadata": {},
   "source": [
    "### Exporting Dataset"
   ]
  },
  {
   "cell_type": "code",
   "execution_count": 5,
   "id": "d09773df",
   "metadata": {},
   "outputs": [],
   "source": [
    "anxiety.to_csv('./datasets/anxiety.csv')\n",
    "depression.to_csv('./datasets/depression.csv')"
   ]
  }
 ],
 "metadata": {
  "kernelspec": {
   "display_name": "Python 3 (ipykernel)",
   "language": "python",
   "name": "python3"
  },
  "language_info": {
   "codemirror_mode": {
    "name": "ipython",
    "version": 3
   },
   "file_extension": ".py",
   "mimetype": "text/x-python",
   "name": "python",
   "nbconvert_exporter": "python",
   "pygments_lexer": "ipython3",
   "version": "3.9.12"
  }
 },
 "nbformat": 4,
 "nbformat_minor": 5
}
