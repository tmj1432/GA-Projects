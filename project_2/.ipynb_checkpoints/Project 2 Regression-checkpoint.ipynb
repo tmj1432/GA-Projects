{
 "cells": [
  {
   "cell_type": "markdown",
   "id": "07be8820",
   "metadata": {},
   "source": [
    "<img src=\"http://imgur.com/1ZcRyrc.png\" style=\"float: left; margin: 20px; height: 55px\">\n",
    "\n",
    "# Project 2: Regression Challenge"
   ]
  },
  {
   "cell_type": "markdown",
   "id": "7204356a",
   "metadata": {},
   "source": [
    "\n",
    "\n",
    "**Project Organization**\n",
    "\n",
    "Are modules imported correctly (using appropriate aliases)?\n",
    "\n",
    "Are data imported/saved using relative paths?\n",
    "\n",
    "Does the README provide a good executive summary of the project?\n",
    "\n",
    "Is markdown formatting used appropriately to structure notebooks?\n",
    "\n",
    "Are there an appropriate amount of comments to support the code?\n",
    "\n",
    "Are files & directories organized correctly?\n",
    "\n",
    "Are there unnecessary files included?\n",
    "\n",
    "Do files and directories have well-structured, appropriate, consistent names?\n",
    "\n",
    "**Visualizations**\n",
    "\n",
    "Are sufficient visualizations provided?\n",
    "\n",
    "Do plots accurately demonstrate valid relationships?\n",
    "\n",
    "Are plots labeled properly?\n",
    "\n",
    "Are plots interpreted appropriately?\n",
    "\n",
    "Are plots formatted and scaled appropriately for inclusion in a notebook-based technical report?\n",
    "Python Syntax and Control Flow\n",
    "\n",
    "Is care taken to write human readable code?\n",
    "\n",
    "Is the code syntactically correct (no runtime errors)?\n",
    "\n",
    "Does the code generate desired results (logically correct)?\n",
    "\n",
    "Does the code follows general best practices and style guidelines?\n",
    "\n",
    "Are Pandas functions used appropriately?\n",
    "\n",
    "Are sklearn methods used appropriately?"
   ]
  },
  {
   "cell_type": "markdown",
   "id": "aa68961d",
   "metadata": {},
   "source": [
    "## Problem Statement"
   ]
  },
  {
   "cell_type": "markdown",
   "id": "c373937e",
   "metadata": {},
   "source": [
    "Is it clear what the student plans to do?\n",
    "\n",
    "What type of model will be developed?\n",
    "\n",
    "How will success be evaluated?\n",
    "\n",
    "Is the scope of the project appropriate?\n",
    "\n",
    "Is it clear who cares about this or why this is important to investigate?\n",
    "\n",
    "Does the student consider the audience and the primary and secondary stakeholders?"
   ]
  },
  {
   "cell_type": "markdown",
   "id": "ceb1c50f",
   "metadata": {},
   "source": [
    "## Background"
   ]
  },
  {
   "cell_type": "markdown",
   "id": "cc1770a9",
   "metadata": {},
   "source": [
    "## About the dataset"
   ]
  },
  {
   "cell_type": "markdown",
   "id": "df45877e",
   "metadata": {},
   "source": [
    "## Data Import & Cleaning"
   ]
  },
  {
   "cell_type": "markdown",
   "id": "818a7b73",
   "metadata": {},
   "source": [
    "Are missing values imputed appropriately?\n",
    "\n",
    "Are distributions examined and described?\n",
    "\n",
    "Are outliers identified and addressed?\n",
    "\n",
    "Are appropriate summary statistics provided?\n",
    "\n",
    "Are steps taken during data cleaning and EDA framed appropriately?\n",
    "\n",
    "Does the student address whether or not they are likely to be able to answer their problem statement with the provided data given what they've discovered during EDA?"
   ]
  },
  {
   "cell_type": "markdown",
   "id": "ec89fc7c",
   "metadata": {},
   "source": [
    "## Exploratory Data Analysis"
   ]
  },
  {
   "cell_type": "markdown",
   "id": "c2b99b6b",
   "metadata": {},
   "source": [
    "Typically, using EDA we try to get the answer to the following questions:\n",
    "\n",
    "6. Is there any relationship between different independent variables of the dataset? If yes then how strong is that relationship?\n",
    "\n",
    "7. Are observations independent or tightly coupled?"
   ]
  },
  {
   "cell_type": "markdown",
   "id": "74d98def",
   "metadata": {},
   "source": [
    "## Feature Engineering"
   ]
  },
  {
   "cell_type": "markdown",
   "id": "01874c94",
   "metadata": {},
   "source": [
    "Are categorical variables one-hot encoded?\n",
    "\n",
    "Does the student investigate or manufacture features with linear relationships to the target?\n",
    "\n",
    "Have the data been scaled appropriately?\n",
    "\n",
    "Does the student properly split and/or sample the data for validation/training purposes?\n",
    "\n",
    "Does the student utilize feature selection to remove noisy or multi-collinear features?\n",
    "\n",
    "Does the student test and evaluate a variety of models to identify a production algorithm (AT MINIMUM: linear regression, lasso, and ridge)?\n",
    "\n",
    "Does the student defend their choice of production model relevant to the data at hand and the problem?\n",
    "\n",
    "Does the student explain how the model works and evaluate its performance successes/downfalls?"
   ]
  },
  {
   "cell_type": "markdown",
   "id": "7691f5d4",
   "metadata": {},
   "source": [
    "## Modeling"
   ]
  },
  {
   "cell_type": "markdown",
   "id": "43c3a47b",
   "metadata": {},
   "source": [
    "Does the student accurately identify and explain the baseline score?\n",
    "\n",
    "Does the student select and use metrics relevant to the problem objective?\n",
    "\n",
    "Is more than one metric utilized in order to better assess performance?\n",
    "\n",
    "Does the student interpret the results of their model for purposes of inference?\n",
    "\n",
    "Is domain knowledge demonstrated when interpreting results?\n",
    "\n",
    "Does the student provide appropriate interpretation with regards to descriptive and inferential statistics?"
   ]
  },
  {
   "cell_type": "markdown",
   "id": "d25386da",
   "metadata": {},
   "source": [
    "## Conclusion and Recommendations"
   ]
  },
  {
   "cell_type": "markdown",
   "id": "258288da",
   "metadata": {},
   "source": [
    "Does the student provide appropriate context to connect individual steps back to the overall project?\n",
    "\n",
    "Is it clear how the final recommendations were reached?\n",
    "\n",
    "Are the conclusions/recommendations clearly stated?\n",
    "\n",
    "Does the conclusion answer the original problem statement?\n",
    "\n",
    "Does the student address how findings of this research can be applied for the benefit of stakeholders?\n",
    "\n",
    "Are future steps to move the project forward identified?"
   ]
  }
 ],
 "metadata": {
  "kernelspec": {
   "display_name": "Python 3 (ipykernel)",
   "language": "python",
   "name": "python3"
  },
  "language_info": {
   "codemirror_mode": {
    "name": "ipython",
    "version": 3
   },
   "file_extension": ".py",
   "mimetype": "text/x-python",
   "name": "python",
   "nbconvert_exporter": "python",
   "pygments_lexer": "ipython3",
   "version": "3.9.12"
  }
 },
 "nbformat": 4,
 "nbformat_minor": 5
}
