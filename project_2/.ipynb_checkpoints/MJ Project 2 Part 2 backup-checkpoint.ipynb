{
 "cells": [
  {
   "cell_type": "markdown",
   "id": "82a48bdd",
   "metadata": {},
   "source": [
    "<img src=\"http://imgur.com/1ZcRyrc.png\" style=\"float: left; margin: 20px; height: 55px\">\n",
    "\n",
    "# Project 2: Regression Challenge ( Part 2 )\n"
   ]
  },
  {
   "cell_type": "markdown",
   "id": "eaaf3b75",
   "metadata": {},
   "source": [
    "## Part 2"
   ]
  },
  {
   "cell_type": "markdown",
   "id": "f87dafb0",
   "metadata": {},
   "source": [
    "\n",
    "\n",
    "Part 2 includes Model Selection, Running Models and Model Evaluation.\n",
    "\n",
    "Models we will run in this section would be the null model (benchmark), linear regression, ridge regression and lasso regression.\n",
    "\n",
    "The general flow of this part will be model prep, model fitting followed by an evaluation at the end.\n",
    "\n",
    "\n",
    "---"
   ]
  },
  {
   "cell_type": "markdown",
   "id": "89efcc5b",
   "metadata": {},
   "source": [
    "### Problem Statement Recap"
   ]
  },
  {
   "cell_type": "markdown",
   "id": "26ca4dc1",
   "metadata": {},
   "source": [
    "I am a data scientist working for an online property agency in the United States.  \n",
    "\n",
    "This online platform allows clients to put their properties on sale. When transactions are made, the company then takes a percentage of commission. As part of a new service, the company wishes to help clients properly value their properties and prevent our clients from being low-balled. When **clients make profits, the company also enjoys a higher commission** creating a win-win situation for both the company and its clients.  \n",
    "\n",
    "In view of the increase in property transactions in Ames, Iowa, the company is also looking to expand into Ames to take advantage of the increase in property transactions.\n",
    "\n",
    "As part of the Data Science team, I am tasked to build a regression model to predict sale prices of housing specifically in Ames, Iowa. Criterias given by the company includes that the model should have a **high R2 score (R-squared)** and a **low RMSE (Root Mean Squared Error)** as the cost of error can be huge to both **clients and the company**. Most importantly, the model should also be efficient and uses the **least amount of features** to predict housing prices in lieu of a cost-cutting measure."
   ]
  },
  {
   "cell_type": "markdown",
   "id": "5859eda3",
   "metadata": {},
   "source": [
    "---"
   ]
  },
  {
   "cell_type": "markdown",
   "id": "0347db41",
   "metadata": {},
   "source": [
    "\n",
    "In fulfilment to Project 2, we will only be using Regression models to predict housing prices. To evaluate these models, R2 Score (R-Squared) and RMSE (Root Mean Standard Error) will be used.\n",
    "\n",
    "**R2 Score** is a value between 0 to 1. For example, an r-squared of 0.6 reveals that 60% of the variability observed in the target variable is explained by the regression model.\n",
    "\n",
    "**For RMSE (Root Mean Standard Error), RMSE** can be interpreted as the standard deviation of the unexplained variance. It has the useful property of being in the same units as the response variable. Lower values of RMSE indicate better fit. For example a RMSE of 1 point means that the mean residuals of the predicted value is 1 point away from the actual value.\n"
   ]
  },
  {
   "cell_type": "markdown",
   "id": "3a59ee54",
   "metadata": {},
   "source": [
    "---"
   ]
  },
  {
   "cell_type": "markdown",
   "id": "bc220dce",
   "metadata": {},
   "source": [
    "## Importing Libraries"
   ]
  },
  {
   "cell_type": "markdown",
   "id": "ced2b5a9",
   "metadata": {},
   "source": [
    "###### \n"
   ]
  },
  {
   "cell_type": "code",
   "execution_count": 2,
   "id": "4b4cfb50",
   "metadata": {},
   "outputs": [],
   "source": [
    "## Importing Libraries\n",
    "\n",
    "import pandas as pd\n",
    "import numpy as np\n",
    "import matplotlib.pyplot as plt\n",
    "import seaborn as sns\n",
    "\n",
    "import statistics\n",
    "import statsmodels.api as sm\n",
    "import shap\n",
    "\n",
    "from sklearn.linear_model import LinearRegression, LassoCV, RidgeCV, ElasticNet\n",
    "from sklearn.preprocessing import PolynomialFeatures, StandardScaler\n",
    "from sklearn.model_selection import train_test_split, cross_val_score, cross_val_predict, GridSearchCV\n",
    "from sklearn.metrics import mean_squared_error, r2_score\n",
    "\n",
    "import warnings\n",
    "warnings.filterwarnings('ignore')"
   ]
  },
  {
   "cell_type": "code",
   "execution_count": 3,
   "id": "c4f737c0",
   "metadata": {},
   "outputs": [],
   "source": [
    "pd.set_option(\"display.max_rows\", 60)\n",
    "pd.set_option(\"display.max_columns\", 200)"
   ]
  },
  {
   "cell_type": "markdown",
   "id": "f20aef04",
   "metadata": {},
   "source": [
    "---"
   ]
  },
  {
   "cell_type": "markdown",
   "id": "ea83e382",
   "metadata": {},
   "source": [
    "## Data Import"
   ]
  },
  {
   "cell_type": "code",
   "execution_count": 4,
   "id": "f634dd84",
   "metadata": {},
   "outputs": [],
   "source": [
    "# reading final_df.csv dataset \n",
    "df = pd.read_csv('./datasets/final.csv')"
   ]
  },
  {
   "cell_type": "markdown",
   "id": "64bfd2ca",
   "metadata": {},
   "source": [
    "---"
   ]
  },
  {
   "cell_type": "markdown",
   "id": "7cc22697",
   "metadata": {},
   "source": [
    "## Model 1 : Sale Price as target variable"
   ]
  },
  {
   "cell_type": "markdown",
   "id": "86db625f",
   "metadata": {},
   "source": [
    "---"
   ]
  },
  {
   "cell_type": "markdown",
   "id": "d1c640c4",
   "metadata": {},
   "source": [
    "### Model Prep"
   ]
  },
  {
   "cell_type": "markdown",
   "id": "4701c58d",
   "metadata": {},
   "source": [
    "Every column (that is not our dependent variable) will be used as a feature.\n",
    "\n",
    "The `saleprice` column is our dependent variable: It represents the Sale Price. \n",
    "\n",
    "In the cell below, create your `X` and `y` variables."
   ]
  },
  {
   "cell_type": "markdown",
   "id": "f4bf3c5a",
   "metadata": {},
   "source": [
    "###### Create our features matrix (`X`) and target vector (`y`)"
   ]
  },
  {
   "cell_type": "code",
   "execution_count": 5,
   "id": "bd6fd771",
   "metadata": {},
   "outputs": [],
   "source": [
    "X = df.drop(columns=['saleprice','cbrt_saleprice'])"
   ]
  },
  {
   "cell_type": "code",
   "execution_count": 6,
   "id": "49047cae",
   "metadata": {},
   "outputs": [],
   "source": [
    "y = df['saleprice']"
   ]
  },
  {
   "cell_type": "markdown",
   "id": "159b1617",
   "metadata": {},
   "source": [
    "###### Train/test split"
   ]
  },
  {
   "cell_type": "markdown",
   "id": "6b7b0053",
   "metadata": {},
   "source": [
    "We always want to have a holdout set to test our model. Here, we are using the `train_test_split` function to split our `X` and `y` variables into a training set and a holdout set."
   ]
  },
  {
   "cell_type": "code",
   "execution_count": 7,
   "id": "036ea14b",
   "metadata": {},
   "outputs": [],
   "source": [
    "X_train, X_test, y_train, y_test = train_test_split(X, y, random_state=42)"
   ]
  },
  {
   "cell_type": "markdown",
   "id": "7160e13b",
   "metadata": {},
   "source": [
    "###### Scaling"
   ]
  },
  {
   "cell_type": "markdown",
   "id": "79a6ebf5",
   "metadata": {},
   "source": [
    "Since we're also using `Lasso` and `Ridge`, we'll want to scale our features. In the cell below, fit a `StandardScaler` to `X_train` and use it to transform both `X_train` and `X_test`."
   ]
  },
  {
   "cell_type": "code",
   "execution_count": 8,
   "id": "caf0af2a",
   "metadata": {},
   "outputs": [],
   "source": [
    "ss = StandardScaler()\n",
    "# set a scale\n",
    "ss.fit(X_train)\n",
    "# apply scale to x_train\n",
    "X_train_sc = ss.transform(X_train)\n",
    "# apply scale to x_test\n",
    "X_test_sc = ss.transform(X_test)"
   ]
  },
  {
   "cell_type": "markdown",
   "id": "8cd4d11b",
   "metadata": {},
   "source": [
    "---"
   ]
  },
  {
   "cell_type": "markdown",
   "id": "3c9e6cdc",
   "metadata": {},
   "source": [
    "### Linear Regression"
   ]
  },
  {
   "cell_type": "markdown",
   "id": "e3d81f06",
   "metadata": {},
   "source": [
    "#### Instantiate Linear Regression"
   ]
  },
  {
   "cell_type": "code",
   "execution_count": 9,
   "id": "20d04129",
   "metadata": {},
   "outputs": [],
   "source": [
    "lr = LinearRegression()"
   ]
  },
  {
   "cell_type": "markdown",
   "id": "5affb5b7",
   "metadata": {},
   "source": [
    "###### Model Fitting"
   ]
  },
  {
   "cell_type": "code",
   "execution_count": 10,
   "id": "cd6e7c1a",
   "metadata": {},
   "outputs": [
    {
     "data": {
      "text/plain": [
       "LinearRegression()"
      ]
     },
     "execution_count": 10,
     "metadata": {},
     "output_type": "execute_result"
    }
   ],
   "source": [
    "lr.fit(X_train_sc, y_train)"
   ]
  },
  {
   "cell_type": "markdown",
   "id": "570f43f4",
   "metadata": {},
   "source": [
    "### Evaluation"
   ]
  },
  {
   "cell_type": "markdown",
   "id": "a364b101",
   "metadata": {},
   "source": [
    "###### R2 Score"
   ]
  },
  {
   "cell_type": "code",
   "execution_count": 11,
   "id": "545b8d38",
   "metadata": {},
   "outputs": [
    {
     "data": {
      "text/plain": [
       "0.9050796401722168"
      ]
     },
     "execution_count": 11,
     "metadata": {},
     "output_type": "execute_result"
    }
   ],
   "source": [
    "# R2 score of train x and train y\n",
    "lr.score(X_train_sc, y_train)"
   ]
  },
  {
   "cell_type": "code",
   "execution_count": 12,
   "id": "ad36bb0b",
   "metadata": {
    "scrolled": false
   },
   "outputs": [
    {
     "data": {
      "text/plain": [
       "-1.743209750683083e+23"
      ]
     },
     "execution_count": 12,
     "metadata": {},
     "output_type": "execute_result"
    }
   ],
   "source": [
    "# R2 score of test x and test y\n",
    "lr.score(X_test_sc, y_test)"
   ]
  },
  {
   "cell_type": "markdown",
   "id": "2ee58486",
   "metadata": {},
   "source": [
    "Based on the R2 score of the train and test, we can evaluate that the linear model has overfitted itself to the training dataset which resulted in the high R2 score for the train dataset. However, when we look at the R2 score of the test dataset, we can see that the value is actually in the negative. This means that we would have to look into regularisation methods to better fit the regression line."
   ]
  },
  {
   "cell_type": "markdown",
   "id": "1c2063dc",
   "metadata": {},
   "source": [
    "###### RMSE"
   ]
  },
  {
   "cell_type": "code",
   "execution_count": 13,
   "id": "7d6faba1",
   "metadata": {},
   "outputs": [],
   "source": [
    "pred = lr.predict(X_test_sc)"
   ]
  },
  {
   "cell_type": "code",
   "execution_count": 14,
   "id": "a136734e",
   "metadata": {
    "scrolled": false
   },
   "outputs": [
    {
     "data": {
      "text/plain": [
       "3.249106718842008e+16"
      ]
     },
     "execution_count": 14,
     "metadata": {},
     "output_type": "execute_result"
    }
   ],
   "source": [
    "mean_squared_error(y_test, pred, squared=False)"
   ]
  },
  {
   "cell_type": "markdown",
   "id": "5ce7aed5",
   "metadata": {},
   "source": [
    "The Root Mean Square Error is also an insane value."
   ]
  },
  {
   "cell_type": "markdown",
   "id": "aec0a219",
   "metadata": {},
   "source": [
    "---"
   ]
  },
  {
   "cell_type": "markdown",
   "id": "b5fb47a3",
   "metadata": {},
   "source": [
    "### Regularisation"
   ]
  },
  {
   "cell_type": "markdown",
   "id": "b99d0fb3",
   "metadata": {},
   "source": [
    "In the following section, we will be looking at two types of regularisation, the Ridge and the Lasso. Regularization refers to techniques that are used to calibrate machine learning models in order to minimize the adjusted loss function and prevent overfitting or underfitting. Using Regularization, we can fit our machine learning model appropriately on a given test set and hence reduce the errors in it."
   ]
  },
  {
   "cell_type": "markdown",
   "id": "5f53f7a7",
   "metadata": {},
   "source": [
    "---"
   ]
  },
  {
   "cell_type": "markdown",
   "id": "c2bfe401",
   "metadata": {},
   "source": [
    "### Ridge Regression"
   ]
  },
  {
   "cell_type": "markdown",
   "id": "358fe829",
   "metadata": {},
   "source": [
    "#### Instantiate Ridge Regression"
   ]
  },
  {
   "cell_type": "code",
   "execution_count": 15,
   "id": "b425b16c",
   "metadata": {},
   "outputs": [],
   "source": [
    "ridge = RidgeCV(alphas=np.linspace(.1, 10, 100))"
   ]
  },
  {
   "cell_type": "markdown",
   "id": "3ed5a29f",
   "metadata": {},
   "source": [
    "###### Model Fitting"
   ]
  },
  {
   "cell_type": "code",
   "execution_count": 16,
   "id": "4f1d8479",
   "metadata": {
    "scrolled": false
   },
   "outputs": [
    {
     "data": {
      "text/plain": [
       "RidgeCV(alphas=array([ 0.1,  0.2,  0.3,  0.4,  0.5,  0.6,  0.7,  0.8,  0.9,  1. ,  1.1,\n",
       "        1.2,  1.3,  1.4,  1.5,  1.6,  1.7,  1.8,  1.9,  2. ,  2.1,  2.2,\n",
       "        2.3,  2.4,  2.5,  2.6,  2.7,  2.8,  2.9,  3. ,  3.1,  3.2,  3.3,\n",
       "        3.4,  3.5,  3.6,  3.7,  3.8,  3.9,  4. ,  4.1,  4.2,  4.3,  4.4,\n",
       "        4.5,  4.6,  4.7,  4.8,  4.9,  5. ,  5.1,  5.2,  5.3,  5.4,  5.5,\n",
       "        5.6,  5.7,  5.8,  5.9,  6. ,  6.1,  6.2,  6.3,  6.4,  6.5,  6.6,\n",
       "        6.7,  6.8,  6.9,  7. ,  7.1,  7.2,  7.3,  7.4,  7.5,  7.6,  7.7,\n",
       "        7.8,  7.9,  8. ,  8.1,  8.2,  8.3,  8.4,  8.5,  8.6,  8.7,  8.8,\n",
       "        8.9,  9. ,  9.1,  9.2,  9.3,  9.4,  9.5,  9.6,  9.7,  9.8,  9.9,\n",
       "       10. ]))"
      ]
     },
     "execution_count": 16,
     "metadata": {},
     "output_type": "execute_result"
    }
   ],
   "source": [
    "ridge.fit(X_train_sc, y_train)"
   ]
  },
  {
   "cell_type": "markdown",
   "id": "3dd17d0e",
   "metadata": {},
   "source": [
    "### Evaluation"
   ]
  },
  {
   "cell_type": "markdown",
   "id": "4364133c",
   "metadata": {},
   "source": [
    "###### R2 Score"
   ]
  },
  {
   "cell_type": "code",
   "execution_count": 17,
   "id": "60321397",
   "metadata": {},
   "outputs": [
    {
     "data": {
      "text/plain": [
       "0.9050491963510007"
      ]
     },
     "execution_count": 17,
     "metadata": {},
     "output_type": "execute_result"
    }
   ],
   "source": [
    "ridge.score(X_train_sc, y_train)"
   ]
  },
  {
   "cell_type": "code",
   "execution_count": 18,
   "id": "28126480",
   "metadata": {
    "scrolled": true
   },
   "outputs": [
    {
     "data": {
      "text/plain": [
       "0.8881623623863141"
      ]
     },
     "execution_count": 18,
     "metadata": {},
     "output_type": "execute_result"
    }
   ],
   "source": [
    "ridge.score(X_test_sc, y_test)"
   ]
  },
  {
   "cell_type": "markdown",
   "id": "9f1ed274",
   "metadata": {},
   "source": [
    "After using ridge regularisation, we can see that the R2 are looking better. The R2 score on the train and test dataset falls within the acceptable range of 0.1."
   ]
  },
  {
   "cell_type": "markdown",
   "id": "5931067f",
   "metadata": {},
   "source": [
    "###### RMSE"
   ]
  },
  {
   "cell_type": "code",
   "execution_count": 19,
   "id": "cafa3b67",
   "metadata": {},
   "outputs": [],
   "source": [
    "pred = ridge.predict(X_test_sc)"
   ]
  },
  {
   "cell_type": "code",
   "execution_count": 20,
   "id": "e67817af",
   "metadata": {
    "scrolled": true
   },
   "outputs": [
    {
     "data": {
      "text/plain": [
       "26024.54500636818"
      ]
     },
     "execution_count": 20,
     "metadata": {},
     "output_type": "execute_result"
    }
   ],
   "source": [
    "mean_squared_error(y_test, pred, squared=False)"
   ]
  },
  {
   "cell_type": "markdown",
   "id": "9a0e624d",
   "metadata": {},
   "source": [
    "There is a root mean square error of 26,024 , this means that on average, the model predicts sale price \\$26,024 away from the actual sale price. "
   ]
  },
  {
   "cell_type": "markdown",
   "id": "a1d6ddd8",
   "metadata": {},
   "source": [
    "---"
   ]
  },
  {
   "cell_type": "markdown",
   "id": "c15aa6e0",
   "metadata": {},
   "source": [
    "### Lasso Regression"
   ]
  },
  {
   "cell_type": "markdown",
   "id": "f04fdd4b",
   "metadata": {},
   "source": [
    "#### Instantiate Lasso Regression"
   ]
  },
  {
   "cell_type": "code",
   "execution_count": 21,
   "id": "ddd6962d",
   "metadata": {},
   "outputs": [],
   "source": [
    "lasso = LassoCV(n_alphas=100)"
   ]
  },
  {
   "cell_type": "markdown",
   "id": "3ca5f196",
   "metadata": {},
   "source": [
    "###### Model Fitting"
   ]
  },
  {
   "cell_type": "code",
   "execution_count": 22,
   "id": "5965c105",
   "metadata": {
    "scrolled": true
   },
   "outputs": [
    {
     "data": {
      "text/plain": [
       "LassoCV()"
      ]
     },
     "execution_count": 22,
     "metadata": {},
     "output_type": "execute_result"
    }
   ],
   "source": [
    "lasso.fit(X_train_sc, y_train)"
   ]
  },
  {
   "cell_type": "markdown",
   "id": "6382dd94",
   "metadata": {},
   "source": [
    "### Evaluation"
   ]
  },
  {
   "cell_type": "markdown",
   "id": "4abe6ed6",
   "metadata": {},
   "source": [
    "###### R2 Score"
   ]
  },
  {
   "cell_type": "code",
   "execution_count": 23,
   "id": "0be272f2",
   "metadata": {},
   "outputs": [
    {
     "data": {
      "text/plain": [
       "0.8836386847535269"
      ]
     },
     "execution_count": 23,
     "metadata": {},
     "output_type": "execute_result"
    }
   ],
   "source": [
    "lasso.score(X_train_sc, y_train)"
   ]
  },
  {
   "cell_type": "code",
   "execution_count": 24,
   "id": "db003a61",
   "metadata": {
    "scrolled": false
   },
   "outputs": [
    {
     "data": {
      "text/plain": [
       "0.8778751386520941"
      ]
     },
     "execution_count": 24,
     "metadata": {},
     "output_type": "execute_result"
    }
   ],
   "source": [
    "lasso.score(X_test_sc, y_test)"
   ]
  },
  {
   "cell_type": "markdown",
   "id": "53e355ac",
   "metadata": {},
   "source": [
    "After using lasso regularisation, we can see that the R2 are looking better. The R2 score on the train and test dataset falls within the acceptable range of 0.1. "
   ]
  },
  {
   "cell_type": "markdown",
   "id": "a0f0917c",
   "metadata": {},
   "source": [
    "###### RMSE"
   ]
  },
  {
   "cell_type": "code",
   "execution_count": 25,
   "id": "37d34b26",
   "metadata": {},
   "outputs": [],
   "source": [
    "pred = lasso.predict(X_test_sc)"
   ]
  },
  {
   "cell_type": "code",
   "execution_count": 26,
   "id": "764ea93a",
   "metadata": {
    "scrolled": false
   },
   "outputs": [
    {
     "data": {
      "text/plain": [
       "27195.13348343027"
      ]
     },
     "execution_count": 26,
     "metadata": {},
     "output_type": "execute_result"
    }
   ],
   "source": [
    "mean_squared_error(y_test, pred, squared=False)"
   ]
  },
  {
   "cell_type": "markdown",
   "id": "9b953765",
   "metadata": {},
   "source": [
    "There is a root mean square error of 27,129 , this means that on average, the model predicts sale price \\$27,129 away from the actual sale price. "
   ]
  },
  {
   "cell_type": "markdown",
   "id": "1a722b71",
   "metadata": {},
   "source": [
    "###### Hyperparameter Tuning"
   ]
  },
  {
   "cell_type": "code",
   "execution_count": 27,
   "id": "b4fb9ed6",
   "metadata": {},
   "outputs": [],
   "source": [
    "params = {\"n_alphas\":[200,300,400,500]}\n",
    "model = GridSearchCV(lasso, params, cv=5)"
   ]
  },
  {
   "cell_type": "code",
   "execution_count": 28,
   "id": "f1556096",
   "metadata": {
    "scrolled": true
   },
   "outputs": [
    {
     "data": {
      "text/plain": [
       "{'n_alphas': 200}"
      ]
     },
     "execution_count": 28,
     "metadata": {},
     "output_type": "execute_result"
    }
   ],
   "source": [
    "model.fit(X_train_sc, y_train)\n",
    "model.best_params_"
   ]
  },
  {
   "cell_type": "markdown",
   "id": "125781d1",
   "metadata": {},
   "source": [
    "After using gridsearch, we found out at the current 'n_alphas' used is the most optimum 'n_alphas'"
   ]
  },
  {
   "cell_type": "markdown",
   "id": "737db04e",
   "metadata": {},
   "source": [
    "---"
   ]
  },
  {
   "cell_type": "markdown",
   "id": "255cb811",
   "metadata": {},
   "source": [
    "### Model 1 Evaluation Results"
   ]
  },
  {
   "cell_type": "markdown",
   "id": "aeb4ad38",
   "metadata": {},
   "source": [
    "| Model | Train Score (R2) | Test Score (R2) | Root Mean Squared Error ($) | No. of Features | \n",
    "| --- | --- | --- | --- | --- |\n",
    "| Linear | 0.9050 | -1.7432 | 3.2491**e+16** | 155 |\n",
    "| Ridge | 0.9050 | 0.8881 | 26024.54 | 155 |\n",
    "| Lasso | 0.8845 | 0.8784 | 27129.48 | 155 |"
   ]
  },
  {
   "cell_type": "markdown",
   "id": "23057702",
   "metadata": {},
   "source": [
    "Based on the evaluation results of model 1, we can see that the ridge regression is actually the best performing model out of the three models explored. Therefore, we will be using that as our benchmark as we move to Model 2. Although the results does not look too bad, I believe that the Root Mean Squared Error can and should be lowered. A \\$26,000 error is still costly to all our stakeholders."
   ]
  },
  {
   "cell_type": "markdown",
   "id": "70c78231",
   "metadata": {},
   "source": [
    "###### BenchMark Model"
   ]
  },
  {
   "cell_type": "markdown",
   "id": "a76daa43",
   "metadata": {},
   "source": [
    "| Model | Train Score (R2) | Test Score (R2) | Root Mean Squared Error | No. of Features |\n",
    "| --- | --- | --- | --- | --- |\n",
    "| Ridge | 0.9050 | 0.8881 | 26024.54 | 155 |"
   ]
  },
  {
   "cell_type": "markdown",
   "id": "1ea43df2",
   "metadata": {},
   "source": [
    "This is our bench mark model and we will be comparing model 2 against it."
   ]
  },
  {
   "cell_type": "markdown",
   "id": "74fbc3a2",
   "metadata": {},
   "source": [
    "---"
   ]
  },
  {
   "cell_type": "markdown",
   "id": "3f5216fa",
   "metadata": {},
   "source": [
    "## Model 2 : Cuberoot Sale Price as target variable"
   ]
  },
  {
   "cell_type": "markdown",
   "id": "b998ffa4",
   "metadata": {},
   "source": [
    "In model 2, we will be investigating whether using the cuberoot sale price would allow us to get a higher R2 score and lower RMSE. **We will also have to keep in mind that the predicted value would be in cuberoot of sale price.**"
   ]
  },
  {
   "cell_type": "markdown",
   "id": "a3851e0a",
   "metadata": {},
   "source": [
    "---"
   ]
  },
  {
   "cell_type": "markdown",
   "id": "4175b14b",
   "metadata": {},
   "source": [
    "### Model Prep"
   ]
  },
  {
   "cell_type": "markdown",
   "id": "40f9b56c",
   "metadata": {},
   "source": [
    "Every column (that is not our dependent variable) will be used as a feature.\n",
    "\n",
    "The `cbrt_saleprice` column is our dependent variable: It represents the Cuberoot of Sale Price. \n",
    "\n",
    "In the cell below, create your `X` and `y` variables."
   ]
  },
  {
   "cell_type": "markdown",
   "id": "77c8de85",
   "metadata": {},
   "source": [
    "###### Create our features matrix (`X`) and target vector (`y`)"
   ]
  },
  {
   "cell_type": "code",
   "execution_count": 29,
   "id": "9d126407",
   "metadata": {},
   "outputs": [],
   "source": [
    "X = df.drop(columns=['saleprice','cbrt_saleprice'])"
   ]
  },
  {
   "cell_type": "code",
   "execution_count": 30,
   "id": "b58e0722",
   "metadata": {},
   "outputs": [],
   "source": [
    "y = df['cbrt_saleprice']"
   ]
  },
  {
   "cell_type": "markdown",
   "id": "e2762e3a",
   "metadata": {},
   "source": [
    "###### Train/test split"
   ]
  },
  {
   "cell_type": "markdown",
   "id": "07733222",
   "metadata": {},
   "source": [
    "We always want to have a holdout set to test our model. Here, we are using the `train_test_split` function to split our `X` and `y` variables into a training set and a holdout set."
   ]
  },
  {
   "cell_type": "code",
   "execution_count": 31,
   "id": "d31d429e",
   "metadata": {},
   "outputs": [],
   "source": [
    "X_train, X_test, y_train, y_test = train_test_split(X, y, random_state=42)"
   ]
  },
  {
   "cell_type": "markdown",
   "id": "5c7457cb",
   "metadata": {},
   "source": [
    "###### Scaling"
   ]
  },
  {
   "cell_type": "markdown",
   "id": "7e0e2e65",
   "metadata": {},
   "source": [
    "Since we're also using `Lasso` and `Ridge`, we'll want to scale our features. In the cell below, fit a `StandardScaler` to `X_train` and use it to transform both `X_train` and `X_test`."
   ]
  },
  {
   "cell_type": "code",
   "execution_count": 32,
   "id": "5e3cd153",
   "metadata": {},
   "outputs": [],
   "source": [
    "ss = StandardScaler()\n",
    "# set a scale\n",
    "ss.fit(X_train)\n",
    "# apply scale to x_train\n",
    "X_train_sc = ss.transform(X_train)\n",
    "# apply scale to x_test\n",
    "X_test_sc = ss.transform(X_test)"
   ]
  },
  {
   "cell_type": "markdown",
   "id": "3608f432",
   "metadata": {},
   "source": [
    "---"
   ]
  },
  {
   "cell_type": "markdown",
   "id": "ed14bb98",
   "metadata": {},
   "source": [
    "### Linear Regression"
   ]
  },
  {
   "cell_type": "markdown",
   "id": "bd3545f6",
   "metadata": {},
   "source": [
    "#### Instantiate Linear Regression"
   ]
  },
  {
   "cell_type": "code",
   "execution_count": 33,
   "id": "a32a8760",
   "metadata": {},
   "outputs": [],
   "source": [
    "lr = LinearRegression()"
   ]
  },
  {
   "cell_type": "markdown",
   "id": "a7f21a76",
   "metadata": {},
   "source": [
    "#### Model Fitting"
   ]
  },
  {
   "cell_type": "code",
   "execution_count": 34,
   "id": "6741edae",
   "metadata": {},
   "outputs": [
    {
     "data": {
      "text/plain": [
       "LinearRegression()"
      ]
     },
     "execution_count": 34,
     "metadata": {},
     "output_type": "execute_result"
    }
   ],
   "source": [
    "lr.fit(X_train_sc, y_train)"
   ]
  },
  {
   "cell_type": "markdown",
   "id": "1d26ce23",
   "metadata": {},
   "source": [
    "#### Evaluation"
   ]
  },
  {
   "cell_type": "markdown",
   "id": "66e19d68",
   "metadata": {},
   "source": [
    "###### R2 Score"
   ]
  },
  {
   "cell_type": "code",
   "execution_count": 35,
   "id": "45d4dadb",
   "metadata": {},
   "outputs": [
    {
     "data": {
      "text/plain": [
       "0.9297524048486945"
      ]
     },
     "execution_count": 35,
     "metadata": {},
     "output_type": "execute_result"
    }
   ],
   "source": [
    "# R2 score of train x and train y\n",
    "lr.score(X_train_sc, y_train)"
   ]
  },
  {
   "cell_type": "code",
   "execution_count": 36,
   "id": "d259e13d",
   "metadata": {
    "scrolled": true
   },
   "outputs": [
    {
     "data": {
      "text/plain": [
       "-3.807139433299859e+22"
      ]
     },
     "execution_count": 36,
     "metadata": {},
     "output_type": "execute_result"
    }
   ],
   "source": [
    "# R2 score of test x and test y\n",
    "lr.score(X_test_sc, y_test)"
   ]
  },
  {
   "cell_type": "markdown",
   "id": "ba65bc9d",
   "metadata": {},
   "source": [
    "Based on the R2 score alone, we can see that the linear regression model performs pretty well on the train dataset with a R2 score of 0.93 (rounded to 2d.p.). However, the model performs badly on the test dataset, with a R2 score of -3.81 (rounded to 2d.p.).\n",
    "\n",
    "This means that the linear regression model has overfitted itself to the train dataset and is unable to perform on the test dataset."
   ]
  },
  {
   "cell_type": "markdown",
   "id": "0ecad5f4",
   "metadata": {},
   "source": [
    "###### RMSE "
   ]
  },
  {
   "cell_type": "code",
   "execution_count": 37,
   "id": "7dfb80fa",
   "metadata": {},
   "outputs": [],
   "source": [
    "pred = lr.predict(X_test_sc)"
   ]
  },
  {
   "cell_type": "code",
   "execution_count": 38,
   "id": "cd37a74d",
   "metadata": {},
   "outputs": [
    {
     "data": {
      "text/plain": [
       "1437406350339.0186"
      ]
     },
     "execution_count": 38,
     "metadata": {},
     "output_type": "execute_result"
    }
   ],
   "source": [
    "mean_squared_error(y_test, pred, squared=False)"
   ]
  },
  {
   "cell_type": "code",
   "execution_count": 39,
   "id": "d97b184d",
   "metadata": {
    "scrolled": true
   },
   "outputs": [
    {
     "data": {
      "text/plain": [
       "2.9698784674616333e+36"
      ]
     },
     "execution_count": 39,
     "metadata": {},
     "output_type": "execute_result"
    }
   ],
   "source": [
    "# to obtain the actual value of the Root Mean Square Error, we will have to cube this value\n",
    "np.power(mean_squared_error(y_test, pred, squared=False), 3)"
   ]
  },
  {
   "cell_type": "markdown",
   "id": "c09e3c69",
   "metadata": {},
   "source": [
    "As we are now using the cuberoot of sale price, we will have to cube the Root Mean Square Error to convert it back to monetary value. All of the RMSE in Model 2 will be cubed for better comparison with the bench mark model. The RMSE of the linear regression model also returns an insane value."
   ]
  },
  {
   "cell_type": "markdown",
   "id": "aea6111b",
   "metadata": {},
   "source": [
    "We can safely conclude that the **linear regression does not surpass our benchmark**.\n",
    "\n",
    "This also means that there are features with **multi-collinearity** which requires regularisation."
   ]
  },
  {
   "cell_type": "markdown",
   "id": "8ca4b0a2",
   "metadata": {},
   "source": [
    "---"
   ]
  },
  {
   "cell_type": "markdown",
   "id": "152486f1",
   "metadata": {},
   "source": [
    "### Regularisation"
   ]
  },
  {
   "cell_type": "markdown",
   "id": "7bda0b5a",
   "metadata": {},
   "source": [
    "In the following section, we will be looking at two types of regularisation, the Ridge and the Lasso. Regularization refers to techniques that are used to calibrate machine learning models in order to minimize the adjusted loss function and prevent overfitting or underfitting. Using Regularization, we can fit our machine learning model appropriately on a given test set and hence reduce the errors in it."
   ]
  },
  {
   "cell_type": "markdown",
   "id": "f3f5f759",
   "metadata": {},
   "source": [
    "---"
   ]
  },
  {
   "cell_type": "markdown",
   "id": "a30bf8cd",
   "metadata": {},
   "source": [
    "### Ridge Regression"
   ]
  },
  {
   "cell_type": "markdown",
   "id": "357a6da9",
   "metadata": {},
   "source": [
    "L2 regularization, or the L2 norm, or Ridge (in regression problems), combats overfitting by forcing weights to be small, but not making them exactly 0. "
   ]
  },
  {
   "cell_type": "markdown",
   "id": "ce8205ce",
   "metadata": {},
   "source": [
    "#### Instantiate Ridge Regression"
   ]
  },
  {
   "cell_type": "code",
   "execution_count": 40,
   "id": "a6a8d353",
   "metadata": {},
   "outputs": [],
   "source": [
    "ridge = RidgeCV(alphas=np.linspace(.1, 10, 100))"
   ]
  },
  {
   "cell_type": "markdown",
   "id": "1eb91b43",
   "metadata": {},
   "source": [
    "#### Model Fitting"
   ]
  },
  {
   "cell_type": "code",
   "execution_count": 41,
   "id": "eddc6243",
   "metadata": {},
   "outputs": [
    {
     "data": {
      "text/plain": [
       "RidgeCV(alphas=array([ 0.1,  0.2,  0.3,  0.4,  0.5,  0.6,  0.7,  0.8,  0.9,  1. ,  1.1,\n",
       "        1.2,  1.3,  1.4,  1.5,  1.6,  1.7,  1.8,  1.9,  2. ,  2.1,  2.2,\n",
       "        2.3,  2.4,  2.5,  2.6,  2.7,  2.8,  2.9,  3. ,  3.1,  3.2,  3.3,\n",
       "        3.4,  3.5,  3.6,  3.7,  3.8,  3.9,  4. ,  4.1,  4.2,  4.3,  4.4,\n",
       "        4.5,  4.6,  4.7,  4.8,  4.9,  5. ,  5.1,  5.2,  5.3,  5.4,  5.5,\n",
       "        5.6,  5.7,  5.8,  5.9,  6. ,  6.1,  6.2,  6.3,  6.4,  6.5,  6.6,\n",
       "        6.7,  6.8,  6.9,  7. ,  7.1,  7.2,  7.3,  7.4,  7.5,  7.6,  7.7,\n",
       "        7.8,  7.9,  8. ,  8.1,  8.2,  8.3,  8.4,  8.5,  8.6,  8.7,  8.8,\n",
       "        8.9,  9. ,  9.1,  9.2,  9.3,  9.4,  9.5,  9.6,  9.7,  9.8,  9.9,\n",
       "       10. ]))"
      ]
     },
     "execution_count": 41,
     "metadata": {},
     "output_type": "execute_result"
    }
   ],
   "source": [
    "ridge.fit(X_train_sc, y_train)"
   ]
  },
  {
   "cell_type": "markdown",
   "id": "eeca74db",
   "metadata": {},
   "source": [
    "#### Evaluation"
   ]
  },
  {
   "cell_type": "markdown",
   "id": "5bb30d0c",
   "metadata": {},
   "source": [
    "###### R2 Score"
   ]
  },
  {
   "cell_type": "code",
   "execution_count": 42,
   "id": "b7fef9a4",
   "metadata": {},
   "outputs": [
    {
     "data": {
      "text/plain": [
       "0.9298480965924432"
      ]
     },
     "execution_count": 42,
     "metadata": {},
     "output_type": "execute_result"
    }
   ],
   "source": [
    "# R2 score of train x and train y\n",
    "ridge.score(X_train_sc, y_train)"
   ]
  },
  {
   "cell_type": "code",
   "execution_count": 43,
   "id": "74f6f193",
   "metadata": {
    "scrolled": true
   },
   "outputs": [
    {
     "data": {
      "text/plain": [
       "0.9109050020668472"
      ]
     },
     "execution_count": 43,
     "metadata": {},
     "output_type": "execute_result"
    }
   ],
   "source": [
    "# R2 score of test x and test y\n",
    "ridge.score(X_test_sc, y_test)"
   ]
  },
  {
   "cell_type": "markdown",
   "id": "9d4df990",
   "metadata": {},
   "source": [
    "Based on the R2 score of the train and test dataset, we can see that they are actually quite similar. Therefore, after regularisation, we can see that there is less overfitting."
   ]
  },
  {
   "cell_type": "markdown",
   "id": "212169e5",
   "metadata": {},
   "source": [
    "###### RMSE "
   ]
  },
  {
   "cell_type": "code",
   "execution_count": 44,
   "id": "3755d8d8",
   "metadata": {},
   "outputs": [],
   "source": [
    "pred = ridge.predict(X_test_sc)"
   ]
  },
  {
   "cell_type": "code",
   "execution_count": 45,
   "id": "1afb9cf5",
   "metadata": {
    "scrolled": true
   },
   "outputs": [
    {
     "data": {
      "text/plain": [
       "2.198906833158874"
      ]
     },
     "execution_count": 45,
     "metadata": {},
     "output_type": "execute_result"
    }
   ],
   "source": [
    "mean_squared_error(y_test, pred, squared=False)"
   ]
  },
  {
   "cell_type": "code",
   "execution_count": 46,
   "id": "d027f28f",
   "metadata": {},
   "outputs": [
    {
     "data": {
      "text/plain": [
       "10.632135103251201"
      ]
     },
     "execution_count": 46,
     "metadata": {},
     "output_type": "execute_result"
    }
   ],
   "source": [
    "# to obtain the actual value of the Root Mean Square Error, we will have to cube this value.\n",
    "np.power(mean_squared_error(y_test, pred, squared=False), 3)"
   ]
  },
  {
   "cell_type": "markdown",
   "id": "09cbed21",
   "metadata": {},
   "source": [
    "---"
   ]
  },
  {
   "cell_type": "markdown",
   "id": "68decc4e",
   "metadata": {},
   "source": [
    "### Lasso Regression"
   ]
  },
  {
   "cell_type": "markdown",
   "id": "760f13e7",
   "metadata": {},
   "source": [
    "L1 regularization, also known as L1 norm or Lasso (in regression problems), combats overfitting by shrinking the parameters towards 0. This makes some features obsolete. "
   ]
  },
  {
   "cell_type": "markdown",
   "id": "97b89a9e",
   "metadata": {},
   "source": [
    "#### Instantiate Lasso Regression"
   ]
  },
  {
   "cell_type": "code",
   "execution_count": 47,
   "id": "c5b28325",
   "metadata": {},
   "outputs": [],
   "source": [
    "lasso = LassoCV(n_alphas=200)"
   ]
  },
  {
   "cell_type": "markdown",
   "id": "9ac7d062",
   "metadata": {},
   "source": [
    "#### Model Fitting"
   ]
  },
  {
   "cell_type": "code",
   "execution_count": 48,
   "id": "69d9d060",
   "metadata": {},
   "outputs": [
    {
     "data": {
      "text/plain": [
       "LassoCV(n_alphas=200)"
      ]
     },
     "execution_count": 48,
     "metadata": {},
     "output_type": "execute_result"
    }
   ],
   "source": [
    "lasso.fit(X_train_sc, y_train)"
   ]
  },
  {
   "cell_type": "markdown",
   "id": "daad49e0",
   "metadata": {},
   "source": [
    "#### Evaluation"
   ]
  },
  {
   "cell_type": "markdown",
   "id": "a0be60a4",
   "metadata": {},
   "source": [
    "###### R2 Score"
   ]
  },
  {
   "cell_type": "code",
   "execution_count": 49,
   "id": "d1b58fc5",
   "metadata": {},
   "outputs": [
    {
     "data": {
      "text/plain": [
       "0.9134111402279966"
      ]
     },
     "execution_count": 49,
     "metadata": {},
     "output_type": "execute_result"
    }
   ],
   "source": [
    "# R2 score of train x and train y\n",
    "lasso.score(X_train_sc, y_train)"
   ]
  },
  {
   "cell_type": "code",
   "execution_count": 50,
   "id": "0d1f13d2",
   "metadata": {},
   "outputs": [
    {
     "data": {
      "text/plain": [
       "0.9082658638554075"
      ]
     },
     "execution_count": 50,
     "metadata": {},
     "output_type": "execute_result"
    }
   ],
   "source": [
    "# R2 score of test x and test y\n",
    "lasso.score(X_test_sc, y_test)"
   ]
  },
  {
   "cell_type": "markdown",
   "id": "56db262c",
   "metadata": {},
   "source": [
    "Similar to ridge regression, we can see that there is lesser overfitting after regularisation."
   ]
  },
  {
   "cell_type": "markdown",
   "id": "c865e6d1",
   "metadata": {},
   "source": [
    "###### RMSE "
   ]
  },
  {
   "cell_type": "code",
   "execution_count": 51,
   "id": "f8407548",
   "metadata": {},
   "outputs": [],
   "source": [
    "pred = lasso.predict(X_test_sc)"
   ]
  },
  {
   "cell_type": "code",
   "execution_count": 52,
   "id": "e2c5b747",
   "metadata": {
    "scrolled": false
   },
   "outputs": [
    {
     "data": {
      "text/plain": [
       "2.231236755966193"
      ]
     },
     "execution_count": 52,
     "metadata": {},
     "output_type": "execute_result"
    }
   ],
   "source": [
    "mean_squared_error(y_test, pred, squared=False)"
   ]
  },
  {
   "cell_type": "code",
   "execution_count": 53,
   "id": "33e0e141",
   "metadata": {
    "scrolled": true
   },
   "outputs": [
    {
     "data": {
      "text/plain": [
       "11.108028025916536"
      ]
     },
     "execution_count": 53,
     "metadata": {},
     "output_type": "execute_result"
    }
   ],
   "source": [
    "# to obtain the actual value of the Root Mean Square Error, we will have to cube this value.\n",
    "np.power(mean_squared_error(y_test, pred, squared=False), 3)"
   ]
  },
  {
   "cell_type": "markdown",
   "id": "9005a27a",
   "metadata": {},
   "source": [
    "---"
   ]
  },
  {
   "cell_type": "markdown",
   "id": "f72643e8",
   "metadata": {},
   "source": [
    "### Evaluation Results"
   ]
  },
  {
   "cell_type": "markdown",
   "id": "df04f8de",
   "metadata": {},
   "source": [
    "###### Bench Mark"
   ]
  },
  {
   "cell_type": "markdown",
   "id": "b2ad4d1b",
   "metadata": {},
   "source": [
    "| Model | Train Score (R2) | Test Score (R2) | Root Mean Squared Error ($) | No. of Features |\n",
    "| --- | --- | --- | --- | --- | \n",
    "| Ridge | 0.9050 | 0.8881 | 26024.54 | 155 |\n"
   ]
  },
  {
   "cell_type": "markdown",
   "id": "b2442215",
   "metadata": {},
   "source": [
    "##### Model 2"
   ]
  },
  {
   "cell_type": "markdown",
   "id": "e713ab37",
   "metadata": {},
   "source": [
    "| Model | Train Score (R2) | Test Score (R2) | Root Mean Squared Error ($) | No. of Features |\n",
    "| --- | --- | --- | --- | --- |\n",
    "| Linear | 0.9297 | -3.8071**e+22** | 2.9698**e+36** | 155 |\n",
    "| Ridge | 0.9298 | 0.9109 | 10.63 | 155 |\n",
    "| Lasso | 0.9134 | 0.9082 | 11.11 | 155 |"
   ]
  },
  {
   "cell_type": "markdown",
   "id": "28b6477f",
   "metadata": {},
   "source": [
    "By comparing both tables, we can deduce that using the cuberoot of saleprice as our target variable yields us better results. We can see that generally, **all of the R2 score is higher than our bench mark**. We can also see that there is an **improvement in the RMSE**. Like as mentioned in part 1, by cuberooting the sale price, we were able to get a uniform distribution which can help reduce the RMSE."
   ]
  },
  {
   "cell_type": "markdown",
   "id": "3fce93ed",
   "metadata": {},
   "source": [
    "---"
   ]
  },
  {
   "cell_type": "markdown",
   "id": "eb234a29",
   "metadata": {},
   "source": [
    "## Model 2 : Optimisation"
   ]
  },
  {
   "cell_type": "markdown",
   "id": "e475db54",
   "metadata": {},
   "source": [
    "---"
   ]
  },
  {
   "cell_type": "markdown",
   "id": "4507dfdc",
   "metadata": {},
   "source": [
    "## Feature Selection"
   ]
  },
  {
   "cell_type": "markdown",
   "id": "cf156f86",
   "metadata": {},
   "source": [
    "In this section, we will be selecting top few features with highest regression coefficient and the bottom few with the lowest regression coefficient after lasso regularisation.\n",
    "\n",
    "This is because do not want to use too many features in our final model. Therefore by using lasso regularisation, 'noisy features' should have been penalised to the point where their regression coefficient is either 0 or close to 0. Therefore by selecting these features with the highest regression coefficient and the lowest regression coefficient, we are selecting features that do have an impact on the R2 score."
   ]
  },
  {
   "cell_type": "code",
   "execution_count": 54,
   "id": "c4ee19f5",
   "metadata": {
    "scrolled": true
   },
   "outputs": [
    {
     "data": {
      "text/html": [
       "<div>\n",
       "<style scoped>\n",
       "    .dataframe tbody tr th:only-of-type {\n",
       "        vertical-align: middle;\n",
       "    }\n",
       "\n",
       "    .dataframe tbody tr th {\n",
       "        vertical-align: top;\n",
       "    }\n",
       "\n",
       "    .dataframe thead th {\n",
       "        text-align: right;\n",
       "    }\n",
       "</style>\n",
       "<table border=\"1\" class=\"dataframe\">\n",
       "  <thead>\n",
       "    <tr style=\"text-align: right;\">\n",
       "      <th></th>\n",
       "      <th>col1</th>\n",
       "      <th>col2</th>\n",
       "    </tr>\n",
       "  </thead>\n",
       "  <tbody>\n",
       "    <tr>\n",
       "      <th>47</th>\n",
       "      <td>saleprice</td>\n",
       "      <td>1.857659</td>\n",
       "    </tr>\n",
       "    <tr>\n",
       "      <th>5</th>\n",
       "      <td>overall_qual</td>\n",
       "      <td>1.541854</td>\n",
       "    </tr>\n",
       "    <tr>\n",
       "      <th>49</th>\n",
       "      <td>log_gr_liv_area</td>\n",
       "      <td>1.246097</td>\n",
       "    </tr>\n",
       "    <tr>\n",
       "      <th>6</th>\n",
       "      <td>overall_cond</td>\n",
       "      <td>0.594689</td>\n",
       "    </tr>\n",
       "    <tr>\n",
       "      <th>14</th>\n",
       "      <td>bsmtfin_sf_1</td>\n",
       "      <td>0.553488</td>\n",
       "    </tr>\n",
       "    <tr>\n",
       "      <th>29</th>\n",
       "      <td>kitchen_qual</td>\n",
       "      <td>0.485537</td>\n",
       "    </tr>\n",
       "    <tr>\n",
       "      <th>17</th>\n",
       "      <td>total_bsmt_sf</td>\n",
       "      <td>0.475771</td>\n",
       "    </tr>\n",
       "    <tr>\n",
       "      <th>22</th>\n",
       "      <td>gr_liv_area</td>\n",
       "      <td>0.399750</td>\n",
       "    </tr>\n",
       "    <tr>\n",
       "      <th>32</th>\n",
       "      <td>fireplace_qu</td>\n",
       "      <td>0.391824</td>\n",
       "    </tr>\n",
       "    <tr>\n",
       "      <th>10</th>\n",
       "      <td>exter_qual</td>\n",
       "      <td>0.347188</td>\n",
       "    </tr>\n",
       "    <tr>\n",
       "      <th>35</th>\n",
       "      <td>garage_area</td>\n",
       "      <td>0.297889</td>\n",
       "    </tr>\n",
       "    <tr>\n",
       "      <th>3</th>\n",
       "      <td>lot_area</td>\n",
       "      <td>0.290232</td>\n",
       "    </tr>\n",
       "    <tr>\n",
       "      <th>12</th>\n",
       "      <td>bsmt_exposure</td>\n",
       "      <td>0.289932</td>\n",
       "    </tr>\n",
       "  </tbody>\n",
       "</table>\n",
       "</div>"
      ],
      "text/plain": [
       "               col1      col2\n",
       "47        saleprice  1.857659\n",
       "5      overall_qual  1.541854\n",
       "49  log_gr_liv_area  1.246097\n",
       "6      overall_cond  0.594689\n",
       "14     bsmtfin_sf_1  0.553488\n",
       "29     kitchen_qual  0.485537\n",
       "17    total_bsmt_sf  0.475771\n",
       "22      gr_liv_area  0.399750\n",
       "32     fireplace_qu  0.391824\n",
       "10       exter_qual  0.347188\n",
       "35      garage_area  0.297889\n",
       "3          lot_area  0.290232\n",
       "12    bsmt_exposure  0.289932"
      ]
     },
     "execution_count": 54,
     "metadata": {},
     "output_type": "execute_result"
    }
   ],
   "source": [
    "# sorting top few lasso regression coefficients\n",
    "data = list(zip(df.columns,lasso.coef_))\n",
    "data1 = pd.DataFrame(data,columns=['col1','col2'])\n",
    "data1.sort_values(by=['col2'],ascending=False).head(13) "
   ]
  },
  {
   "cell_type": "code",
   "execution_count": 55,
   "id": "0b049ea5",
   "metadata": {
    "scrolled": true
   },
   "outputs": [
    {
     "data": {
      "text/html": [
       "<div>\n",
       "<style scoped>\n",
       "    .dataframe tbody tr th:only-of-type {\n",
       "        vertical-align: middle;\n",
       "    }\n",
       "\n",
       "    .dataframe tbody tr th {\n",
       "        vertical-align: top;\n",
       "    }\n",
       "\n",
       "    .dataframe thead th {\n",
       "        text-align: right;\n",
       "    }\n",
       "</style>\n",
       "<table border=\"1\" class=\"dataframe\">\n",
       "  <thead>\n",
       "    <tr style=\"text-align: right;\">\n",
       "      <th></th>\n",
       "      <th>col1</th>\n",
       "      <th>col2</th>\n",
       "    </tr>\n",
       "  </thead>\n",
       "  <tbody>\n",
       "    <tr>\n",
       "      <th>116</th>\n",
       "      <td>house_style_SFoyer</td>\n",
       "      <td>-0.748110</td>\n",
       "    </tr>\n",
       "    <tr>\n",
       "      <th>48</th>\n",
       "      <td>cbrt_saleprice</td>\n",
       "      <td>-0.490251</td>\n",
       "    </tr>\n",
       "    <tr>\n",
       "      <th>44</th>\n",
       "      <td>misc_val</td>\n",
       "      <td>-0.307014</td>\n",
       "    </tr>\n",
       "    <tr>\n",
       "      <th>86</th>\n",
       "      <td>lot_config_FR3</td>\n",
       "      <td>-0.123501</td>\n",
       "    </tr>\n",
       "    <tr>\n",
       "      <th>69</th>\n",
       "      <td>ms_subclass_90</td>\n",
       "      <td>-0.091426</td>\n",
       "    </tr>\n",
       "  </tbody>\n",
       "</table>\n",
       "</div>"
      ],
      "text/plain": [
       "                   col1      col2\n",
       "116  house_style_SFoyer -0.748110\n",
       "48       cbrt_saleprice -0.490251\n",
       "44             misc_val -0.307014\n",
       "86       lot_config_FR3 -0.123501\n",
       "69       ms_subclass_90 -0.091426"
      ]
     },
     "execution_count": 55,
     "metadata": {},
     "output_type": "execute_result"
    }
   ],
   "source": [
    "# sorting bottom few lasso regression coefficients\n",
    "data1.sort_values(by=['col2'],ascending=True).head() "
   ]
  },
  {
   "cell_type": "markdown",
   "id": "240f7b9a",
   "metadata": {},
   "source": [
    "###### Selected features"
   ]
  },
  {
   "cell_type": "markdown",
   "id": "e0d5acd9",
   "metadata": {},
   "source": [
    "After selection, these are the features that will be included in the final regression model. Most of these features do not come as a surprise after the exploratory data analysis done in part 1 and most of these features actually do already have a strong correlation coefficient with the target variable. Additionally, based off domain knowledge, these are actually reasonable features. \n",
    "\n",
    "I will also be picking variables that are easy to engineer."
   ]
  },
  {
   "cell_type": "code",
   "execution_count": 61,
   "id": "79596d8b",
   "metadata": {},
   "outputs": [],
   "source": [
    "features = ['overall_qual',\n",
    "           'year_built',\n",
    "           'overall_cond',\n",
    "           'bsmtfin_sf_1',\n",
    "           'total_bsmt_sf',\n",
    "           'kitchen_qual',\n",
    "           'fireplace_qu',\n",
    "           'exter_qual',\n",
    "            'gr_liv_area',\n",
    "            'garage_cars',\n",
    "            'bsmt_exposure',\n",
    "            'lot_area',\n",
    "           'misc_val',\n",
    "           'neighborhood_ranked',\n",
    "           'lot_shape']"
   ]
  },
  {
   "cell_type": "code",
   "execution_count": 62,
   "id": "5603804a",
   "metadata": {},
   "outputs": [
    {
     "data": {
      "text/html": [
       "<div>\n",
       "<style scoped>\n",
       "    .dataframe tbody tr th:only-of-type {\n",
       "        vertical-align: middle;\n",
       "    }\n",
       "\n",
       "    .dataframe tbody tr th {\n",
       "        vertical-align: top;\n",
       "    }\n",
       "\n",
       "    .dataframe thead th {\n",
       "        text-align: right;\n",
       "    }\n",
       "</style>\n",
       "<table border=\"1\" class=\"dataframe\">\n",
       "  <thead>\n",
       "    <tr style=\"text-align: right;\">\n",
       "      <th></th>\n",
       "      <th>saleprice</th>\n",
       "      <th>cbrt_saleprice</th>\n",
       "    </tr>\n",
       "  </thead>\n",
       "  <tbody>\n",
       "    <tr>\n",
       "      <th>age</th>\n",
       "      <td>-0.572284</td>\n",
       "      <td>-0.617881</td>\n",
       "    </tr>\n",
       "    <tr>\n",
       "      <th>mas_vnr_type_None</th>\n",
       "      <td>-0.411571</td>\n",
       "      <td>-0.421198</td>\n",
       "    </tr>\n",
       "    <tr>\n",
       "      <th>garage_type_Detchd</th>\n",
       "      <td>-0.369449</td>\n",
       "      <td>-0.397180</td>\n",
       "    </tr>\n",
       "    <tr>\n",
       "      <th>foundation_CBlock</th>\n",
       "      <td>-0.356187</td>\n",
       "      <td>-0.349637</td>\n",
       "    </tr>\n",
       "    <tr>\n",
       "      <th>lot_shape</th>\n",
       "      <td>-0.294852</td>\n",
       "      <td>-0.315480</td>\n",
       "    </tr>\n",
       "    <tr>\n",
       "      <th>ms_zoning_RM</th>\n",
       "      <td>-0.280768</td>\n",
       "      <td>-0.318452</td>\n",
       "    </tr>\n",
       "    <tr>\n",
       "      <th>central_air_N</th>\n",
       "      <td>-0.277681</td>\n",
       "      <td>-0.350264</td>\n",
       "    </tr>\n",
       "    <tr>\n",
       "      <th>pid</th>\n",
       "      <td>-0.255293</td>\n",
       "      <td>-0.267418</td>\n",
       "    </tr>\n",
       "    <tr>\n",
       "      <th>ms_subclass_30</th>\n",
       "      <td>-0.248799</td>\n",
       "      <td>-0.313303</td>\n",
       "    </tr>\n",
       "    <tr>\n",
       "      <th>garage_type_None</th>\n",
       "      <td>-0.231243</td>\n",
       "      <td>-0.280329</td>\n",
       "    </tr>\n",
       "  </tbody>\n",
       "</table>\n",
       "</div>"
      ],
      "text/plain": [
       "                    saleprice  cbrt_saleprice\n",
       "age                 -0.572284       -0.617881\n",
       "mas_vnr_type_None   -0.411571       -0.421198\n",
       "garage_type_Detchd  -0.369449       -0.397180\n",
       "foundation_CBlock   -0.356187       -0.349637\n",
       "lot_shape           -0.294852       -0.315480\n",
       "ms_zoning_RM        -0.280768       -0.318452\n",
       "central_air_N       -0.277681       -0.350264\n",
       "pid                 -0.255293       -0.267418\n",
       "ms_subclass_30      -0.248799       -0.313303\n",
       "garage_type_None    -0.231243       -0.280329"
      ]
     },
     "execution_count": 62,
     "metadata": {},
     "output_type": "execute_result"
    }
   ],
   "source": [
    "# storing correlation matrix in a dataframe\n",
    "df_corr = df.corr()\n",
    "\n",
    "# filtering to show cbrt_saleprice to features\n",
    "df_corr[['saleprice','cbrt_saleprice']].sort_values(by=['saleprice'], ascending=True).head(10)"
   ]
  },
  {
   "cell_type": "code",
   "execution_count": 63,
   "id": "badfb284",
   "metadata": {},
   "outputs": [
    {
     "ename": "NameError",
     "evalue": "name 'df_corr_filtered' is not defined",
     "output_type": "error",
     "traceback": [
      "\u001b[0;31m---------------------------------------------------------------------------\u001b[0m",
      "\u001b[0;31mNameError\u001b[0m                                 Traceback (most recent call last)",
      "Input \u001b[0;32mIn [63]\u001b[0m, in \u001b[0;36m<cell line: 6>\u001b[0;34m()\u001b[0m\n\u001b[1;32m      3\u001b[0m sns\u001b[38;5;241m.\u001b[39mset_context(\u001b[38;5;124m'\u001b[39m\u001b[38;5;124mpaper\u001b[39m\u001b[38;5;124m'\u001b[39m, font_scale\u001b[38;5;241m=\u001b[39m\u001b[38;5;241m1.1\u001b[39m)\n\u001b[1;32m      5\u001b[0m \u001b[38;5;66;03m# correlation matrix of the dataframe\u001b[39;00m\n\u001b[0;32m----> 6\u001b[0m df_final_mx \u001b[38;5;241m=\u001b[39m \u001b[43mdf_corr_filtered\u001b[49m\n\u001b[1;32m      7\u001b[0m \u001b[38;5;66;03m# retrieving upper triangle of an array\u001b[39;00m\n\u001b[1;32m      8\u001b[0m matrix \u001b[38;5;241m=\u001b[39m np\u001b[38;5;241m.\u001b[39mtriu(df_final_mx)\n",
      "\u001b[0;31mNameError\u001b[0m: name 'df_corr_filtered' is not defined"
     ]
    },
    {
     "data": {
      "text/plain": [
       "<Figure size 720x360 with 0 Axes>"
      ]
     },
     "metadata": {},
     "output_type": "display_data"
    }
   ],
   "source": [
    "# creating Heat Map of Ranges of\n",
    "plt.figure(figsize=(10,5))\n",
    "sns.set_context('paper', font_scale=1.1)\n",
    "\n",
    "# correlation matrix of the dataframe\n",
    "df_final_mx = df_corr_filtered\n",
    "# retrieving upper triangle of an array\n",
    "matrix = np.triu(df_final_mx)\n",
    "\n",
    "# plotting heatmap, masking upper triangle \n",
    "sns.heatmap(df_final_mx, annot=True, cmap='coolwarm', linecolor = 'white', mask=matrix)\n",
    "plt.title('Heat Map of Quality features',size=20, fontweight=\"bold\")\n",
    "plt.show()"
   ]
  },
  {
   "cell_type": "markdown",
   "id": "ec3322f5",
   "metadata": {},
   "source": [
    "###### Model Prep: Create our features matrix (`X`) and target vector (`y`)"
   ]
  },
  {
   "cell_type": "code",
   "execution_count": 64,
   "id": "c834bfc9",
   "metadata": {},
   "outputs": [],
   "source": [
    "X = df[features]"
   ]
  },
  {
   "cell_type": "code",
   "execution_count": 65,
   "id": "e2f77195",
   "metadata": {},
   "outputs": [],
   "source": [
    "y = df['cbrt_saleprice']"
   ]
  },
  {
   "cell_type": "markdown",
   "id": "535b6104",
   "metadata": {},
   "source": [
    "###### Model Prep: Train/test split"
   ]
  },
  {
   "cell_type": "code",
   "execution_count": 66,
   "id": "d113606b",
   "metadata": {},
   "outputs": [],
   "source": [
    "X_train, X_test, y_train, y_test = train_test_split(X, y, random_state=42)"
   ]
  },
  {
   "cell_type": "markdown",
   "id": "418b87ac",
   "metadata": {},
   "source": [
    "###### Model Prep: Scaling"
   ]
  },
  {
   "cell_type": "code",
   "execution_count": 67,
   "id": "a617cee6",
   "metadata": {},
   "outputs": [],
   "source": [
    "ss = StandardScaler()\n",
    "# set a scale\n",
    "ss.fit(X_train)\n",
    "# apply scale to x_train\n",
    "X_train_sc = ss.transform(X_train)\n",
    "# apply scale to x_test\n",
    "X_test_sc = ss.transform(X_test)"
   ]
  },
  {
   "cell_type": "markdown",
   "id": "bf5e0012",
   "metadata": {},
   "source": [
    "###### Model Prep: Instantiate our models"
   ]
  },
  {
   "cell_type": "markdown",
   "id": "97859b0a",
   "metadata": {},
   "source": [
    "We'll be evaluating `LinearRegression`, `LassoCV` and `RidgeCV`, so we'll need to create instances of all three models."
   ]
  },
  {
   "cell_type": "code",
   "execution_count": 68,
   "id": "fcdd78fd",
   "metadata": {},
   "outputs": [],
   "source": [
    "lr = LinearRegression()\n",
    "lasso = LassoCV(n_alphas=200)\n",
    "ridge = RidgeCV(alphas=np.linspace(.1, 10, 100))"
   ]
  },
  {
   "cell_type": "markdown",
   "id": "edcd7dae",
   "metadata": {},
   "source": [
    "---"
   ]
  },
  {
   "cell_type": "markdown",
   "id": "c6bbd2ea",
   "metadata": {},
   "source": [
    "### Linear Regression"
   ]
  },
  {
   "cell_type": "code",
   "execution_count": 69,
   "id": "f3192950",
   "metadata": {},
   "outputs": [
    {
     "data": {
      "text/plain": [
       "LinearRegression()"
      ]
     },
     "execution_count": 69,
     "metadata": {},
     "output_type": "execute_result"
    }
   ],
   "source": [
    "lr.fit(X_train_sc, y_train)"
   ]
  },
  {
   "cell_type": "markdown",
   "id": "71b1a45c",
   "metadata": {},
   "source": [
    "###### R2 Score"
   ]
  },
  {
   "cell_type": "code",
   "execution_count": 70,
   "id": "8708f4d5",
   "metadata": {},
   "outputs": [
    {
     "data": {
      "text/plain": [
       "0.8819979988981145"
      ]
     },
     "execution_count": 70,
     "metadata": {},
     "output_type": "execute_result"
    }
   ],
   "source": [
    "# R2 score of train x and train y\n",
    "lr.score(X_train_sc, y_train)"
   ]
  },
  {
   "cell_type": "code",
   "execution_count": 71,
   "id": "32b8a7f7",
   "metadata": {
    "scrolled": true
   },
   "outputs": [
    {
     "data": {
      "text/plain": [
       "0.9007023558588308"
      ]
     },
     "execution_count": 71,
     "metadata": {},
     "output_type": "execute_result"
    }
   ],
   "source": [
    "# R2 score of train x and train y\n",
    "lr.score(X_test_sc, y_test)"
   ]
  },
  {
   "cell_type": "markdown",
   "id": "aa248962",
   "metadata": {},
   "source": [
    "###### RMSE"
   ]
  },
  {
   "cell_type": "code",
   "execution_count": 72,
   "id": "b0a3b422",
   "metadata": {},
   "outputs": [],
   "source": [
    "pred = lr.predict(X_test_sc)"
   ]
  },
  {
   "cell_type": "code",
   "execution_count": 73,
   "id": "9c554de5",
   "metadata": {
    "scrolled": false
   },
   "outputs": [
    {
     "data": {
      "text/plain": [
       "2.321398183422239"
      ]
     },
     "execution_count": 73,
     "metadata": {},
     "output_type": "execute_result"
    }
   ],
   "source": [
    "mean_squared_error(y_test, pred, squared=False)"
   ]
  },
  {
   "cell_type": "code",
   "execution_count": 985,
   "id": "0e8718aa",
   "metadata": {},
   "outputs": [
    {
     "data": {
      "text/plain": [
       "13.41323743308712"
      ]
     },
     "execution_count": 985,
     "metadata": {},
     "output_type": "execute_result"
    }
   ],
   "source": [
    "# to obtain the actual value of the Root Mean Square Error, we will have to cube this value.\n",
    "np.power(mean_squared_error(y_test, pred, squared=False), 3)"
   ]
  },
  {
   "cell_type": "markdown",
   "id": "676a4f36",
   "metadata": {},
   "source": [
    "---"
   ]
  },
  {
   "cell_type": "markdown",
   "id": "78d2fbbe",
   "metadata": {},
   "source": [
    "### Lasso Regression"
   ]
  },
  {
   "cell_type": "code",
   "execution_count": 986,
   "id": "e6c51263",
   "metadata": {},
   "outputs": [
    {
     "data": {
      "text/plain": [
       "LassoCV(n_alphas=200)"
      ]
     },
     "execution_count": 986,
     "metadata": {},
     "output_type": "execute_result"
    }
   ],
   "source": [
    "lasso.fit(X_train_sc, y_train)"
   ]
  },
  {
   "cell_type": "markdown",
   "id": "e8df07e9",
   "metadata": {},
   "source": [
    "###### R2 Score"
   ]
  },
  {
   "cell_type": "code",
   "execution_count": 68,
   "id": "772d5ce0",
   "metadata": {},
   "outputs": [
    {
     "data": {
      "text/plain": [
       "0.8760212610695166"
      ]
     },
     "execution_count": 68,
     "metadata": {},
     "output_type": "execute_result"
    }
   ],
   "source": [
    "# R2 score of train x and train y\n",
    "lasso.score(X_train_sc, y_train)"
   ]
  },
  {
   "cell_type": "code",
   "execution_count": 69,
   "id": "cbe56c3d",
   "metadata": {
    "scrolled": true
   },
   "outputs": [
    {
     "data": {
      "text/plain": [
       "0.8953720216399549"
      ]
     },
     "execution_count": 69,
     "metadata": {},
     "output_type": "execute_result"
    }
   ],
   "source": [
    "# R2 score of test x and test y\n",
    "lasso.score(X_test_sc, y_test)"
   ]
  },
  {
   "cell_type": "markdown",
   "id": "78417c44",
   "metadata": {},
   "source": [
    "###### RMSE"
   ]
  },
  {
   "cell_type": "code",
   "execution_count": 70,
   "id": "70b471b1",
   "metadata": {},
   "outputs": [],
   "source": [
    "pred = lasso.predict(X_test_sc)"
   ]
  },
  {
   "cell_type": "code",
   "execution_count": 71,
   "id": "22432d9e",
   "metadata": {
    "scrolled": false
   },
   "outputs": [
    {
     "data": {
      "text/plain": [
       "2.382890494011901"
      ]
     },
     "execution_count": 71,
     "metadata": {},
     "output_type": "execute_result"
    }
   ],
   "source": [
    "mean_squared_error(y_test, pred, squared=False)"
   ]
  },
  {
   "cell_type": "code",
   "execution_count": 72,
   "id": "2e0a32a9",
   "metadata": {},
   "outputs": [
    {
     "data": {
      "text/plain": [
       "13.530450421376202"
      ]
     },
     "execution_count": 72,
     "metadata": {},
     "output_type": "execute_result"
    }
   ],
   "source": [
    "# to obtain the actual value of the Root Mean Square Error, we will have to cube this value.\n",
    "np.power(mean_squared_error(y_test, pred, squared=False), 3)"
   ]
  },
  {
   "cell_type": "markdown",
   "id": "d05dcb3e",
   "metadata": {},
   "source": [
    "---"
   ]
  },
  {
   "cell_type": "markdown",
   "id": "ae14d3f6",
   "metadata": {},
   "source": [
    "### Ridge Regression"
   ]
  },
  {
   "cell_type": "code",
   "execution_count": 73,
   "id": "20b1a2ac",
   "metadata": {},
   "outputs": [
    {
     "data": {
      "text/plain": [
       "RidgeCV(alphas=array([ 0.1,  0.2,  0.3,  0.4,  0.5,  0.6,  0.7,  0.8,  0.9,  1. ,  1.1,\n",
       "        1.2,  1.3,  1.4,  1.5,  1.6,  1.7,  1.8,  1.9,  2. ,  2.1,  2.2,\n",
       "        2.3,  2.4,  2.5,  2.6,  2.7,  2.8,  2.9,  3. ,  3.1,  3.2,  3.3,\n",
       "        3.4,  3.5,  3.6,  3.7,  3.8,  3.9,  4. ,  4.1,  4.2,  4.3,  4.4,\n",
       "        4.5,  4.6,  4.7,  4.8,  4.9,  5. ,  5.1,  5.2,  5.3,  5.4,  5.5,\n",
       "        5.6,  5.7,  5.8,  5.9,  6. ,  6.1,  6.2,  6.3,  6.4,  6.5,  6.6,\n",
       "        6.7,  6.8,  6.9,  7. ,  7.1,  7.2,  7.3,  7.4,  7.5,  7.6,  7.7,\n",
       "        7.8,  7.9,  8. ,  8.1,  8.2,  8.3,  8.4,  8.5,  8.6,  8.7,  8.8,\n",
       "        8.9,  9. ,  9.1,  9.2,  9.3,  9.4,  9.5,  9.6,  9.7,  9.8,  9.9,\n",
       "       10. ]))"
      ]
     },
     "execution_count": 73,
     "metadata": {},
     "output_type": "execute_result"
    }
   ],
   "source": [
    "ridge.fit(X_train_sc, y_train)"
   ]
  },
  {
   "cell_type": "markdown",
   "id": "25e82e67",
   "metadata": {},
   "source": [
    "###### R2 Score"
   ]
  },
  {
   "cell_type": "code",
   "execution_count": 74,
   "id": "afc270de",
   "metadata": {},
   "outputs": [
    {
     "data": {
      "text/plain": [
       "0.8819726820567098"
      ]
     },
     "execution_count": 74,
     "metadata": {},
     "output_type": "execute_result"
    }
   ],
   "source": [
    "# R2 score of train x and train y\n",
    "ridge.score(X_train_sc, y_train)"
   ]
  },
  {
   "cell_type": "code",
   "execution_count": 75,
   "id": "f8e9839f",
   "metadata": {
    "scrolled": true
   },
   "outputs": [
    {
     "data": {
      "text/plain": [
       "0.9010175540273607"
      ]
     },
     "execution_count": 75,
     "metadata": {},
     "output_type": "execute_result"
    }
   ],
   "source": [
    "# R2 score of train x and train y\n",
    "ridge.score(X_test_sc, y_test)"
   ]
  },
  {
   "cell_type": "markdown",
   "id": "c1dd3509",
   "metadata": {},
   "source": [
    "###### RMSE"
   ]
  },
  {
   "cell_type": "code",
   "execution_count": 76,
   "id": "885822af",
   "metadata": {},
   "outputs": [],
   "source": [
    "pred = ridge.predict(X_test_sc)"
   ]
  },
  {
   "cell_type": "code",
   "execution_count": 77,
   "id": "724acc1c",
   "metadata": {
    "scrolled": false
   },
   "outputs": [
    {
     "data": {
      "text/plain": [
       "2.3177108752264544"
      ]
     },
     "execution_count": 77,
     "metadata": {},
     "output_type": "execute_result"
    }
   ],
   "source": [
    "mean_squared_error(y_test, pred, squared=False)"
   ]
  },
  {
   "cell_type": "code",
   "execution_count": 78,
   "id": "a6be03c6",
   "metadata": {},
   "outputs": [
    {
     "data": {
      "text/plain": [
       "12.450241503503293"
      ]
     },
     "execution_count": 78,
     "metadata": {},
     "output_type": "execute_result"
    }
   ],
   "source": [
    "# to obtain the actual value of the Root Mean Square Error, we will have to cube this value.\n",
    "np.power(mean_squared_error(y_test, pred, squared=False), 3)"
   ]
  },
  {
   "cell_type": "markdown",
   "id": "104afbf8",
   "metadata": {},
   "source": [
    "---"
   ]
  },
  {
   "cell_type": "markdown",
   "id": "f54a77c0",
   "metadata": {},
   "source": [
    "### Evaluation Results Before and After Feature Selection"
   ]
  },
  {
   "cell_type": "markdown",
   "id": "4098d594",
   "metadata": {},
   "source": [
    "**Before Feature Selection**\n",
    "\n",
    "| Model | Train Score (R2) | Test Score (R2) | Root Mean Squared Error ($) | No. of Features |\n",
    "| --- | --- | --- | --- | --- |\n",
    "| Linear | 0.9297 | -3.8071**e+22** | 2.9698**e+36** | 155 |\n",
    "| Ridge | 0.9298 | 0.9109 | 10.63 | 155 |\n",
    "| Lasso | 0.9134 | 0.9082 | 11.11 | 155 |\n",
    "\n",
    "**After Feature Selection**\n",
    "\n",
    "| Model | Train Score (R2) | Test Score (R2) | Root Mean Squared Error ($) | No. of Features |\n",
    "| --- | --- | --- | --- | --- | \n",
    "| Linear | 0.8819 | 0.9010 | 12.45 | 14 |\n",
    "| Ridge | 0.8819 | 0.9010 | 12.45 | 14 |\n",
    "| Lasso | 0.8760 | 0.8954 | 13.53 | 14 |\n"
   ]
  },
  {
   "cell_type": "markdown",
   "id": "f6e5c20e",
   "metadata": {},
   "source": [
    "To evaluate the regression models before and after feature selection, we will be looking at the R2 score, RMSE and number of features used for prediction. Based on the two tables above we can clearly see that **there is little change in R2 score and RMSE while features were reduced from 156 to just 15**. Therefore, we can conclude that the feature selection was a success."
   ]
  },
  {
   "cell_type": "markdown",
   "id": "d48533aa",
   "metadata": {},
   "source": [
    "###### Rationale for choosing final model"
   ]
  },
  {
   "cell_type": "markdown",
   "id": "c82a2029",
   "metadata": {},
   "source": [
    "As the evaluation metrics of linear and ridge regression is the same, the reason why Linear Regression is selected as compared to Ridge Regression is that Linear Regression is generally known as the simpler model. Since we have already used regularisation to select features, we actually do not need any more regularisation. "
   ]
  },
  {
   "cell_type": "markdown",
   "id": "13744e02",
   "metadata": {},
   "source": [
    "---"
   ]
  },
  {
   "cell_type": "markdown",
   "id": "0c63fa25",
   "metadata": {},
   "source": [
    "###### Final Model vs Bench Mark"
   ]
  },
  {
   "cell_type": "markdown",
   "id": "0fe9d84a",
   "metadata": {},
   "source": [
    "| Model | Train Score (R2) | Test Score (R2) | Root Mean Squared Error ($) | No. of Features |\n",
    "| --- | --- | --- | --- | --- | \n",
    "| Ridge (**Bench Mark**) | 0.9050 | 0.8881 | 26024.54 | 155 |\n",
    "| Linear (**Final Model**) | 0.8819 | **0.9010** | **12.45** | **14** |"
   ]
  },
  {
   "cell_type": "markdown",
   "id": "2cbea27b",
   "metadata": {},
   "source": [
    "By comparing both the final model and the bench mark, we can clearly see that the final model beats the bench mark in its test score, RMSE and by the number of features used. Although the final model's train score is lower than the bench mark, the difference is only 0.0231. What is most important is that we have **significantly reduced the RMSE** which is a success. Additionally, having **only 14 features needed** means that we do not need to collect so many data as compared to collecting 155 columns of data for the analysis. This also means that data collection costs can be saved by implementing this final model as compared to the bench mark."
   ]
  },
  {
   "cell_type": "markdown",
   "id": "15914dc7",
   "metadata": {},
   "source": [
    "---"
   ]
  },
  {
   "cell_type": "markdown",
   "id": "031696a2",
   "metadata": {},
   "source": [
    "## Final Model"
   ]
  },
  {
   "cell_type": "markdown",
   "id": "062e7798",
   "metadata": {},
   "source": [
    "---"
   ]
  },
  {
   "cell_type": "markdown",
   "id": "d93c4fc7",
   "metadata": {},
   "source": [
    "| Model | Train Score (R2) | Test Score (R2) | Root Mean Squared Error ($) | No. of Features |\n",
    "| --- | --- | --- | --- | --- | \n",
    "| Linear (Final Model) | 0.8819 | 0.9010 | 12.45 | 14 |"
   ]
  },
  {
   "cell_type": "markdown",
   "id": "0a9fbaa1",
   "metadata": {},
   "source": [
    "---"
   ]
  },
  {
   "cell_type": "markdown",
   "id": "96a7a7f8",
   "metadata": {},
   "source": [
    "### Predictions"
   ]
  },
  {
   "cell_type": "code",
   "execution_count": 79,
   "id": "7a57baec",
   "metadata": {
    "scrolled": true
   },
   "outputs": [
    {
     "data": {
      "image/png": "[encoded data removed]",
      "text/plain": [
       "<Figure size 864x360 with 1 Axes>"
      ]
     },
     "metadata": {
      "needs_background": "light"
     },
     "output_type": "display_data"
    }
   ],
   "source": [
    "def plotGraph(y_test,y_pred,regressorName):\n",
    "    if max(y_test) >= max(y_pred):\n",
    "        my_range = int(max(y_test))\n",
    "    else:\n",
    "        my_range = int(max(y_pred))\n",
    "    plt.scatter(range(len(y_test)), y_test, color='blue')\n",
    "    plt.scatter(range(len(y_pred)), y_pred, color='red')\n",
    "    plt.title(regressorName, fontsize=15, fontweight='bold')\n",
    "    ax = plt.gca()\n",
    "    ax.get_yaxis().set_visible(False)\n",
    "    ax.get_xaxis().set_visible(False)\n",
    "    plt.show()\n",
    "    return\n",
    "\n",
    "plt.figure(figsize=(12,5))\n",
    "plotGraph(y_test, pred, \"Predicted(Red) vs Actual(Blue)\")"
   ]
  },
  {
   "cell_type": "markdown",
   "id": "f8758580",
   "metadata": {},
   "source": [
    "Based on this scatter plot, it is denoted that the red data points represents the predicted values and the blue data points represents the actual value. We can actually see that there is **no distinguishable separation** between the data points. Hence, we can be safe to say that the final model did a great job at predicting values.\n"
   ]
  },
  {
   "cell_type": "markdown",
   "id": "7457c932",
   "metadata": {},
   "source": [
    "---"
   ]
  },
  {
   "cell_type": "markdown",
   "id": "2d83a4e3",
   "metadata": {},
   "source": [
    "### Residuals"
   ]
  },
  {
   "cell_type": "code",
   "execution_count": 80,
   "id": "69e452db",
   "metadata": {},
   "outputs": [],
   "source": [
    "pred = lr.predict(X_test_sc)\n",
    "residuals = y_test - pred\n",
    "residuals = residuals"
   ]
  },
  {
   "cell_type": "code",
   "execution_count": 81,
   "id": "29da1afa",
   "metadata": {
    "scrolled": false
   },
   "outputs": [
    {
     "data": {
      "image/png": "[encoded data removed]",
      "text/plain": [
       "<Figure size 720x360 with 1 Axes>"
      ]
     },
     "metadata": {
      "needs_background": "light"
     },
     "output_type": "display_data"
    }
   ],
   "source": [
    "plt.figure(figsize=(10,5))\n",
    "plt.scatter(pred, residuals)\n",
    "plt.xlabel('Predicted Value')\n",
    "plt.ylabel('Residuals')\n",
    "plt.title('Scatter Plot of Predicted Values vs Residuals', fontsize=15, fontweight='bold')\n",
    "\n",
    "plt.show()"
   ]
  },
  {
   "cell_type": "markdown",
   "id": "4f5d06a9",
   "metadata": {},
   "source": [
    "The interpretation of a \"residuals vs. predictor plot\" is that a well-behaved plot will bounce randomly and form a roughly horizontal band around the residual = 0 line. And, no data points will stand out from the basic random pattern of the other residuals.\n",
    "\n",
    "Based on the scatter plot we have above, we can see that data points generally cluster around the residuals = 0 mark. This proves that the model is doing well."
   ]
  },
  {
   "cell_type": "code",
   "execution_count": 82,
   "id": "704b8bc8",
   "metadata": {
    "scrolled": false
   },
   "outputs": [
    {
     "data": {
      "image/png": "[encoded data removed]",
      "text/plain": [
       "<Figure size 360x360 with 1 Axes>"
      ]
     },
     "metadata": {
      "needs_background": "light"
     },
     "output_type": "display_data"
    }
   ],
   "source": [
    "sns.displot(residuals)\n",
    "plt.xlabel('Residuals')\n",
    "plt.ylabel('Frequency')\n",
    "plt.title('Distribution of Residuals', fontsize=15, fontweight='bold')\n",
    "\n",
    "plt.show()"
   ]
  },
  {
   "cell_type": "markdown",
   "id": "ef9a76aa",
   "metadata": {},
   "source": [
    "Looking at the distribution of the residuals, we can see that it is normally distributed and most residuals fall approximately between -10 to 7.5. The current value of the residuals represents the residuals of the cube root of sale price. If we were to cube it, the **root mean squared error** of our final model is \\$12.41 which is amazing if we were to compare it with our bench mark model with the **root mean squared error** of \\$26,000. \n",
    "\n",
    "A \\\\$12 mistake is definitely less expensive than a \\\\$26,000 mistake especially if it was a predicted \\$26,000 less than it's actual value."
   ]
  },
  {
   "cell_type": "markdown",
   "id": "aa6fd832",
   "metadata": {},
   "source": [
    "---"
   ]
  },
  {
   "cell_type": "markdown",
   "id": "7d16a9d8",
   "metadata": {},
   "source": [
    "### Coefficient Analysis"
   ]
  },
  {
   "cell_type": "markdown",
   "id": "7cf9b01c",
   "metadata": {},
   "source": [
    "In this coefficient analysis, we are refering to the **impact of features to the cuberoot of sale price**."
   ]
  },
  {
   "cell_type": "markdown",
   "id": "cd697e40",
   "metadata": {},
   "source": [
    "#### Summary of Shapley Values\n",
    "\n",
    "**SHAP values help to explain the predictions of your ML model.**<br/>\n",
    "\n",
    "1. Each feature has a shap value contributing to the prediction.\n",
    "2. The final prediction = the average prediction value + the shap values of all features.\n",
    "3. The shap value of a feature can be positive or negative.\n",
    "4. If a feature is positively correlated to the target, a value higher than its own average will contribute positively to the prediction.\n",
    "5. If a feature is negatively correlated to the target, a value higher than its own average will contribute negatively to the prediction."
   ]
  },
  {
   "cell_type": "code",
   "execution_count": 104,
   "id": "416a72b7",
   "metadata": {
    "scrolled": false
   },
   "outputs": [
    {
     "data": {
      "image/png": "[encoded data removed]",
      "text/plain": [
       "<Figure size 576x612 with 1 Axes>"
      ]
     },
     "metadata": {},
     "output_type": "display_data"
    }
   ],
   "source": [
    "# Read more at \n",
    "# https://christophm.github.io/interpretable-ml-book/shap.html\n",
    "# https://shap.readthedocs.io/en/latest/example_notebooks/overviews/An%20introduction%20to%20explainable%20AI%20with%20Shapley%20values.html\n",
    "\n",
    "explainer = shap.explainers.Linear(lr, X_train_sc)\n",
    "lr_shap_values = explainer(X_train_sc)\n",
    "\n",
    "# Add back the feature names removed by the StandardScaler\n",
    "for i,c in enumerate(X.columns):\n",
    "    lr_shap_values.feature_names[i] = c\n",
    "\n",
    "# Visualise variable importance for top 10 features\n",
    "# Set max_display to 11 so that \n",
    "shap.plots.bar(lr_shap_values, max_display=14)"
   ]
  },
  {
   "cell_type": "markdown",
   "id": "8a2740c0",
   "metadata": {},
   "source": [
    "This variable importance plot lists the most significant variables in descending order. The **top variables contribute more to the model** than the bottom ones and **thus have high predictive power**. Based on the plot, we can see that the **top 3** most significant variables are **gr_liv_area, neighborhood_ranked and overall_qual**. This means that when these variables change, they create bigger movement in the sale price than the bottom 3 variables for example."
   ]
  },
  {
   "cell_type": "markdown",
   "id": "77f52369",
   "metadata": {},
   "source": [
    "---"
   ]
  },
  {
   "cell_type": "markdown",
   "id": "3991b4e7",
   "metadata": {},
   "source": [
    "### Hypothesis Testing"
   ]
  },
  {
   "cell_type": "markdown",
   "id": "b59b36db",
   "metadata": {},
   "source": [
    "Using hypothesis testing, we can test whether or not our model are fully optimised. We can deduce this by looking at the p-value. If the p-value of a certain feature is greater than 0.05, it means that the feature is not statistically significant. Conversely if the p-value of a certain feature is lower than 0.05, we can conclude that this particular feature is statistically significant.\n",
    "\n",
    "If a feature is statistically significant, it means that the particular feature has a significant impact on the model's output.\n",
    "\n",
    "What we are looking for here is that we want to choose features that are statistically significant, if not, they are redundant. This means that ideally, we would want to have features with p-value of lower than 0.05."
   ]
  },
  {
   "cell_type": "code",
   "execution_count": 85,
   "id": "8c98b7a8",
   "metadata": {},
   "outputs": [],
   "source": [
    "X_fin = df[features]"
   ]
  },
  {
   "cell_type": "code",
   "execution_count": 86,
   "id": "7915605a",
   "metadata": {},
   "outputs": [],
   "source": [
    "X_sm = sm.add_constant(X_fin)"
   ]
  },
  {
   "cell_type": "code",
   "execution_count": 87,
   "id": "4588b445",
   "metadata": {
    "scrolled": false
   },
   "outputs": [
    {
     "name": "stdout",
     "output_type": "stream",
     "text": [
      "                            OLS Regression Results                            \n",
      "==============================================================================\n",
      "Dep. Variable:         cbrt_saleprice   R-squared:                       0.887\n",
      "Model:                            OLS   Adj. R-squared:                  0.886\n",
      "Method:                 Least Squares   F-statistic:                     1141.\n",
      "Date:                Wed, 16 Nov 2022   Prob (F-statistic):               0.00\n",
      "Time:                        12:09:02   Log-Likelihood:                -4835.1\n",
      "No. Observations:                2048   AIC:                             9700.\n",
      "Df Residuals:                    2033   BIC:                             9784.\n",
      "Df Model:                          14                                         \n",
      "Covariance Type:            nonrobust                                         \n",
      "=======================================================================================\n",
      "                          coef    std err          t      P>|t|      [0.025      0.975]\n",
      "---------------------------------------------------------------------------------------\n",
      "const                 -34.7136      6.210     -5.590      0.000     -46.893     -22.535\n",
      "overall_qual            1.1285      0.078     14.559      0.000       0.977       1.281\n",
      "year_built              0.0308      0.003      9.683      0.000       0.025       0.037\n",
      "overall_cond            0.8708      0.058     14.985      0.000       0.757       0.985\n",
      "bsmtfin_sf_1            0.0014      0.000      9.330      0.000       0.001       0.002\n",
      "total_bsmt_sf           0.0013      0.000      6.980      0.000       0.001       0.002\n",
      "kitchen_qual            0.8648      0.136      6.366      0.000       0.598       1.131\n",
      "fireplace_qu            0.3258      0.038      8.567      0.000       0.251       0.400\n",
      "exter_qual              0.6122      0.169      3.618      0.000       0.280       0.944\n",
      "gr_liv_area             0.0043      0.000     26.635      0.000       0.004       0.005\n",
      "garage_cars             0.8847      0.102      8.636      0.000       0.684       1.086\n",
      "bsmt_exposure           0.4158      0.061      6.769      0.000       0.295       0.536\n",
      "lot_area             5.407e-05   9.55e-06      5.664      0.000    3.53e-05    7.28e-05\n",
      "misc_val               -0.0008      0.000     -7.886      0.000      -0.001      -0.001\n",
      "neighborhood_ranked     0.1855      0.013     14.425      0.000       0.160       0.211\n",
      "==============================================================================\n",
      "Omnibus:                     1553.732   Durbin-Watson:                   1.975\n",
      "Prob(Omnibus):                  0.000   Jarque-Bera (JB):           172630.721\n",
      "Skew:                          -2.803   Prob(JB):                         0.00\n",
      "Kurtosis:                      47.627   Cond. No.                     1.34e+06\n",
      "==============================================================================\n",
      "\n",
      "Notes:\n",
      "[1] Standard Errors assume that the covariance matrix of the errors is correctly specified.\n",
      "[2] The condition number is large, 1.34e+06. This might indicate that there are\n",
      "strong multicollinearity or other numerical problems.\n"
     ]
    }
   ],
   "source": [
    "model = sm.OLS(df['cbrt_saleprice'],X_sm)\n",
    "results= model.fit()\n",
    "print(results.summary())"
   ]
  },
  {
   "cell_type": "markdown",
   "id": "db50fb04",
   "metadata": {},
   "source": [
    "---"
   ]
  },
  {
   "cell_type": "markdown",
   "id": "054ae215",
   "metadata": {},
   "source": [
    "Based on the p-value of the Linear Regression Results, we can see that they are actually all **below 0.05**. This means that we can **reject the null hypothesis** that these variables does not have an impact on the model's output.\n",
    "\n",
    "This means that **all** the variables in the Linear Regression Model are **statistically significant** at the 5% confidence interval which means that the selected features that have a **significant effect on the model's output**.\n"
   ]
  },
  {
   "cell_type": "markdown",
   "id": "a3387295",
   "metadata": {},
   "source": [
    "---"
   ]
  },
  {
   "cell_type": "markdown",
   "id": "251121ff",
   "metadata": {},
   "source": [
    "### Summary of Final Model"
   ]
  },
  {
   "cell_type": "markdown",
   "id": "fe994555",
   "metadata": {},
   "source": [
    "In summary, I strongly believe that the final model is the most optimised and accurate model with the dataset that we have. Requiring only 14 features, this means that there is less costs involved in data collection and less time is needed to collect these data. Not only is this efficient, it is also accurate. With a RMSE of \\$12.45, the root mean square error is kept to a minimum. Additionally, the train and test R2 score are also above 0.88% this means that the **model is able to generalise and explain a high percentage of the dependent variable variation**. Moreover, the final model outperforms our bench mark model. Hence, I conclude that the Final Model is a success."
   ]
  },
  {
   "cell_type": "markdown",
   "id": "d30cfcce",
   "metadata": {},
   "source": [
    "---"
   ]
  },
  {
   "cell_type": "markdown",
   "id": "ea8d4a71",
   "metadata": {},
   "source": [
    "## Predicting test.csv"
   ]
  },
  {
   "cell_type": "markdown",
   "id": "631b7da1",
   "metadata": {},
   "source": [
    "In fulfilment to the Kaggle challenge, we will be predicting the housing prices of properties in this dataset. This allows us to also test our regression model on unseen data. The metric for evaluation in this challenge is the Root Mean Square Error (RMSE). \n",
    "\n",
    "**Also, since our model predicts the cuberoot of sale price, we will then cube the value to retrieve the actual sale price value before submission.**"
   ]
  },
  {
   "cell_type": "markdown",
   "id": "c68d4aba",
   "metadata": {},
   "source": [
    "### Importing test.csv"
   ]
  },
  {
   "cell_type": "code",
   "execution_count": 88,
   "id": "5737ffce",
   "metadata": {
    "scrolled": true
   },
   "outputs": [],
   "source": [
    "test_df = pd.read_csv('./datasets/test.csv')"
   ]
  },
  {
   "cell_type": "markdown",
   "id": "02db0d64",
   "metadata": {},
   "source": [
    "### Data Cleaning"
   ]
  },
  {
   "cell_type": "markdown",
   "id": "ab363b27",
   "metadata": {},
   "source": [
    "In order to use the dataset for prediction, we will have to engineer the dataset into a certain format. The format required is that the dataset should contain only features used in the regression model. This means that features engineered in part 1 would also have to be engineered in this dataset, ordinal features have to be ranked accordingly and categorical features should be one-hot encoded."
   ]
  },
  {
   "cell_type": "code",
   "execution_count": 89,
   "id": "359dab88",
   "metadata": {},
   "outputs": [],
   "source": [
    "# lambda function lower cases list of column names and join spaces with underscore\n",
    "test_df.rename(columns=lambda column: column.lower().replace(' ','_'), inplace=True)"
   ]
  },
  {
   "cell_type": "code",
   "execution_count": 90,
   "id": "5834184f",
   "metadata": {},
   "outputs": [],
   "source": [
    "# selecting only columns that are going to be used in the regression model\n",
    "test_df = test_df[['id',\n",
    "                   'overall_qual',\n",
    "                   'year_built',\n",
    "                   'overall_cond',\n",
    "                   'bsmtfin_sf_1',\n",
    "                   'total_bsmt_sf',\n",
    "                   'kitchen_qual',\n",
    "                   'fireplace_qu',\n",
    "                   'exter_qual',\n",
    "                   'gr_liv_area',\n",
    "                   'garage_cars',\n",
    "                   'bsmt_exposure',\n",
    "                   'lot_area',\n",
    "                   'misc_val',\n",
    "                   'neighborhood']]"
   ]
  },
  {
   "cell_type": "markdown",
   "id": "0205f45a",
   "metadata": {},
   "source": [
    "###### Feature Engineering"
   ]
  },
  {
   "cell_type": "markdown",
   "id": "799bccad",
   "metadata": {},
   "source": [
    "###### bsmt_exposure"
   ]
  },
  {
   "cell_type": "code",
   "execution_count": 91,
   "id": "4324040f",
   "metadata": {},
   "outputs": [],
   "source": [
    "# creating a dictionary to scale ordinal data into numbers\n",
    "scale_mapper = {np.NaN:0,\"No\":1, \"Mn\":2, \"Av\":3,\"Gd\":4}\n",
    "\n",
    "# replacing values in fireplace quality column with values created in scale_mapper\n",
    "test_df[\"bsmt_exposure\"] = test_df[\"bsmt_exposure\"].replace(scale_mapper)"
   ]
  },
  {
   "cell_type": "markdown",
   "id": "c16ba3d3",
   "metadata": {},
   "source": [
    "###### kitchen_qual"
   ]
  },
  {
   "cell_type": "code",
   "execution_count": 92,
   "id": "d7da5667",
   "metadata": {},
   "outputs": [],
   "source": [
    "# creating a dictionary to scale ordinal data into numbers\n",
    "scale_mapper = {\"Po\":0, \"Fa\":1, \"TA\":2,\"Gd\":3,\"Ex\":4}\n",
    "\n",
    "# replacing values in fireplace quality column with values created in scale_mapper\n",
    "test_df[\"kitchen_qual\"] = test_df[\"kitchen_qual\"].replace(scale_mapper)"
   ]
  },
  {
   "cell_type": "markdown",
   "id": "1b6dfa54",
   "metadata": {},
   "source": [
    "###### fireplace_qu"
   ]
  },
  {
   "cell_type": "code",
   "execution_count": 93,
   "id": "bc1ab510",
   "metadata": {},
   "outputs": [],
   "source": [
    "# creating a dictionary to scale ordinal data into numbers\n",
    "scale_mapper = {np.NaN:0,\"Po\":1, \"Fa\":2, \"TA\":3, \"Gd\":4, \"Ex\":5}\n",
    "\n",
    "# replacing values in fireplace quality column with values created in scale_mapper\n",
    "test_df[\"fireplace_qu\"] = test_df[\"fireplace_qu\"].replace(scale_mapper)"
   ]
  },
  {
   "cell_type": "markdown",
   "id": "7a263ebe",
   "metadata": {},
   "source": [
    "###### exter_qual"
   ]
  },
  {
   "cell_type": "code",
   "execution_count": 94,
   "id": "46d34e18",
   "metadata": {},
   "outputs": [],
   "source": [
    "# creating a dictionary to scale ordinal data into numbers\n",
    "scale_mapper = {'Po':0,\"Fa\":1, \"TA\":2, \"Gd\":3,\"Ex\":4}\n",
    "\n",
    "# replacing values in fireplace quality column with values created in scale_mapper\n",
    "test_df[\"exter_qual\"] = test_df[\"exter_qual\"].replace(scale_mapper)"
   ]
  },
  {
   "cell_type": "markdown",
   "id": "88ec4403",
   "metadata": {},
   "source": [
    "###### neighborhood_ranked"
   ]
  },
  {
   "cell_type": "code",
   "execution_count": 95,
   "id": "c48ab478",
   "metadata": {},
   "outputs": [],
   "source": [
    "# creating a dictionary to scale ordinal data into numbers\n",
    "# 0 being the neighborhood with the lowest median and 27 being the neighborhood with the highest median\n",
    "scale_mapper = {'MeadowV':0,\n",
    "                'IDOTRR':1,\n",
    "                'BrDale':2,\n",
    "                'OldTown':3,\n",
    "                'Edwards':4,\n",
    "                'BrkSide':5,\n",
    "                'Sawyer':6,\n",
    "                'SWISU':7,\n",
    "                'Landmrk':8,\n",
    "                'Blueste':9,\n",
    "                'NAmes':10,\n",
    "                'NPkVill':11,\n",
    "                'Mitchel':12,\n",
    "                'Gilbert':13,\n",
    "                'SawyerW':14,\n",
    "                'NWAmes':15,\n",
    "                'Greens':16,\n",
    "                'Blmngtn':17,\n",
    "                'Crawfor':18,\n",
    "                'CollgCr':19,\n",
    "                'Timber':20,\n",
    "                'Somerst':21,\n",
    "                'ClearCr':22,\n",
    "                'Veenker':23,\n",
    "                'GrnHill':24,\n",
    "                'NoRidge':25,\n",
    "                'NridgHt':26,\n",
    "                'StoneBr':27}\n",
    "\n",
    "# replacing values in fireplace quality column with values created in scale_mapper\n",
    "test_df[\"neighborhood_ranked\"] = test_df[\"neighborhood\"].replace(scale_mapper)"
   ]
  },
  {
   "cell_type": "markdown",
   "id": "96c5dd13",
   "metadata": {},
   "source": [
    "###### Creating final test_df"
   ]
  },
  {
   "cell_type": "code",
   "execution_count": 96,
   "id": "69207fd5",
   "metadata": {},
   "outputs": [],
   "source": [
    "# selecting only required features\n",
    "test_df1 = test_df[features]"
   ]
  },
  {
   "cell_type": "markdown",
   "id": "967c657f",
   "metadata": {},
   "source": [
    "### Scale"
   ]
  },
  {
   "cell_type": "code",
   "execution_count": 97,
   "id": "3881b589",
   "metadata": {},
   "outputs": [],
   "source": [
    "# scaling test_df1 \n",
    "scaled_test_df = ss.transform(test_df1)"
   ]
  },
  {
   "cell_type": "markdown",
   "id": "81768725",
   "metadata": {},
   "source": [
    "### Prediction"
   ]
  },
  {
   "cell_type": "code",
   "execution_count": 98,
   "id": "a57a9512",
   "metadata": {},
   "outputs": [],
   "source": [
    "# predicting housing values with selected features\n",
    "pred = lr.predict(scaled_test_df)"
   ]
  },
  {
   "cell_type": "code",
   "execution_count": 99,
   "id": "04114b51",
   "metadata": {},
   "outputs": [],
   "source": [
    "# engineering data to submission format\n",
    "# cubing pred as predicted y-value is the cuberoot of saleprice, cubing it returns the actual predicted saleprice\n",
    "data = list(zip(test_df.id,pred**3))\n",
    "data1 = pd.DataFrame(data,columns=['Id','SalePrice'])\n",
    "data1 = data1.sort_values(by=['Id'],ascending=True).round(4)"
   ]
  },
  {
   "cell_type": "markdown",
   "id": "a317d70f",
   "metadata": {},
   "source": [
    "###### Exporting submission.csv"
   ]
  },
  {
   "cell_type": "code",
   "execution_count": 100,
   "id": "a80f3ee7",
   "metadata": {},
   "outputs": [],
   "source": [
    "data1.to_csv('./datasets/submission_final.csv',index=False)"
   ]
  },
  {
   "cell_type": "markdown",
   "id": "a44c828b",
   "metadata": {},
   "source": [
    "---"
   ]
  },
  {
   "cell_type": "markdown",
   "id": "d579564d",
   "metadata": {},
   "source": [
    "## Conclusion and Reccomendations"
   ]
  },
  {
   "cell_type": "markdown",
   "id": "b47e5de3",
   "metadata": {},
   "source": [
    "**Problem Statement**\n",
    "\n",
    "I am a data scientist working for an online property agency in the United States.  \n",
    "\n",
    "This online platform allows clients to put their properties on sale. When transactions are made, the company then takes a percentage of commission. As part of a new service, the company wishes to help clients properly value their properties and prevent our clients from being low-balled. When **clients make profits, the company also enjoys a higher commission** creating a win-win situation for both the company and its clients.  \n",
    "\n",
    "In view of the increase in property transactions in Ames, Iowa, the company is also looking to expand into Ames to take advantage of the increase in property transactions.\n",
    "\n",
    "As part of the Data Science team, I am tasked to build a regression model to predict sale prices of housing specifically in Ames, Iowa. Criterias given by the company includes that the model should have a **high R2 score (R-squared)** and a **low RMSE (Root Mean Squared Error)** as the cost of error can be huge to both **clients and the company**. Most importantly, the model should also be efficient and uses the **least amount of features** to predict housing prices in lieu of a cost-cutting measure.\n",
    "\n",
    "\n",
    "Help sellers reccomend what features help increase sale price\n"
   ]
  }
 ],
 "metadata": {
  "kernelspec": {
   "display_name": "Python 3 (ipykernel)",
   "language": "python",
   "name": "python3"
  },
  "language_info": {
   "codemirror_mode": {
    "name": "ipython",
    "version": 3
   },
   "file_extension": ".py",
   "mimetype": "text/x-python",
   "name": "python",
   "nbconvert_exporter": "python",
   "pygments_lexer": "ipython3",
   "version": "3.9.12"
  }
 },
 "nbformat": 4,
 "nbformat_minor": 5
}
