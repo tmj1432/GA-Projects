{
 "cells": [
  {
   "cell_type": "markdown",
   "id": "82a48bdd",
   "metadata": {},
   "source": [
    "<img src=\"http://imgur.com/1ZcRyrc.png\" style=\"float: left; margin: 20px; height: 55px\">\n",
    "\n",
    "# Project 2: Regression Challenge ( Part 2 )\n"
   ]
  },
  {
   "cell_type": "markdown",
   "id": "eaaf3b75",
   "metadata": {},
   "source": [
    "## Part 2"
   ]
  },
  {
   "cell_type": "markdown",
   "id": "f87dafb0",
   "metadata": {},
   "source": [
    "\n",
    "\n",
    "Part 2 includes Model Selection, Running Models and Model Evaluation.\n",
    "\n",
    "Models we will run in this section would be the null model (benchmark), linear regression, ridge regression and lasso regression.\n",
    "\n",
    "The general flow of this part will be model prep, model fitting followed by an evaluation at the end.\n",
    "\n",
    "\n",
    "---"
   ]
  },
  {
   "cell_type": "markdown",
   "id": "89efcc5b",
   "metadata": {},
   "source": [
    "### Problem Statement Recap"
   ]
  },
  {
   "cell_type": "markdown",
   "id": "26ca4dc1",
   "metadata": {},
   "source": [
    "I am a data scientist working for an online property agency in the United States.  \n",
    "\n",
    "This online platform allows clients to put their properties on sale. When transactions are made, the company then takes a percentage of commission. As part of a new service, the company wishes to help clients properly value their properties and prevent our clients from being low-balled. When **clients make profits, the company also enjoys a higher commission** creating a win-win situation for both the company and its clients.  \n",
    "\n",
    "In view of the increase in property transactions in Ames, Iowa, the company is also looking to expand into Ames to take advantage of the increase in property transactions.\n",
    "\n",
    "As part of the Data Science team, I am tasked to build a regression model to predict sale prices of housing specifically in Ames, Iowa. Criterias given by the company includes that the model should have a **high R2 score (R-squared)** and a **low RMSE (Root Mean Squared Error)** as the cost of error can be huge to both **clients and the company**. Most importantly, the model should also be efficient and uses the **least amount of features** to predict housing prices in lieu of a cost-cutting measure."
   ]
  },
  {
   "cell_type": "markdown",
   "id": "5859eda3",
   "metadata": {},
   "source": [
    "---"
   ]
  },
  {
   "cell_type": "markdown",
   "id": "0347db41",
   "metadata": {},
   "source": [
    "\n",
    "In fulfilment to Project 2, we will only be using Regression models to predict housing prices. To evaluate these models, R2 Score (R-Squared) and RMSE (Root Mean Standard Error) will be used.\n",
    "\n",
    "**R2 Score** is a value between 0 to 1. For example, an r-squared of 0.6 reveals that 60% of the variability observed in the target variable is explained by the regression model.\n",
    "\n",
    "**For RMSE (Root Mean Standard Error), RMSE** can be interpreted as the standard deviation of the unexplained variance. It has the useful property of being in the same units as the response variable. Lower values of RMSE indicate better fit. For example a RMSE of 1 point means that the mean residuals of the predicted value is 1 point away from the actual value.\n"
   ]
  },
  {
   "cell_type": "markdown",
   "id": "3a59ee54",
   "metadata": {},
   "source": [
    "---"
   ]
  },
  {
   "cell_type": "markdown",
   "id": "6b66e6f5",
   "metadata": {},
   "source": [
    "## Table of Contents"
   ]
  },
  {
   "cell_type": "markdown",
   "id": "4f9eb104",
   "metadata": {},
   "source": [
    " - [Importing Libraries](#Importing-Libraries)\n",
    " - [Data Import](#Data-Import)\n",
    " - [Model 1](#Model-1-:-Sale-Price-as-target-variable)\n",
    "  - [Evaluation Results](#Model-1-Evaluation-Results)\n",
    " - [Model 2](#Model-2-:-Cuberoot-Sale-Price-as-target-variable)\n",
    "  - [Evaluation Results](#Model-2-Evaluation-Results)\n",
    " - [Model 2.1](#Model-2-:-Optimisation)\n",
    "  - [Evaluation Results](#Evaluation-Results-Before-and-After-Feature-Selection)\n",
    " - [Final Model](#Final-Model)\n",
    "  - [Predictions](#Predictions)\n",
    "  - [Testing Assumptions of Linear Regression](#Testing-Assumptions-of-Linear-Regression)\n",
    "  - [Coefficient Analysis](#Coefficient-Analysis)\n",
    "  - [Hypothesis Testing](#Hypothesis-Testing)\n",
    "  - [Summary of Final Model](#Summary-of-Final-Model)\n",
    " - [Conclusion & Recommendations](#Conclusion-and-Recomendations)"
   ]
  },
  {
   "cell_type": "markdown",
   "id": "c937baa0",
   "metadata": {},
   "source": [
    "---"
   ]
  },
  {
   "cell_type": "markdown",
   "id": "bc220dce",
   "metadata": {},
   "source": [
    "## Importing Libraries"
   ]
  },
  {
   "cell_type": "markdown",
   "id": "ced2b5a9",
   "metadata": {},
   "source": [
    "###### \n"
   ]
  },
  {
   "cell_type": "code",
   "execution_count": 1,
   "id": "4b4cfb50",
   "metadata": {},
   "outputs": [],
   "source": [
    "## Importing Libraries\n",
    "\n",
    "import pandas as pd\n",
    "import numpy as np\n",
    "import matplotlib.pyplot as plt\n",
    "import seaborn as sns\n",
    "\n",
    "import statistics\n",
    "import statsmodels.api as sm\n",
    "from scipy import stats\n",
    "import shap\n",
    "\n",
    "from sklearn.linear_model import LinearRegression, LassoCV, RidgeCV\n",
    "from sklearn.preprocessing import PolynomialFeatures, StandardScaler\n",
    "from sklearn.model_selection import train_test_split, GridSearchCV\n",
    "from sklearn.metrics import mean_squared_error, r2_score\n",
    "\n",
    "import warnings\n",
    "warnings.filterwarnings('ignore')"
   ]
  },
  {
   "cell_type": "code",
   "execution_count": 2,
   "id": "c4f737c0",
   "metadata": {},
   "outputs": [],
   "source": [
    "pd.set_option(\"display.max_rows\", 60)\n",
    "pd.set_option(\"display.max_columns\", 200)"
   ]
  },
  {
   "cell_type": "markdown",
   "id": "f20aef04",
   "metadata": {},
   "source": [
    "---"
   ]
  },
  {
   "cell_type": "markdown",
   "id": "ea83e382",
   "metadata": {},
   "source": [
    "## Data Import"
   ]
  },
  {
   "cell_type": "code",
   "execution_count": 3,
   "id": "f634dd84",
   "metadata": {},
   "outputs": [],
   "source": [
    "# reading final_df.csv dataset \n",
    "df = pd.read_csv('./datasets/final.csv')"
   ]
  },
  {
   "cell_type": "markdown",
   "id": "64bfd2ca",
   "metadata": {},
   "source": [
    "---"
   ]
  },
  {
   "cell_type": "markdown",
   "id": "7cc22697",
   "metadata": {},
   "source": [
    "## Model 1 : Sale Price as target variable"
   ]
  },
  {
   "cell_type": "markdown",
   "id": "86db625f",
   "metadata": {},
   "source": [
    "---"
   ]
  },
  {
   "cell_type": "markdown",
   "id": "d1c640c4",
   "metadata": {},
   "source": [
    "### Model Prep"
   ]
  },
  {
   "cell_type": "markdown",
   "id": "4701c58d",
   "metadata": {},
   "source": [
    "Every column (that is not our dependent variable) will be used as a feature.\n",
    "\n",
    "The `saleprice` column is our dependent variable: It represents the Sale Price. \n",
    "\n",
    "In the cell below, create your `X` and `y` variables."
   ]
  },
  {
   "cell_type": "markdown",
   "id": "f4bf3c5a",
   "metadata": {},
   "source": [
    "###### Create our features matrix (`X`) and target vector (`y`)"
   ]
  },
  {
   "cell_type": "code",
   "execution_count": 4,
   "id": "bd6fd771",
   "metadata": {},
   "outputs": [],
   "source": [
    "X = df.drop(columns=['saleprice','cbrt_saleprice'])"
   ]
  },
  {
   "cell_type": "code",
   "execution_count": 5,
   "id": "49047cae",
   "metadata": {},
   "outputs": [],
   "source": [
    "y = df['saleprice']"
   ]
  },
  {
   "cell_type": "markdown",
   "id": "159b1617",
   "metadata": {},
   "source": [
    "###### Train/test split"
   ]
  },
  {
   "cell_type": "markdown",
   "id": "6b7b0053",
   "metadata": {},
   "source": [
    "We always want to have a holdout set to test our model. Here, we are using the `train_test_split` function to split our `X` and `y` variables into a training set and a holdout set."
   ]
  },
  {
   "cell_type": "code",
   "execution_count": 6,
   "id": "036ea14b",
   "metadata": {},
   "outputs": [],
   "source": [
    "X_train, X_test, y_train, y_test = train_test_split(X, y, random_state=42)"
   ]
  },
  {
   "cell_type": "markdown",
   "id": "7160e13b",
   "metadata": {},
   "source": [
    "###### Scaling"
   ]
  },
  {
   "cell_type": "markdown",
   "id": "79a6ebf5",
   "metadata": {},
   "source": [
    "Since we're also using `Lasso` and `Ridge`, we'll want to scale our features. In the cell below, fit a `StandardScaler` to `X_train` and use it to transform both `X_train` and `X_test`."
   ]
  },
  {
   "cell_type": "code",
   "execution_count": 7,
   "id": "caf0af2a",
   "metadata": {},
   "outputs": [],
   "source": [
    "ss = StandardScaler()\n",
    "# set a scale\n",
    "ss.fit(X_train)\n",
    "# apply scale to x_train\n",
    "X_train_sc = ss.transform(X_train)\n",
    "# apply scale to x_test\n",
    "X_test_sc = ss.transform(X_test)"
   ]
  },
  {
   "cell_type": "markdown",
   "id": "8cd4d11b",
   "metadata": {},
   "source": [
    "---"
   ]
  },
  {
   "cell_type": "markdown",
   "id": "3c9e6cdc",
   "metadata": {},
   "source": [
    "### Linear Regression"
   ]
  },
  {
   "cell_type": "markdown",
   "id": "e3d81f06",
   "metadata": {},
   "source": [
    "#### Instantiate Linear Regression"
   ]
  },
  {
   "cell_type": "code",
   "execution_count": 8,
   "id": "20d04129",
   "metadata": {},
   "outputs": [],
   "source": [
    "lr = LinearRegression()"
   ]
  },
  {
   "cell_type": "markdown",
   "id": "5affb5b7",
   "metadata": {},
   "source": [
    "###### Model Fitting"
   ]
  },
  {
   "cell_type": "code",
   "execution_count": 9,
   "id": "cd6e7c1a",
   "metadata": {},
   "outputs": [
    {
     "data": {
      "text/plain": [
       "LinearRegression()"
      ]
     },
     "execution_count": 9,
     "metadata": {},
     "output_type": "execute_result"
    }
   ],
   "source": [
    "lr.fit(X_train_sc, y_train)"
   ]
  },
  {
   "cell_type": "markdown",
   "id": "570f43f4",
   "metadata": {},
   "source": [
    "### Evaluation"
   ]
  },
  {
   "cell_type": "markdown",
   "id": "a364b101",
   "metadata": {},
   "source": [
    "###### R2 Score"
   ]
  },
  {
   "cell_type": "code",
   "execution_count": 10,
   "id": "545b8d38",
   "metadata": {},
   "outputs": [
    {
     "data": {
      "text/plain": [
       "0.9152081451644322"
      ]
     },
     "execution_count": 10,
     "metadata": {},
     "output_type": "execute_result"
    }
   ],
   "source": [
    "# R2 score of train x and train y\n",
    "lr.score(X_train_sc, y_train)"
   ]
  },
  {
   "cell_type": "code",
   "execution_count": 11,
   "id": "ad36bb0b",
   "metadata": {
    "scrolled": false
   },
   "outputs": [
    {
     "data": {
      "text/plain": [
       "-2.6908744909550435e+23"
      ]
     },
     "execution_count": 11,
     "metadata": {},
     "output_type": "execute_result"
    }
   ],
   "source": [
    "# R2 score of test x and test y\n",
    "lr.score(X_test_sc, y_test)"
   ]
  },
  {
   "cell_type": "markdown",
   "id": "2ee58486",
   "metadata": {},
   "source": [
    "Based on the R2 score of the train and test, we can evaluate that the linear model has overfitted itself to the training dataset which resulted in the high R2 score for the train dataset. However, when we look at the R2 score of the test dataset, we can see that the value is actually in the negative. This means that we would have to look into regularisation methods to better fit the regression line."
   ]
  },
  {
   "cell_type": "markdown",
   "id": "1c2063dc",
   "metadata": {},
   "source": [
    "###### RMSE"
   ]
  },
  {
   "cell_type": "code",
   "execution_count": 12,
   "id": "7d6faba1",
   "metadata": {},
   "outputs": [],
   "source": [
    "# predict values\n",
    "pred = lr.predict(X_test_sc)"
   ]
  },
  {
   "cell_type": "code",
   "execution_count": 13,
   "id": "a136734e",
   "metadata": {
    "scrolled": false
   },
   "outputs": [
    {
     "data": {
      "text/plain": [
       "4.036787364844e+16"
      ]
     },
     "execution_count": 13,
     "metadata": {},
     "output_type": "execute_result"
    }
   ],
   "source": [
    "# root mean squared error\n",
    "mean_squared_error(y_test, pred, squared=False)"
   ]
  },
  {
   "cell_type": "markdown",
   "id": "5ce7aed5",
   "metadata": {},
   "source": [
    "The Root Mean Square Error is also an insane value."
   ]
  },
  {
   "cell_type": "markdown",
   "id": "aec0a219",
   "metadata": {},
   "source": [
    "---"
   ]
  },
  {
   "cell_type": "markdown",
   "id": "b5fb47a3",
   "metadata": {},
   "source": [
    "### Regularisation"
   ]
  },
  {
   "cell_type": "markdown",
   "id": "b99d0fb3",
   "metadata": {},
   "source": [
    "In the following section, we will be looking at two types of regularisation, the Ridge and the Lasso. Regularization refers to techniques that are used to calibrate machine learning models in order to minimize the adjusted loss function and prevent overfitting or underfitting. Using Regularization, we can fit our machine learning model appropriately on a given test set and hence reduce the errors in it."
   ]
  },
  {
   "cell_type": "markdown",
   "id": "5f53f7a7",
   "metadata": {},
   "source": [
    "---"
   ]
  },
  {
   "cell_type": "markdown",
   "id": "c2bfe401",
   "metadata": {},
   "source": [
    "### Ridge Regression"
   ]
  },
  {
   "cell_type": "markdown",
   "id": "358fe829",
   "metadata": {},
   "source": [
    "#### Instantiate Ridge Regression"
   ]
  },
  {
   "cell_type": "code",
   "execution_count": 14,
   "id": "b425b16c",
   "metadata": {},
   "outputs": [],
   "source": [
    "ridge = RidgeCV(alphas=np.linspace(.1, 10, 100))"
   ]
  },
  {
   "cell_type": "markdown",
   "id": "3ed5a29f",
   "metadata": {},
   "source": [
    "###### Model Fitting"
   ]
  },
  {
   "cell_type": "code",
   "execution_count": 15,
   "id": "4f1d8479",
   "metadata": {
    "scrolled": false
   },
   "outputs": [
    {
     "data": {
      "text/plain": [
       "RidgeCV(alphas=array([ 0.1,  0.2,  0.3,  0.4,  0.5,  0.6,  0.7,  0.8,  0.9,  1. ,  1.1,\n",
       "        1.2,  1.3,  1.4,  1.5,  1.6,  1.7,  1.8,  1.9,  2. ,  2.1,  2.2,\n",
       "        2.3,  2.4,  2.5,  2.6,  2.7,  2.8,  2.9,  3. ,  3.1,  3.2,  3.3,\n",
       "        3.4,  3.5,  3.6,  3.7,  3.8,  3.9,  4. ,  4.1,  4.2,  4.3,  4.4,\n",
       "        4.5,  4.6,  4.7,  4.8,  4.9,  5. ,  5.1,  5.2,  5.3,  5.4,  5.5,\n",
       "        5.6,  5.7,  5.8,  5.9,  6. ,  6.1,  6.2,  6.3,  6.4,  6.5,  6.6,\n",
       "        6.7,  6.8,  6.9,  7. ,  7.1,  7.2,  7.3,  7.4,  7.5,  7.6,  7.7,\n",
       "        7.8,  7.9,  8. ,  8.1,  8.2,  8.3,  8.4,  8.5,  8.6,  8.7,  8.8,\n",
       "        8.9,  9. ,  9.1,  9.2,  9.3,  9.4,  9.5,  9.6,  9.7,  9.8,  9.9,\n",
       "       10. ]))"
      ]
     },
     "execution_count": 15,
     "metadata": {},
     "output_type": "execute_result"
    }
   ],
   "source": [
    "ridge.fit(X_train_sc, y_train)"
   ]
  },
  {
   "cell_type": "markdown",
   "id": "3dd17d0e",
   "metadata": {},
   "source": [
    "### Evaluation"
   ]
  },
  {
   "cell_type": "markdown",
   "id": "4364133c",
   "metadata": {},
   "source": [
    "###### R2 Score"
   ]
  },
  {
   "cell_type": "code",
   "execution_count": 16,
   "id": "60321397",
   "metadata": {},
   "outputs": [
    {
     "data": {
      "text/plain": [
       "0.9161375350699417"
      ]
     },
     "execution_count": 16,
     "metadata": {},
     "output_type": "execute_result"
    }
   ],
   "source": [
    "# train score\n",
    "ridge.score(X_train_sc, y_train)"
   ]
  },
  {
   "cell_type": "code",
   "execution_count": 17,
   "id": "28126480",
   "metadata": {
    "scrolled": true
   },
   "outputs": [
    {
     "data": {
      "text/plain": [
       "0.8976704687330602"
      ]
     },
     "execution_count": 17,
     "metadata": {},
     "output_type": "execute_result"
    }
   ],
   "source": [
    "# test score\n",
    "ridge.score(X_test_sc, y_test)"
   ]
  },
  {
   "cell_type": "markdown",
   "id": "9f1ed274",
   "metadata": {},
   "source": [
    "After using ridge regularisation, we can see that the R2 are looking better. The R2 score on the train and test dataset falls within the acceptable range of 0.1."
   ]
  },
  {
   "cell_type": "markdown",
   "id": "5931067f",
   "metadata": {},
   "source": [
    "###### RMSE"
   ]
  },
  {
   "cell_type": "code",
   "execution_count": 18,
   "id": "cafa3b67",
   "metadata": {},
   "outputs": [],
   "source": [
    "# predict values\n",
    "pred = ridge.predict(X_test_sc)"
   ]
  },
  {
   "cell_type": "code",
   "execution_count": 19,
   "id": "e67817af",
   "metadata": {
    "scrolled": true
   },
   "outputs": [
    {
     "data": {
      "text/plain": [
       "24893.711116558166"
      ]
     },
     "execution_count": 19,
     "metadata": {},
     "output_type": "execute_result"
    }
   ],
   "source": [
    "mean_squared_error(y_test, pred, squared=False)"
   ]
  },
  {
   "cell_type": "markdown",
   "id": "9a0e624d",
   "metadata": {},
   "source": [
    "There is a root mean square error of 26,024 , this means that on average, the model predicts sale price \\$26,024 away from the actual sale price. "
   ]
  },
  {
   "cell_type": "markdown",
   "id": "a1d6ddd8",
   "metadata": {},
   "source": [
    "---"
   ]
  },
  {
   "cell_type": "markdown",
   "id": "c15aa6e0",
   "metadata": {},
   "source": [
    "### Lasso Regression"
   ]
  },
  {
   "cell_type": "markdown",
   "id": "f04fdd4b",
   "metadata": {},
   "source": [
    "#### Instantiate Lasso Regression"
   ]
  },
  {
   "cell_type": "code",
   "execution_count": 20,
   "id": "ddd6962d",
   "metadata": {},
   "outputs": [],
   "source": [
    "lasso = LassoCV(n_alphas=100)"
   ]
  },
  {
   "cell_type": "markdown",
   "id": "3ca5f196",
   "metadata": {},
   "source": [
    "###### Model Fitting"
   ]
  },
  {
   "cell_type": "code",
   "execution_count": 21,
   "id": "5965c105",
   "metadata": {
    "scrolled": true
   },
   "outputs": [
    {
     "data": {
      "text/plain": [
       "LassoCV()"
      ]
     },
     "execution_count": 21,
     "metadata": {},
     "output_type": "execute_result"
    }
   ],
   "source": [
    "lasso.fit(X_train_sc, y_train)"
   ]
  },
  {
   "cell_type": "markdown",
   "id": "6382dd94",
   "metadata": {},
   "source": [
    "### Evaluation"
   ]
  },
  {
   "cell_type": "markdown",
   "id": "4abe6ed6",
   "metadata": {},
   "source": [
    "###### R2 Score"
   ]
  },
  {
   "cell_type": "code",
   "execution_count": 22,
   "id": "0be272f2",
   "metadata": {},
   "outputs": [
    {
     "data": {
      "text/plain": [
       "0.8965288989163409"
      ]
     },
     "execution_count": 22,
     "metadata": {},
     "output_type": "execute_result"
    }
   ],
   "source": [
    "lasso.score(X_train_sc, y_train)"
   ]
  },
  {
   "cell_type": "code",
   "execution_count": 23,
   "id": "db003a61",
   "metadata": {
    "scrolled": false
   },
   "outputs": [
    {
     "data": {
      "text/plain": [
       "0.8881903957517152"
      ]
     },
     "execution_count": 23,
     "metadata": {},
     "output_type": "execute_result"
    }
   ],
   "source": [
    "lasso.score(X_test_sc, y_test)"
   ]
  },
  {
   "cell_type": "markdown",
   "id": "53e355ac",
   "metadata": {},
   "source": [
    "After using lasso regularisation, we can see that the R2 are looking better. The R2 score on the train and test dataset falls within the acceptable range of 0.1. "
   ]
  },
  {
   "cell_type": "markdown",
   "id": "a0f0917c",
   "metadata": {},
   "source": [
    "###### RMSE"
   ]
  },
  {
   "cell_type": "code",
   "execution_count": 24,
   "id": "37d34b26",
   "metadata": {},
   "outputs": [],
   "source": [
    "# predict values\n",
    "pred = lasso.predict(X_test_sc)"
   ]
  },
  {
   "cell_type": "code",
   "execution_count": 25,
   "id": "764ea93a",
   "metadata": {
    "scrolled": false
   },
   "outputs": [
    {
     "data": {
      "text/plain": [
       "26021.283129066884"
      ]
     },
     "execution_count": 25,
     "metadata": {},
     "output_type": "execute_result"
    }
   ],
   "source": [
    "mean_squared_error(y_test, pred, squared=False)"
   ]
  },
  {
   "cell_type": "markdown",
   "id": "9b953765",
   "metadata": {},
   "source": [
    "There is a root mean square error of 27,129 , this means that on average, the model predicts sale price \\$27,129 away from the actual sale price. "
   ]
  },
  {
   "cell_type": "markdown",
   "id": "1a722b71",
   "metadata": {},
   "source": [
    "###### Hyperparameter Tuning"
   ]
  },
  {
   "cell_type": "code",
   "execution_count": 26,
   "id": "b4fb9ed6",
   "metadata": {},
   "outputs": [],
   "source": [
    "# parameters of lasso\n",
    "params = {\"n_alphas\":[200,300,400,500]}\n",
    "\n",
    "# instanstiate gridsearch\n",
    "model = GridSearchCV(lasso, params, cv=5)"
   ]
  },
  {
   "cell_type": "code",
   "execution_count": 27,
   "id": "f1556096",
   "metadata": {
    "scrolled": true
   },
   "outputs": [
    {
     "data": {
      "text/plain": [
       "{'n_alphas': 200}"
      ]
     },
     "execution_count": 27,
     "metadata": {},
     "output_type": "execute_result"
    }
   ],
   "source": [
    "# fit gridsearch \n",
    "model.fit(X_train_sc, y_train)\n",
    "\n",
    "# get best parameters\n",
    "model.best_params_"
   ]
  },
  {
   "cell_type": "markdown",
   "id": "125781d1",
   "metadata": {},
   "source": [
    "After using gridsearch, we found out at the current 'n_alphas' used is the most optimum 'n_alphas'"
   ]
  },
  {
   "cell_type": "markdown",
   "id": "737db04e",
   "metadata": {},
   "source": [
    "---"
   ]
  },
  {
   "cell_type": "markdown",
   "id": "255cb811",
   "metadata": {},
   "source": [
    "### Model 1 Evaluation Results"
   ]
  },
  {
   "cell_type": "markdown",
   "id": "aeb4ad38",
   "metadata": {},
   "source": [
    "| Model | Train Score (R2) | Test Score (R2) | Root Mean Squared Error ($) | No. of Features | \n",
    "| --- | --- | --- | --- | --- |\n",
    "| Linear | 0.915 | -2.691**e+23 | 4.037**e+16** | 183 |\n",
    "| Ridge | 0.916 | 0.898 | 24893.71 | 183 |\n",
    "| Lasso | 0.897 | 0.888 | 26021.28 | 183 |"
   ]
  },
  {
   "cell_type": "markdown",
   "id": "23057702",
   "metadata": {},
   "source": [
    "Based on the evaluation results of model 1, we can see that the ridge regression is actually the best performing model out of the three models explored. Therefore, we will be using that as our benchmark as we move to Model 2. Although the results does not look too bad, I believe that the Root Mean Squared Error can and should be lowered. A \\$26,000 error is still costly to all our stakeholders."
   ]
  },
  {
   "cell_type": "markdown",
   "id": "70c78231",
   "metadata": {},
   "source": [
    "###### BenchMark Model"
   ]
  },
  {
   "cell_type": "markdown",
   "id": "a76daa43",
   "metadata": {},
   "source": [
    "| Model | Train Score (R2) | Test Score (R2) | Root Mean Squared Error | No. of Features |\n",
    "| --- | --- | --- | --- | --- |\n",
    "| Ridge | 0.9050 | 0.8881 | 26024.54 | 155 |"
   ]
  },
  {
   "cell_type": "markdown",
   "id": "1ea43df2",
   "metadata": {},
   "source": [
    "This is our bench mark model and we will be comparing model 2 against it."
   ]
  },
  {
   "cell_type": "markdown",
   "id": "74fbc3a2",
   "metadata": {},
   "source": [
    "---"
   ]
  },
  {
   "cell_type": "markdown",
   "id": "3f5216fa",
   "metadata": {},
   "source": [
    "## Model 2 : Cuberoot Sale Price as target variable"
   ]
  },
  {
   "cell_type": "markdown",
   "id": "b998ffa4",
   "metadata": {},
   "source": [
    "In model 2, we will be investigating whether using the cuberoot sale price would allow us to get a higher R2 score and lower RMSE. **We will also have to keep in mind that the predicted value would be in cuberoot of sale price.**"
   ]
  },
  {
   "cell_type": "markdown",
   "id": "a3851e0a",
   "metadata": {},
   "source": [
    "---"
   ]
  },
  {
   "cell_type": "markdown",
   "id": "4175b14b",
   "metadata": {},
   "source": [
    "### Model Prep"
   ]
  },
  {
   "cell_type": "markdown",
   "id": "40f9b56c",
   "metadata": {},
   "source": [
    "Every column (that is not our dependent variable) will be used as a feature.\n",
    "\n",
    "The `cbrt_saleprice` column is our dependent variable: It represents the Cuberoot of Sale Price. \n",
    "\n",
    "In the cell below, create your `X` and `y` variables."
   ]
  },
  {
   "cell_type": "markdown",
   "id": "77c8de85",
   "metadata": {},
   "source": [
    "###### Create our features matrix (`X`) and target vector (`y`)"
   ]
  },
  {
   "cell_type": "code",
   "execution_count": 28,
   "id": "9d126407",
   "metadata": {},
   "outputs": [],
   "source": [
    "X = df.drop(columns=['saleprice','cbrt_saleprice'])"
   ]
  },
  {
   "cell_type": "code",
   "execution_count": 29,
   "id": "b58e0722",
   "metadata": {},
   "outputs": [],
   "source": [
    "y = df['cbrt_saleprice']"
   ]
  },
  {
   "cell_type": "markdown",
   "id": "e2762e3a",
   "metadata": {},
   "source": [
    "###### Train/test split"
   ]
  },
  {
   "cell_type": "markdown",
   "id": "07733222",
   "metadata": {},
   "source": [
    "We always want to have a holdout set to test our model. Here, we are using the `train_test_split` function to split our `X` and `y` variables into a training set and a holdout set."
   ]
  },
  {
   "cell_type": "code",
   "execution_count": 30,
   "id": "d31d429e",
   "metadata": {},
   "outputs": [],
   "source": [
    "X_train, X_test, y_train, y_test = train_test_split(X, y, random_state=42)"
   ]
  },
  {
   "cell_type": "markdown",
   "id": "5c7457cb",
   "metadata": {},
   "source": [
    "###### Scaling"
   ]
  },
  {
   "cell_type": "markdown",
   "id": "7e0e2e65",
   "metadata": {},
   "source": [
    "Since we're also using `Lasso` and `Ridge`, we'll want to scale our features. In the cell below, fit a `StandardScaler` to `X_train` and use it to transform both `X_train` and `X_test`."
   ]
  },
  {
   "cell_type": "code",
   "execution_count": 31,
   "id": "5e3cd153",
   "metadata": {},
   "outputs": [],
   "source": [
    "ss = StandardScaler()\n",
    "# set a scale\n",
    "ss.fit(X_train)\n",
    "# apply scale to x_train\n",
    "X_train_sc = ss.transform(X_train)\n",
    "# apply scale to x_test\n",
    "X_test_sc = ss.transform(X_test)"
   ]
  },
  {
   "cell_type": "markdown",
   "id": "3608f432",
   "metadata": {},
   "source": [
    "---"
   ]
  },
  {
   "cell_type": "markdown",
   "id": "ed14bb98",
   "metadata": {},
   "source": [
    "### Linear Regression"
   ]
  },
  {
   "cell_type": "markdown",
   "id": "bd3545f6",
   "metadata": {},
   "source": [
    "#### Instantiate Linear Regression"
   ]
  },
  {
   "cell_type": "code",
   "execution_count": 32,
   "id": "a32a8760",
   "metadata": {},
   "outputs": [],
   "source": [
    "lr = LinearRegression()"
   ]
  },
  {
   "cell_type": "markdown",
   "id": "a7f21a76",
   "metadata": {},
   "source": [
    "#### Model Fitting"
   ]
  },
  {
   "cell_type": "code",
   "execution_count": 33,
   "id": "6741edae",
   "metadata": {},
   "outputs": [
    {
     "data": {
      "text/plain": [
       "LinearRegression()"
      ]
     },
     "execution_count": 33,
     "metadata": {},
     "output_type": "execute_result"
    }
   ],
   "source": [
    "lr.fit(X_train_sc, y_train)"
   ]
  },
  {
   "cell_type": "markdown",
   "id": "1d26ce23",
   "metadata": {},
   "source": [
    "#### Evaluation"
   ]
  },
  {
   "cell_type": "markdown",
   "id": "66e19d68",
   "metadata": {},
   "source": [
    "###### R2 Score"
   ]
  },
  {
   "cell_type": "code",
   "execution_count": 34,
   "id": "45d4dadb",
   "metadata": {},
   "outputs": [
    {
     "data": {
      "text/plain": [
       "0.9355777862820117"
      ]
     },
     "execution_count": 34,
     "metadata": {},
     "output_type": "execute_result"
    }
   ],
   "source": [
    "# R2 score of train x and train y\n",
    "lr.score(X_train_sc, y_train)"
   ]
  },
  {
   "cell_type": "code",
   "execution_count": 35,
   "id": "d259e13d",
   "metadata": {
    "scrolled": true
   },
   "outputs": [
    {
     "data": {
      "text/plain": [
       "-9.157791457790887e+21"
      ]
     },
     "execution_count": 35,
     "metadata": {},
     "output_type": "execute_result"
    }
   ],
   "source": [
    "# R2 score of test x and test y\n",
    "lr.score(X_test_sc, y_test)"
   ]
  },
  {
   "cell_type": "markdown",
   "id": "ba65bc9d",
   "metadata": {},
   "source": [
    "Based on the R2 score alone, we can see that the linear regression model performs pretty well on the train dataset with a R2 score of 0.93 (rounded to 2d.p.). However, the model performs badly on the test dataset, with a R2 score of -3.81 (rounded to 2d.p.).\n",
    "\n",
    "This means that the linear regression model has overfitted itself to the train dataset and is unable to perform on the test dataset."
   ]
  },
  {
   "cell_type": "markdown",
   "id": "0ecad5f4",
   "metadata": {},
   "source": [
    "###### RMSE "
   ]
  },
  {
   "cell_type": "code",
   "execution_count": 36,
   "id": "7dfb80fa",
   "metadata": {},
   "outputs": [],
   "source": [
    "# predict values\n",
    "pred = lr.predict(X_test_sc)"
   ]
  },
  {
   "cell_type": "code",
   "execution_count": 37,
   "id": "cd37a74d",
   "metadata": {},
   "outputs": [
    {
     "data": {
      "text/plain": [
       "1.5906009601477723e+38"
      ]
     },
     "execution_count": 37,
     "metadata": {},
     "output_type": "execute_result"
    }
   ],
   "source": [
    "# cubing y_test and pred in order to get RMSE in actual $ value\n",
    "mean_squared_error(y_test**3, pred**3, squared=False)"
   ]
  },
  {
   "cell_type": "markdown",
   "id": "c09e3c69",
   "metadata": {},
   "source": [
    "As we are now using the cuberoot of sale price, we will have to cube the Root Mean Square Error to convert it back to monetary value. All of the RMSE in Model 2 will be cubed for better comparison with the bench mark model. The RMSE of the linear regression model also returns an insane value."
   ]
  },
  {
   "cell_type": "markdown",
   "id": "aea6111b",
   "metadata": {},
   "source": [
    "We can safely conclude that the **linear regression does not surpass our benchmark**.\n",
    "\n",
    "This also means that there are features with **multi-collinearity** which requires regularisation."
   ]
  },
  {
   "cell_type": "markdown",
   "id": "8ca4b0a2",
   "metadata": {},
   "source": [
    "---"
   ]
  },
  {
   "cell_type": "markdown",
   "id": "152486f1",
   "metadata": {},
   "source": [
    "### Regularisation"
   ]
  },
  {
   "cell_type": "markdown",
   "id": "7bda0b5a",
   "metadata": {},
   "source": [
    "In the following section, we will be looking at two types of regularisation, the Ridge and the Lasso. Regularization refers to techniques that are used to calibrate machine learning models in order to minimize the adjusted loss function and prevent overfitting or underfitting. Using Regularization, we can fit our machine learning model appropriately on a given test set and hence reduce the errors in it."
   ]
  },
  {
   "cell_type": "markdown",
   "id": "f3f5f759",
   "metadata": {},
   "source": [
    "---"
   ]
  },
  {
   "cell_type": "markdown",
   "id": "a30bf8cd",
   "metadata": {},
   "source": [
    "### Ridge Regression"
   ]
  },
  {
   "cell_type": "markdown",
   "id": "357a6da9",
   "metadata": {},
   "source": [
    "L2 regularization, or the L2 norm, or Ridge (in regression problems), combats overfitting by forcing weights to be small, but not making them exactly 0. "
   ]
  },
  {
   "cell_type": "markdown",
   "id": "ce8205ce",
   "metadata": {},
   "source": [
    "#### Instantiate Ridge Regression"
   ]
  },
  {
   "cell_type": "code",
   "execution_count": 38,
   "id": "a6a8d353",
   "metadata": {},
   "outputs": [],
   "source": [
    "ridge = RidgeCV(alphas=np.linspace(.1, 10, 100))"
   ]
  },
  {
   "cell_type": "markdown",
   "id": "1eb91b43",
   "metadata": {},
   "source": [
    "#### Model Fitting"
   ]
  },
  {
   "cell_type": "code",
   "execution_count": 39,
   "id": "eddc6243",
   "metadata": {},
   "outputs": [
    {
     "data": {
      "text/plain": [
       "RidgeCV(alphas=array([ 0.1,  0.2,  0.3,  0.4,  0.5,  0.6,  0.7,  0.8,  0.9,  1. ,  1.1,\n",
       "        1.2,  1.3,  1.4,  1.5,  1.6,  1.7,  1.8,  1.9,  2. ,  2.1,  2.2,\n",
       "        2.3,  2.4,  2.5,  2.6,  2.7,  2.8,  2.9,  3. ,  3.1,  3.2,  3.3,\n",
       "        3.4,  3.5,  3.6,  3.7,  3.8,  3.9,  4. ,  4.1,  4.2,  4.3,  4.4,\n",
       "        4.5,  4.6,  4.7,  4.8,  4.9,  5. ,  5.1,  5.2,  5.3,  5.4,  5.5,\n",
       "        5.6,  5.7,  5.8,  5.9,  6. ,  6.1,  6.2,  6.3,  6.4,  6.5,  6.6,\n",
       "        6.7,  6.8,  6.9,  7. ,  7.1,  7.2,  7.3,  7.4,  7.5,  7.6,  7.7,\n",
       "        7.8,  7.9,  8. ,  8.1,  8.2,  8.3,  8.4,  8.5,  8.6,  8.7,  8.8,\n",
       "        8.9,  9. ,  9.1,  9.2,  9.3,  9.4,  9.5,  9.6,  9.7,  9.8,  9.9,\n",
       "       10. ]))"
      ]
     },
     "execution_count": 39,
     "metadata": {},
     "output_type": "execute_result"
    }
   ],
   "source": [
    "ridge.fit(X_train_sc, y_train)"
   ]
  },
  {
   "cell_type": "markdown",
   "id": "eeca74db",
   "metadata": {},
   "source": [
    "#### Evaluation"
   ]
  },
  {
   "cell_type": "markdown",
   "id": "5bb30d0c",
   "metadata": {},
   "source": [
    "###### R2 Score"
   ]
  },
  {
   "cell_type": "code",
   "execution_count": 40,
   "id": "b7fef9a4",
   "metadata": {},
   "outputs": [
    {
     "data": {
      "text/plain": [
       "0.9359717140459041"
      ]
     },
     "execution_count": 40,
     "metadata": {},
     "output_type": "execute_result"
    }
   ],
   "source": [
    "# R2 score of train x and train y\n",
    "ridge.score(X_train_sc, y_train)"
   ]
  },
  {
   "cell_type": "code",
   "execution_count": 41,
   "id": "74f6f193",
   "metadata": {
    "scrolled": true
   },
   "outputs": [
    {
     "data": {
      "text/plain": [
       "0.9165908330658823"
      ]
     },
     "execution_count": 41,
     "metadata": {},
     "output_type": "execute_result"
    }
   ],
   "source": [
    "# R2 score of test x and test y\n",
    "ridge.score(X_test_sc, y_test)"
   ]
  },
  {
   "cell_type": "markdown",
   "id": "9d4df990",
   "metadata": {},
   "source": [
    "Based on the R2 score of the train and test dataset, we can see that they are actually quite similar. Therefore, after regularisation, we can see that there is less overfitting."
   ]
  },
  {
   "cell_type": "markdown",
   "id": "212169e5",
   "metadata": {},
   "source": [
    "###### RMSE "
   ]
  },
  {
   "cell_type": "code",
   "execution_count": 42,
   "id": "3755d8d8",
   "metadata": {},
   "outputs": [],
   "source": [
    "# predict values\n",
    "pred = ridge.predict(X_test_sc)"
   ]
  },
  {
   "cell_type": "code",
   "execution_count": 43,
   "id": "1afb9cf5",
   "metadata": {
    "scrolled": true
   },
   "outputs": [
    {
     "data": {
      "text/plain": [
       "21425.810679889662"
      ]
     },
     "execution_count": 43,
     "metadata": {},
     "output_type": "execute_result"
    }
   ],
   "source": [
    "# cubing y_test and pred in order to get RMSE in actual $ value\n",
    "mean_squared_error(y_test**3, pred**3, squared=False)"
   ]
  },
  {
   "cell_type": "markdown",
   "id": "09cbed21",
   "metadata": {},
   "source": [
    "---"
   ]
  },
  {
   "cell_type": "markdown",
   "id": "68decc4e",
   "metadata": {},
   "source": [
    "### Lasso Regression"
   ]
  },
  {
   "cell_type": "markdown",
   "id": "760f13e7",
   "metadata": {},
   "source": [
    "L1 regularization, also known as L1 norm or Lasso (in regression problems), combats overfitting by shrinking the parameters towards 0. This makes some features obsolete. "
   ]
  },
  {
   "cell_type": "markdown",
   "id": "97b89a9e",
   "metadata": {},
   "source": [
    "#### Instantiate Lasso Regression"
   ]
  },
  {
   "cell_type": "code",
   "execution_count": 44,
   "id": "c5b28325",
   "metadata": {},
   "outputs": [],
   "source": [
    "lasso = LassoCV(n_alphas=200)"
   ]
  },
  {
   "cell_type": "markdown",
   "id": "9ac7d062",
   "metadata": {},
   "source": [
    "#### Model Fitting"
   ]
  },
  {
   "cell_type": "code",
   "execution_count": 45,
   "id": "69d9d060",
   "metadata": {},
   "outputs": [
    {
     "data": {
      "text/plain": [
       "LassoCV(n_alphas=200)"
      ]
     },
     "execution_count": 45,
     "metadata": {},
     "output_type": "execute_result"
    }
   ],
   "source": [
    "lasso.fit(X_train_sc, y_train)"
   ]
  },
  {
   "cell_type": "markdown",
   "id": "daad49e0",
   "metadata": {},
   "source": [
    "#### Evaluation"
   ]
  },
  {
   "cell_type": "markdown",
   "id": "a0be60a4",
   "metadata": {},
   "source": [
    "###### R2 Score"
   ]
  },
  {
   "cell_type": "code",
   "execution_count": 46,
   "id": "d1b58fc5",
   "metadata": {},
   "outputs": [
    {
     "data": {
      "text/plain": [
       "0.9179392136550644"
      ]
     },
     "execution_count": 46,
     "metadata": {},
     "output_type": "execute_result"
    }
   ],
   "source": [
    "# R2 score of train x and train y\n",
    "lasso.score(X_train_sc, y_train)"
   ]
  },
  {
   "cell_type": "code",
   "execution_count": 47,
   "id": "0d1f13d2",
   "metadata": {},
   "outputs": [
    {
     "data": {
      "text/plain": [
       "0.9114880275916453"
      ]
     },
     "execution_count": 47,
     "metadata": {},
     "output_type": "execute_result"
    }
   ],
   "source": [
    "# R2 score of test x and test y\n",
    "lasso.score(X_test_sc, y_test)"
   ]
  },
  {
   "cell_type": "markdown",
   "id": "56db262c",
   "metadata": {},
   "source": [
    "Similar to ridge regression, we can see that there is lesser overfitting after regularisation."
   ]
  },
  {
   "cell_type": "markdown",
   "id": "c865e6d1",
   "metadata": {},
   "source": [
    "###### RMSE "
   ]
  },
  {
   "cell_type": "code",
   "execution_count": 48,
   "id": "f8407548",
   "metadata": {},
   "outputs": [],
   "source": [
    "# predict values\n",
    "pred = lasso.predict(X_test_sc)"
   ]
  },
  {
   "cell_type": "code",
   "execution_count": 49,
   "id": "e2c5b747",
   "metadata": {
    "scrolled": false
   },
   "outputs": [
    {
     "data": {
      "text/plain": [
       "23650.224628606593"
      ]
     },
     "execution_count": 49,
     "metadata": {},
     "output_type": "execute_result"
    }
   ],
   "source": [
    "# cubing y_test and pred in order to get RMSE in actual $ value\n",
    "mean_squared_error(y_test**3, pred**3, squared=False)"
   ]
  },
  {
   "cell_type": "markdown",
   "id": "9005a27a",
   "metadata": {},
   "source": [
    "---"
   ]
  },
  {
   "cell_type": "markdown",
   "id": "f72643e8",
   "metadata": {},
   "source": [
    "### Model 2 Evaluation Results"
   ]
  },
  {
   "cell_type": "markdown",
   "id": "df04f8de",
   "metadata": {},
   "source": [
    "###### Bench Mark"
   ]
  },
  {
   "cell_type": "markdown",
   "id": "b2ad4d1b",
   "metadata": {},
   "source": [
    "| Model | Train Score (R2) | Test Score (R2) | Root Mean Squared Error ($) | No. of Features |\n",
    "| --- | --- | --- | --- | --- | \n",
    "| Ridge | 0.916 | 0.898 | 24893.71 | 183 |\n"
   ]
  },
  {
   "cell_type": "markdown",
   "id": "b2442215",
   "metadata": {},
   "source": [
    "##### Model 2"
   ]
  },
  {
   "cell_type": "markdown",
   "id": "e713ab37",
   "metadata": {},
   "source": [
    "| Model | Train Score (R2) | Test Score (R2) | Root Mean Squared Error ($) | No. of Features |\n",
    "| --- | --- | --- | --- | --- |\n",
    "| Linear | 0.936 | -9.158**e+22** | 1.5906**e+38** | 183 |\n",
    "| Ridge | 0.936 | 0.917 | 21425.81 | 183 |\n",
    "| Lasso | 0.918 | 0.911 | 23650.22 | 183 |"
   ]
  },
  {
   "cell_type": "markdown",
   "id": "28b6477f",
   "metadata": {},
   "source": [
    "By comparing both tables, we can deduce that using the cuberoot of saleprice as our target variable yields us better results. We can see that generally, **all of the R2 score is higher than our bench mark**. We can also see that there is an **improvement in the RMSE**. Like as mentioned in part 1, by cuberooting the sale price, we were able to get a uniform distribution which can help reduce the RMSE."
   ]
  },
  {
   "cell_type": "markdown",
   "id": "3fce93ed",
   "metadata": {},
   "source": [
    "---"
   ]
  },
  {
   "cell_type": "markdown",
   "id": "eb234a29",
   "metadata": {},
   "source": [
    "## Model 2 : Optimisation"
   ]
  },
  {
   "cell_type": "markdown",
   "id": "e475db54",
   "metadata": {},
   "source": [
    "---"
   ]
  },
  {
   "cell_type": "markdown",
   "id": "4507dfdc",
   "metadata": {},
   "source": [
    "## Feature Selection"
   ]
  },
  {
   "cell_type": "markdown",
   "id": "f7976d64",
   "metadata": {},
   "source": [
    "###### Regression Coefficient"
   ]
  },
  {
   "cell_type": "markdown",
   "id": "cf156f86",
   "metadata": {},
   "source": [
    "In this section, we will be selecting top few features with highest regression coefficient and the bottom few with the lowest regression coefficient after lasso regularisation.\n",
    "\n",
    "This is because do not want to use too many features in our final model. Therefore by using lasso regularisation, 'noisy features' should have been penalised to the point where their regression coefficient is either 0 or close to 0. Therefore by selecting these features with the highest regression coefficient and the lowest regression coefficient, we are selecting features that do have an impact on the R2 score."
   ]
  },
  {
   "cell_type": "code",
   "execution_count": 50,
   "id": "c4ee19f5",
   "metadata": {
    "scrolled": true
   },
   "outputs": [
    {
     "data": {
      "text/html": [
       "<div>\n",
       "<style scoped>\n",
       "    .dataframe tbody tr th:only-of-type {\n",
       "        vertical-align: middle;\n",
       "    }\n",
       "\n",
       "    .dataframe tbody tr th {\n",
       "        vertical-align: top;\n",
       "    }\n",
       "\n",
       "    .dataframe thead th {\n",
       "        text-align: right;\n",
       "    }\n",
       "</style>\n",
       "<table border=\"1\" class=\"dataframe\">\n",
       "  <thead>\n",
       "    <tr style=\"text-align: right;\">\n",
       "      <th></th>\n",
       "      <th>col1</th>\n",
       "      <th>col2</th>\n",
       "    </tr>\n",
       "  </thead>\n",
       "  <tbody>\n",
       "    <tr>\n",
       "      <th>47</th>\n",
       "      <td>saleprice</td>\n",
       "      <td>1.864179</td>\n",
       "    </tr>\n",
       "    <tr>\n",
       "      <th>5</th>\n",
       "      <td>overall_qual</td>\n",
       "      <td>1.502873</td>\n",
       "    </tr>\n",
       "    <tr>\n",
       "      <th>49</th>\n",
       "      <td>log_gr_liv_area</td>\n",
       "      <td>1.129220</td>\n",
       "    </tr>\n",
       "    <tr>\n",
       "      <th>6</th>\n",
       "      <td>overall_cond</td>\n",
       "      <td>0.643837</td>\n",
       "    </tr>\n",
       "    <tr>\n",
       "      <th>14</th>\n",
       "      <td>bsmtfin_sf_1</td>\n",
       "      <td>0.556070</td>\n",
       "    </tr>\n",
       "    <tr>\n",
       "      <th>17</th>\n",
       "      <td>total_bsmt_sf</td>\n",
       "      <td>0.464940</td>\n",
       "    </tr>\n",
       "    <tr>\n",
       "      <th>22</th>\n",
       "      <td>gr_liv_area</td>\n",
       "      <td>0.457613</td>\n",
       "    </tr>\n",
       "    <tr>\n",
       "      <th>29</th>\n",
       "      <td>kitchen_qual</td>\n",
       "      <td>0.452570</td>\n",
       "    </tr>\n",
       "    <tr>\n",
       "      <th>32</th>\n",
       "      <td>fireplace_qu</td>\n",
       "      <td>0.373178</td>\n",
       "    </tr>\n",
       "    <tr>\n",
       "      <th>10</th>\n",
       "      <td>exter_qual</td>\n",
       "      <td>0.343485</td>\n",
       "    </tr>\n",
       "    <tr>\n",
       "      <th>3</th>\n",
       "      <td>lot_area</td>\n",
       "      <td>0.306096</td>\n",
       "    </tr>\n",
       "    <tr>\n",
       "      <th>12</th>\n",
       "      <td>bsmt_exposure</td>\n",
       "      <td>0.292728</td>\n",
       "    </tr>\n",
       "    <tr>\n",
       "      <th>35</th>\n",
       "      <td>garage_area</td>\n",
       "      <td>0.272764</td>\n",
       "    </tr>\n",
       "  </tbody>\n",
       "</table>\n",
       "</div>"
      ],
      "text/plain": [
       "               col1      col2\n",
       "47        saleprice  1.864179\n",
       "5      overall_qual  1.502873\n",
       "49  log_gr_liv_area  1.129220\n",
       "6      overall_cond  0.643837\n",
       "14     bsmtfin_sf_1  0.556070\n",
       "17    total_bsmt_sf  0.464940\n",
       "22      gr_liv_area  0.457613\n",
       "29     kitchen_qual  0.452570\n",
       "32     fireplace_qu  0.373178\n",
       "10       exter_qual  0.343485\n",
       "3          lot_area  0.306096\n",
       "12    bsmt_exposure  0.292728\n",
       "35      garage_area  0.272764"
      ]
     },
     "execution_count": 50,
     "metadata": {},
     "output_type": "execute_result"
    }
   ],
   "source": [
    "# sorting top few lasso regression coefficients\n",
    "data = list(zip(df.columns,lasso.coef_))\n",
    "data1 = pd.DataFrame(data,columns=['col1','col2'])\n",
    "data1.sort_values(by=['col2'],ascending=False).head(13) "
   ]
  },
  {
   "cell_type": "code",
   "execution_count": 51,
   "id": "0b049ea5",
   "metadata": {
    "scrolled": false
   },
   "outputs": [
    {
     "data": {
      "text/html": [
       "<div>\n",
       "<style scoped>\n",
       "    .dataframe tbody tr th:only-of-type {\n",
       "        vertical-align: middle;\n",
       "    }\n",
       "\n",
       "    .dataframe tbody tr th {\n",
       "        vertical-align: top;\n",
       "    }\n",
       "\n",
       "    .dataframe thead th {\n",
       "        text-align: right;\n",
       "    }\n",
       "</style>\n",
       "<table border=\"1\" class=\"dataframe\">\n",
       "  <thead>\n",
       "    <tr style=\"text-align: right;\">\n",
       "      <th></th>\n",
       "      <th>col1</th>\n",
       "      <th>col2</th>\n",
       "    </tr>\n",
       "  </thead>\n",
       "  <tbody>\n",
       "    <tr>\n",
       "      <th>116</th>\n",
       "      <td>house_style_SFoyer</td>\n",
       "      <td>-0.787583</td>\n",
       "    </tr>\n",
       "    <tr>\n",
       "      <th>48</th>\n",
       "      <td>cbrt_saleprice</td>\n",
       "      <td>-0.574507</td>\n",
       "    </tr>\n",
       "    <tr>\n",
       "      <th>44</th>\n",
       "      <td>misc_val</td>\n",
       "      <td>-0.345007</td>\n",
       "    </tr>\n",
       "    <tr>\n",
       "      <th>86</th>\n",
       "      <td>lot_config_FR3</td>\n",
       "      <td>-0.147531</td>\n",
       "    </tr>\n",
       "    <tr>\n",
       "      <th>69</th>\n",
       "      <td>ms_subclass_90</td>\n",
       "      <td>-0.120441</td>\n",
       "    </tr>\n",
       "  </tbody>\n",
       "</table>\n",
       "</div>"
      ],
      "text/plain": [
       "                   col1      col2\n",
       "116  house_style_SFoyer -0.787583\n",
       "48       cbrt_saleprice -0.574507\n",
       "44             misc_val -0.345007\n",
       "86       lot_config_FR3 -0.147531\n",
       "69       ms_subclass_90 -0.120441"
      ]
     },
     "execution_count": 51,
     "metadata": {},
     "output_type": "execute_result"
    }
   ],
   "source": [
    "# sorting bottom few lasso regression coefficients\n",
    "data1.sort_values(by=['col2'],ascending=True).head() "
   ]
  },
  {
   "cell_type": "markdown",
   "id": "d58a4c96",
   "metadata": {},
   "source": [
    "---"
   ]
  },
  {
   "cell_type": "markdown",
   "id": "81516ccd",
   "metadata": {},
   "source": [
    "###### Multi-Collinearity"
   ]
  },
  {
   "cell_type": "markdown",
   "id": "bbbb8c03",
   "metadata": {},
   "source": [
    "Even though we want features with high regression coefficient, we also would like to avoid multi-collinearity. There are many features in the bench mark and pre-feature selection model that has multi-collinearity. Therefore, we would also like to avoid multi-collinearity as it reduces statistical significance of independent features."
   ]
  },
  {
   "cell_type": "markdown",
   "id": "5857bb98",
   "metadata": {},
   "source": [
    "###### Selected features"
   ]
  },
  {
   "cell_type": "markdown",
   "id": "07c614b9",
   "metadata": {},
   "source": [
    "After selection, these are the features that will be included in the final regression model. And as mentioned Most of these features do not come as a surprise after the exploratory data analysis done in part 1 and most of these features actually do already have a strong correlation coefficient with the target variable. Additionally, based off domain knowledge, these are also reasonable features. \n",
    "\n",
    "On top of selecting features with high regression coefficient, we also removed features that would cause multi-collinearity. \n",
    "\n",
    "The results of the feature selection is in the following cell."
   ]
  },
  {
   "cell_type": "code",
   "execution_count": 52,
   "id": "4218af11",
   "metadata": {},
   "outputs": [],
   "source": [
    "features = ['overall_qual',\n",
    "           'overall_cond',\n",
    "           'bsmtfin_sf_1',\n",
    "           'total_bsmt_sf',\n",
    "           'kitchen_qual',\n",
    "           'fireplace_qu',\n",
    "            'gr_liv_area',\n",
    "            'garage_cars',\n",
    "            'bsmt_exposure',\n",
    "            'lot_area',\n",
    "            'neighborhood_NridgHt',\n",
    "           'misc_val',\n",
    "           'year_built']"
   ]
  },
  {
   "cell_type": "markdown",
   "id": "2c21aac9",
   "metadata": {},
   "source": [
    "###### Heatmap of Selected Features"
   ]
  },
  {
   "cell_type": "code",
   "execution_count": 53,
   "id": "e55e2df6",
   "metadata": {
    "scrolled": true
   },
   "outputs": [
    {
     "data": {
      "image/png": "[encoded data removed]",
      "text/plain": [
       "<Figure size 720x360 with 2 Axes>"
      ]
     },
     "metadata": {
      "needs_background": "light"
     },
     "output_type": "display_data"
    }
   ],
   "source": [
    "# creating Heat Map of Ranges of\n",
    "plt.figure(figsize=(10,5))\n",
    "sns.set_context('paper', font_scale=1.1)\n",
    "\n",
    "# correlation matrix of features vs cbrt_saleprice\n",
    "df_final_mx = df[features]\n",
    "df_final_mx['cbrt_saleprice'] = df['cbrt_saleprice']\n",
    "df_final_mx = df_final_mx.corr()\n",
    "# retrieving upper triangle of an array\n",
    "matrix = np.triu(df_final_mx)\n",
    "\n",
    "# plotting heatmap, masking upper triangle \n",
    "sns.heatmap(df_final_mx, annot=True, cmap='coolwarm', linecolor = 'white', mask=matrix)\n",
    "plt.title('Heat Map of Selected Features',size=20, fontweight=\"bold\")\n",
    "plt.show()"
   ]
  },
  {
   "cell_type": "markdown",
   "id": "ebdbe2f3",
   "metadata": {},
   "source": [
    "Multicollinearity is a problem because it undermines the statistical significance of an independent variable. And since our threshold for multicollinearity is 0.7, by looking at the heatmap, we can safely conclude that these features that will be used in the final model has no multicollinearity.\n",
    "\n",
    "Additionally, we can also see from the heatmap that majority of these variables have a correlation coefficient of greater than 0.5 and 4 features with a correlation coefficient of greater than 0.7. Most of these features have also been explored in our exploratory data analysis which means that I am not surprised to see these variables ending up in the final model."
   ]
  },
  {
   "cell_type": "markdown",
   "id": "0dd6009f",
   "metadata": {},
   "source": [
    "---"
   ]
  },
  {
   "cell_type": "markdown",
   "id": "ec3322f5",
   "metadata": {},
   "source": [
    "###### Model Prep: Create our features matrix (`X`) and target vector (`y`)"
   ]
  },
  {
   "cell_type": "code",
   "execution_count": 54,
   "id": "c834bfc9",
   "metadata": {},
   "outputs": [],
   "source": [
    "X = df[features]"
   ]
  },
  {
   "cell_type": "code",
   "execution_count": 55,
   "id": "e2f77195",
   "metadata": {},
   "outputs": [],
   "source": [
    "y = df['cbrt_saleprice']"
   ]
  },
  {
   "cell_type": "markdown",
   "id": "535b6104",
   "metadata": {},
   "source": [
    "###### Model Prep: Train/test split"
   ]
  },
  {
   "cell_type": "code",
   "execution_count": 56,
   "id": "d113606b",
   "metadata": {},
   "outputs": [],
   "source": [
    "X_train, X_test, y_train, y_test = train_test_split(X, y, random_state=42)"
   ]
  },
  {
   "cell_type": "markdown",
   "id": "418b87ac",
   "metadata": {},
   "source": [
    "###### Model Prep: Scaling"
   ]
  },
  {
   "cell_type": "code",
   "execution_count": 57,
   "id": "a617cee6",
   "metadata": {},
   "outputs": [],
   "source": [
    "ss = StandardScaler()\n",
    "# set a scale\n",
    "ss.fit(X_train)\n",
    "# apply scale to x_train\n",
    "X_train_sc = ss.transform(X_train)\n",
    "# apply scale to x_test\n",
    "X_test_sc = ss.transform(X_test)"
   ]
  },
  {
   "cell_type": "markdown",
   "id": "bf5e0012",
   "metadata": {},
   "source": [
    "###### Model Prep: Instantiate our models"
   ]
  },
  {
   "cell_type": "markdown",
   "id": "97859b0a",
   "metadata": {},
   "source": [
    "We'll be evaluating `LinearRegression`, `LassoCV` and `RidgeCV`, so we'll need to create instances of all three models."
   ]
  },
  {
   "cell_type": "code",
   "execution_count": 58,
   "id": "fcdd78fd",
   "metadata": {},
   "outputs": [],
   "source": [
    "lr = LinearRegression()\n",
    "lasso = LassoCV(n_alphas=200)\n",
    "ridge = RidgeCV(alphas=np.linspace(.1, 10, 100))"
   ]
  },
  {
   "cell_type": "markdown",
   "id": "edcd7dae",
   "metadata": {},
   "source": [
    "---"
   ]
  },
  {
   "cell_type": "markdown",
   "id": "c6bbd2ea",
   "metadata": {},
   "source": [
    "### Linear Regression"
   ]
  },
  {
   "cell_type": "code",
   "execution_count": 59,
   "id": "f3192950",
   "metadata": {},
   "outputs": [
    {
     "data": {
      "text/plain": [
       "LinearRegression()"
      ]
     },
     "execution_count": 59,
     "metadata": {},
     "output_type": "execute_result"
    }
   ],
   "source": [
    "lr.fit(X_train_sc, y_train)"
   ]
  },
  {
   "cell_type": "markdown",
   "id": "71b1a45c",
   "metadata": {},
   "source": [
    "###### R2 Score"
   ]
  },
  {
   "cell_type": "code",
   "execution_count": 60,
   "id": "8708f4d5",
   "metadata": {},
   "outputs": [
    {
     "data": {
      "text/plain": [
       "0.869619757586244"
      ]
     },
     "execution_count": 60,
     "metadata": {},
     "output_type": "execute_result"
    }
   ],
   "source": [
    "# R2 score of train x and train y\n",
    "lr.score(X_train_sc, y_train)"
   ]
  },
  {
   "cell_type": "code",
   "execution_count": 61,
   "id": "32b8a7f7",
   "metadata": {
    "scrolled": true
   },
   "outputs": [
    {
     "data": {
      "text/plain": [
       "0.8955146050872075"
      ]
     },
     "execution_count": 61,
     "metadata": {},
     "output_type": "execute_result"
    }
   ],
   "source": [
    "# R2 score of train x and train y\n",
    "lr.score(X_test_sc, y_test)"
   ]
  },
  {
   "cell_type": "markdown",
   "id": "aa248962",
   "metadata": {},
   "source": [
    "###### RMSE"
   ]
  },
  {
   "cell_type": "code",
   "execution_count": 62,
   "id": "b0a3b422",
   "metadata": {},
   "outputs": [],
   "source": [
    "# predict values\n",
    "pred = lr.predict(X_test_sc)"
   ]
  },
  {
   "cell_type": "code",
   "execution_count": 63,
   "id": "9c554de5",
   "metadata": {
    "scrolled": false
   },
   "outputs": [
    {
     "data": {
      "text/plain": [
       "24741.008460355668"
      ]
     },
     "execution_count": 63,
     "metadata": {},
     "output_type": "execute_result"
    }
   ],
   "source": [
    "# cubing y_test and pred in order to get RMSE in actual $ value\n",
    "mean_squared_error(y_test**3, pred**3, squared=False)"
   ]
  },
  {
   "cell_type": "markdown",
   "id": "676a4f36",
   "metadata": {},
   "source": [
    "---"
   ]
  },
  {
   "cell_type": "markdown",
   "id": "78d2fbbe",
   "metadata": {},
   "source": [
    "### Lasso Regression"
   ]
  },
  {
   "cell_type": "code",
   "execution_count": 64,
   "id": "e6c51263",
   "metadata": {},
   "outputs": [
    {
     "data": {
      "text/plain": [
       "LassoCV(n_alphas=200)"
      ]
     },
     "execution_count": 64,
     "metadata": {},
     "output_type": "execute_result"
    }
   ],
   "source": [
    "lasso.fit(X_train_sc, y_train)"
   ]
  },
  {
   "cell_type": "markdown",
   "id": "e8df07e9",
   "metadata": {},
   "source": [
    "###### R2 Score"
   ]
  },
  {
   "cell_type": "code",
   "execution_count": 65,
   "id": "772d5ce0",
   "metadata": {},
   "outputs": [
    {
     "data": {
      "text/plain": [
       "0.8641598098936973"
      ]
     },
     "execution_count": 65,
     "metadata": {},
     "output_type": "execute_result"
    }
   ],
   "source": [
    "# R2 score of train x and train y\n",
    "lasso.score(X_train_sc, y_train)"
   ]
  },
  {
   "cell_type": "code",
   "execution_count": 66,
   "id": "cbe56c3d",
   "metadata": {
    "scrolled": true
   },
   "outputs": [
    {
     "data": {
      "text/plain": [
       "0.8924889806457751"
      ]
     },
     "execution_count": 66,
     "metadata": {},
     "output_type": "execute_result"
    }
   ],
   "source": [
    "# R2 score of test x and test y\n",
    "lasso.score(X_test_sc, y_test)"
   ]
  },
  {
   "cell_type": "markdown",
   "id": "78417c44",
   "metadata": {},
   "source": [
    "###### RMSE"
   ]
  },
  {
   "cell_type": "code",
   "execution_count": 67,
   "id": "70b471b1",
   "metadata": {},
   "outputs": [],
   "source": [
    "# predict values\n",
    "pred = lasso.predict(X_test_sc)"
   ]
  },
  {
   "cell_type": "code",
   "execution_count": 68,
   "id": "22432d9e",
   "metadata": {
    "scrolled": false
   },
   "outputs": [
    {
     "data": {
      "text/plain": [
       "25405.924296079655"
      ]
     },
     "execution_count": 68,
     "metadata": {},
     "output_type": "execute_result"
    }
   ],
   "source": [
    "# cubing y_test and pred in order to get RMSE in actual $ value\n",
    "mean_squared_error(y_test**3, pred**3, squared=False)"
   ]
  },
  {
   "cell_type": "markdown",
   "id": "d05dcb3e",
   "metadata": {},
   "source": [
    "---"
   ]
  },
  {
   "cell_type": "markdown",
   "id": "ae14d3f6",
   "metadata": {},
   "source": [
    "### Ridge Regression"
   ]
  },
  {
   "cell_type": "code",
   "execution_count": 69,
   "id": "20b1a2ac",
   "metadata": {},
   "outputs": [
    {
     "data": {
      "text/plain": [
       "RidgeCV(alphas=array([ 0.1,  0.2,  0.3,  0.4,  0.5,  0.6,  0.7,  0.8,  0.9,  1. ,  1.1,\n",
       "        1.2,  1.3,  1.4,  1.5,  1.6,  1.7,  1.8,  1.9,  2. ,  2.1,  2.2,\n",
       "        2.3,  2.4,  2.5,  2.6,  2.7,  2.8,  2.9,  3. ,  3.1,  3.2,  3.3,\n",
       "        3.4,  3.5,  3.6,  3.7,  3.8,  3.9,  4. ,  4.1,  4.2,  4.3,  4.4,\n",
       "        4.5,  4.6,  4.7,  4.8,  4.9,  5. ,  5.1,  5.2,  5.3,  5.4,  5.5,\n",
       "        5.6,  5.7,  5.8,  5.9,  6. ,  6.1,  6.2,  6.3,  6.4,  6.5,  6.6,\n",
       "        6.7,  6.8,  6.9,  7. ,  7.1,  7.2,  7.3,  7.4,  7.5,  7.6,  7.7,\n",
       "        7.8,  7.9,  8. ,  8.1,  8.2,  8.3,  8.4,  8.5,  8.6,  8.7,  8.8,\n",
       "        8.9,  9. ,  9.1,  9.2,  9.3,  9.4,  9.5,  9.6,  9.7,  9.8,  9.9,\n",
       "       10. ]))"
      ]
     },
     "execution_count": 69,
     "metadata": {},
     "output_type": "execute_result"
    }
   ],
   "source": [
    "ridge.fit(X_train_sc, y_train)"
   ]
  },
  {
   "cell_type": "markdown",
   "id": "25e82e67",
   "metadata": {},
   "source": [
    "###### R2 Score"
   ]
  },
  {
   "cell_type": "code",
   "execution_count": 70,
   "id": "afc270de",
   "metadata": {},
   "outputs": [
    {
     "data": {
      "text/plain": [
       "0.869610246367513"
      ]
     },
     "execution_count": 70,
     "metadata": {},
     "output_type": "execute_result"
    }
   ],
   "source": [
    "# R2 score of train x and train y\n",
    "ridge.score(X_train_sc, y_train)"
   ]
  },
  {
   "cell_type": "code",
   "execution_count": 71,
   "id": "f8e9839f",
   "metadata": {
    "scrolled": true
   },
   "outputs": [
    {
     "data": {
      "text/plain": [
       "0.895472290779805"
      ]
     },
     "execution_count": 71,
     "metadata": {},
     "output_type": "execute_result"
    }
   ],
   "source": [
    "# R2 score of train x and train y\n",
    "ridge.score(X_test_sc, y_test)"
   ]
  },
  {
   "cell_type": "markdown",
   "id": "c1dd3509",
   "metadata": {},
   "source": [
    "###### RMSE"
   ]
  },
  {
   "cell_type": "code",
   "execution_count": 72,
   "id": "885822af",
   "metadata": {},
   "outputs": [],
   "source": [
    "# predict values\n",
    "pred = ridge.predict(X_test_sc)"
   ]
  },
  {
   "cell_type": "code",
   "execution_count": 73,
   "id": "724acc1c",
   "metadata": {
    "scrolled": false
   },
   "outputs": [
    {
     "data": {
      "text/plain": [
       "24772.15659826165"
      ]
     },
     "execution_count": 73,
     "metadata": {},
     "output_type": "execute_result"
    }
   ],
   "source": [
    "# cubing y_test and pred in order to get RMSE in actual $ value\n",
    "mean_squared_error(y_test**3, pred**3, squared=False)"
   ]
  },
  {
   "cell_type": "markdown",
   "id": "104afbf8",
   "metadata": {},
   "source": [
    "---"
   ]
  },
  {
   "cell_type": "markdown",
   "id": "f54a77c0",
   "metadata": {},
   "source": [
    "### Evaluation Results Before and After Feature Selection"
   ]
  },
  {
   "cell_type": "markdown",
   "id": "4098d594",
   "metadata": {},
   "source": [
    "**Before Feature Selection**\n",
    "\n",
    "| Model | Train Score (R2) | Test Score (R2) | Root Mean Squared Error ($) | No. of Features |\n",
    "| --- | --- | --- | --- | --- |\n",
    "| Linear | 0.936 | -9.158**e+22** | 1.5906**e+38** | 183 |\n",
    "| Ridge | 0.936 | 0.917 | 21425.81 | 183 |\n",
    "| Lasso | 0.918 | 0.911 | 23650.22 | 183 |\n",
    "\n",
    "**After Feature Selection**\n",
    "\n",
    "| Model | Train Score (R2) | Test Score (R2) | Root Mean Squared Error ($) | No. of Features |\n",
    "| --- | --- | --- | --- | --- | \n",
    "| Linear | 0.870 | 0.896 | 24741.01 | 13 |\n",
    "| Ridge |  0.870 | 0.896 | 24722.16 | 13 |\n",
    "| Lasso | 0.864 | 0.893 | 25405.92 | 13 |\n"
   ]
  },
  {
   "cell_type": "markdown",
   "id": "f6e5c20e",
   "metadata": {},
   "source": [
    "To evaluate the regression models before and after feature selection, we will be looking at the R2 score, RMSE and number of features used for prediction. Based on the two tables above we can clearly see that **there is little change in R2 test score and RMSE while features were reduced from 155 to just 13**. Therefore, we can conclude that the feature selection was a success."
   ]
  },
  {
   "cell_type": "markdown",
   "id": "d48533aa",
   "metadata": {},
   "source": [
    "###### Rationale for choosing final model"
   ]
  },
  {
   "cell_type": "markdown",
   "id": "c82a2029",
   "metadata": {},
   "source": [
    "As the evaluation metrics of linear and ridge regression is the similar, the reason why Linear Regression is selected as compared to Ridge Regression is that Linear Regression is generally known as the simpler model. Since we have already used regularisation to select features, we actually do not need any more regularisation."
   ]
  },
  {
   "cell_type": "markdown",
   "id": "13744e02",
   "metadata": {},
   "source": [
    "---"
   ]
  },
  {
   "cell_type": "markdown",
   "id": "0c63fa25",
   "metadata": {},
   "source": [
    "###### Final Model vs Bench Mark"
   ]
  },
  {
   "cell_type": "markdown",
   "id": "0fe9d84a",
   "metadata": {},
   "source": [
    "| Model | Train Score (R2) | Test Score (R2) | Root Mean Squared Error ($) | No. of Features |\n",
    "| --- | --- | --- | --- | --- | \n",
    "| Ridge (**Bench Mark**)| 0.916 | 0.898 | 24893.71 | 183 |\n",
    "| Linear (**Final Model**)| 0.870 | 0.896 | **24741.01** | **13** |"
   ]
  },
  {
   "cell_type": "markdown",
   "id": "2cbea27b",
   "metadata": {},
   "source": [
    "By comparing both the final model and the bench mark, we can clearly see that the final model beats the bench mark in its RMSE and by the number of features used. Although the final model's train and test score is lower than the bench mark, the difference is very minute. What is most important is that we have **reduced the RMSE** which is a success. Additionally, having **only 13 features needed** means that we do not need to collect so many data as compared to collecting 155 columns of data for the analysis. This also means that data collection costs can be saved by implementing this final model as compared to the bench mark."
   ]
  },
  {
   "cell_type": "markdown",
   "id": "15914dc7",
   "metadata": {},
   "source": [
    "---"
   ]
  },
  {
   "cell_type": "markdown",
   "id": "031696a2",
   "metadata": {},
   "source": [
    "## Final Model"
   ]
  },
  {
   "cell_type": "markdown",
   "id": "6d8ce3a6",
   "metadata": {},
   "source": [
    "The final model predicts cuberoot of sale price. In the following sections, we will be evaluating the model based on its ability to predict the cuberoot of sale price."
   ]
  },
  {
   "cell_type": "markdown",
   "id": "062e7798",
   "metadata": {},
   "source": [
    "---"
   ]
  },
  {
   "cell_type": "markdown",
   "id": "d93c4fc7",
   "metadata": {},
   "source": [
    "| Model | Train Score (R2) | Test Score (R2) | Root Mean Squared Error ($) | No. of Features |\n",
    "| --- | --- | --- | --- | --- | \n",
    "| Linear (**Final Model**) | 0.870 | 0.896 | 24741.01 | 13 |"
   ]
  },
  {
   "cell_type": "markdown",
   "id": "0a9fbaa1",
   "metadata": {},
   "source": [
    "---"
   ]
  },
  {
   "cell_type": "markdown",
   "id": "96a7a7f8",
   "metadata": {},
   "source": [
    "### Predictions"
   ]
  },
  {
   "cell_type": "code",
   "execution_count": 74,
   "id": "49d8bbdb",
   "metadata": {
    "scrolled": true
   },
   "outputs": [
    {
     "data": {
      "image/png": "[encoded data removed]",
      "text/plain": [
       "<Figure size 720x360 with 1 Axes>"
      ]
     },
     "metadata": {
      "needs_background": "light"
     },
     "output_type": "display_data"
    }
   ],
   "source": [
    "# figure size\n",
    "plt.figure(figsize=(10,5))\n",
    "\n",
    "# plot regression plot of predicted vs actual\n",
    "sns.regplot(data=X_train_sc, x=pred**3, y=y_test**3, line_kws={'color':'red'})\n",
    "\n",
    "# changing x and y label\n",
    "plt.xlabel('Predicted Cuberoot of Sale Price')\n",
    "plt.ylabel('Actual Cuberoot of Sale Price')\n",
    "\n",
    "# plot title\n",
    "plt.title('Predicted vs Actual', fontsize=15, fontweight='bold')\n",
    "\n",
    "plt.show()"
   ]
  },
  {
   "cell_type": "markdown",
   "id": "ed853b8e",
   "metadata": {},
   "source": [
    "Ideally, all the points of should fall reasonable close to the regressed red line. This means that there is a high R2. The model did a pretty good job at predicting the cuberoot of sale price as the **data points generally fall within the regression line**."
   ]
  },
  {
   "cell_type": "markdown",
   "id": "7457c932",
   "metadata": {},
   "source": [
    "---"
   ]
  },
  {
   "cell_type": "markdown",
   "id": "03586b13",
   "metadata": {},
   "source": [
    "### Testing Assumptions of Linear Regression"
   ]
  },
  {
   "cell_type": "markdown",
   "id": "0b912e7c",
   "metadata": {},
   "source": [
    "Certain conditions should be met before we draw inferences regarding the model estimates or before we use the model for making predictions.\n",
    "\n",
    "In this section, we will check the assumptions of normality, linearity, homoscedasticity, and absence of multicollinearity.\n",
    "\n",
    "\n",
    "--- \n",
    "\n",
    "Source : \n",
    "\n",
    "https://www.statisticssolutions.com/testing-assumptions-of-linear-regression-in-spss/\n",
    "\n",
    "https://towardsdatascience.com/linear-regression-assumptions-why-is-it-important-af28438a44a1\n",
    "\n",
    "https://www.analyticsvidhya.com/blog/2016/07/deeper-regression-analysis-assumptions-plots-solutions/\n",
    "\n",
    "---"
   ]
  },
  {
   "cell_type": "markdown",
   "id": "2d83a4e3",
   "metadata": {},
   "source": [
    "###### Residuals"
   ]
  },
  {
   "cell_type": "code",
   "execution_count": 75,
   "id": "69e452db",
   "metadata": {},
   "outputs": [],
   "source": [
    "# calculating residuals\n",
    "pred = lr.predict(X_test_sc)\n",
    "residuals = y_test - pred\n",
    "residuals = residuals"
   ]
  },
  {
   "cell_type": "markdown",
   "id": "c43d4f5f",
   "metadata": {},
   "source": [
    "---"
   ]
  },
  {
   "cell_type": "markdown",
   "id": "88f2ba90",
   "metadata": {},
   "source": [
    "###### Normality"
   ]
  },
  {
   "cell_type": "code",
   "execution_count": 76,
   "id": "3a99f9cb",
   "metadata": {
    "scrolled": false
   },
   "outputs": [
    {
     "data": {
      "image/png": "[encoded data removed]",
      "text/plain": [
       "<Figure size 432x288 with 1 Axes>"
      ]
     },
     "metadata": {
      "needs_background": "light"
     },
     "output_type": "display_data"
    }
   ],
   "source": [
    "# probability plot\n",
    "res = stats.probplot(residuals, plot=plt)"
   ]
  },
  {
   "cell_type": "markdown",
   "id": "a67de24f",
   "metadata": {},
   "source": [
    "\"This q-q or quantile-quantile is a scatter plot which helps us validate the assumption of normal distribution in a data set. Using this plot we can infer if the data comes from a normal distribution. If yes, the plot would show fairly straight line.\"\n",
    "\n",
    "Based on this statement, we can **assume a normal distribution in the data set**."
   ]
  },
  {
   "cell_type": "markdown",
   "id": "6ff297df",
   "metadata": {},
   "source": [
    "---"
   ]
  },
  {
   "cell_type": "markdown",
   "id": "8127bd38",
   "metadata": {},
   "source": [
    "###### Homoscedastic"
   ]
  },
  {
   "cell_type": "code",
   "execution_count": 77,
   "id": "29da1afa",
   "metadata": {
    "scrolled": false
   },
   "outputs": [
    {
     "data": {
      "image/png": "[encoded data removed]",
      "text/plain": [
       "<Figure size 432x360 with 1 Axes>"
      ]
     },
     "metadata": {
      "needs_background": "light"
     },
     "output_type": "display_data"
    }
   ],
   "source": [
    "# figure size\n",
    "plt.figure(figsize=(6,5))\n",
    "\n",
    "# plot scatterplot\n",
    "plt.scatter(pred, residuals)\n",
    "\n",
    "# changing x and y label\n",
    "plt.xlabel('Predicted Value')\n",
    "plt.ylabel('Residuals')\n",
    "\n",
    "# plot title\n",
    "plt.title('Scatter Plot of Predicted Values vs Residuals', fontsize=15, fontweight='bold')\n",
    "\n",
    "plt.show()"
   ]
  },
  {
   "cell_type": "markdown",
   "id": "b726627d",
   "metadata": {},
   "source": [
    "\"If your data is homoscedastic if it looks somewhat like a shotgun blast of randomly distributed data. The opposite of homoscedasticity is heteroscedasticity, where you might find a cone or fan shape in your data.\"\n",
    "\n",
    "Based on our scatter plot above, **we can assume our data is homoscedastic**."
   ]
  },
  {
   "cell_type": "markdown",
   "id": "4f5d06a9",
   "metadata": {},
   "source": [
    "Another interpretation of a \"residuals vs. predictor plot\" is that a well-behaved plot will bounce randomly and form a roughly horizontal band around the residual = 0 line. And, no data points will stand out from the basic random pattern of the other residuals.\n",
    "\n",
    "Based on the scatter plot we have above, we can see that data points generally cluster around the residuals = 0 mark. This proves that the model is doing well."
   ]
  },
  {
   "cell_type": "markdown",
   "id": "59489da4",
   "metadata": {},
   "source": [
    "---"
   ]
  },
  {
   "cell_type": "markdown",
   "id": "39c8c0ac",
   "metadata": {},
   "source": [
    "###### Linearity"
   ]
  },
  {
   "cell_type": "code",
   "execution_count": 78,
   "id": "704b8bc8",
   "metadata": {
    "scrolled": false
   },
   "outputs": [
    {
     "data": {
      "image/png": "[encoded data removed]",
      "text/plain": [
       "<Figure size 360x360 with 1 Axes>"
      ]
     },
     "metadata": {
      "needs_background": "light"
     },
     "output_type": "display_data"
    }
   ],
   "source": [
    "# plot histogram\n",
    "sns.displot(residuals)\n",
    "\n",
    "# changing x and y label\n",
    "plt.xlabel('Residuals')\n",
    "plt.ylabel('Frequency')\n",
    "\n",
    "# plot title\n",
    "plt.title('Distribution of Residuals', fontsize=15, fontweight='bold')\n",
    "\n",
    "plt.show()"
   ]
  },
  {
   "cell_type": "markdown",
   "id": "da3ff7fc",
   "metadata": {},
   "source": [
    "\"Linearity means that the predictor variables in the regression have a straight-line relationship with the outcome variable. If your residuals are normally distributed and homoscedastic, you do not have to worry about linearity.\"\n",
    "\n",
    "By looking at the distribution of our residuals and basing off the statement above, **we can assume that the relationship between predictor variables and target has linearity**."
   ]
  },
  {
   "cell_type": "markdown",
   "id": "f337cb86",
   "metadata": {},
   "source": [
    "---"
   ]
  },
  {
   "cell_type": "markdown",
   "id": "80ff71ff",
   "metadata": {},
   "source": [
    "###### Multi-collinearity"
   ]
  },
  {
   "cell_type": "code",
   "execution_count": 79,
   "id": "2b4345f1",
   "metadata": {
    "scrolled": false
   },
   "outputs": [
    {
     "data": {
      "image/png": "[encoded data removed]",
      "text/plain": [
       "<Figure size 720x360 with 2 Axes>"
      ]
     },
     "metadata": {
      "needs_background": "light"
     },
     "output_type": "display_data"
    }
   ],
   "source": [
    "# creating Heat Map of Ranges of\n",
    "plt.figure(figsize=(10,5))\n",
    "sns.set_context('paper', font_scale=1.1)\n",
    "\n",
    "# correlation matrix of features vs cbrt_saleprice\n",
    "df_final_mx = df[features]\n",
    "df_final_mx['cbrt_saleprice'] = df['cbrt_saleprice']\n",
    "df_final_mx = df_final_mx.corr()\n",
    "# retrieving upper triangle of an array\n",
    "matrix = np.triu(df_final_mx)\n",
    "\n",
    "# plotting heatmap, masking upper triangle \n",
    "sns.heatmap(df_final_mx, annot=True, cmap='coolwarm', linecolor = 'white', mask=matrix)\n",
    "plt.title('Heat Map of Selected Features',size=20, fontweight=\"bold\")\n",
    "plt.show()"
   ]
  },
  {
   "cell_type": "markdown",
   "id": "aace21f7",
   "metadata": {},
   "source": [
    "As mentioned above, features selected have **no multi-collinearity** with the assumption that our threshold is 0.7."
   ]
  },
  {
   "cell_type": "markdown",
   "id": "b0314682",
   "metadata": {},
   "source": [
    "**Therefore, we can conclude that our linear regression model holds true to its assumptions**. "
   ]
  },
  {
   "cell_type": "markdown",
   "id": "aa6fd832",
   "metadata": {},
   "source": [
    "---"
   ]
  },
  {
   "cell_type": "markdown",
   "id": "7d16a9d8",
   "metadata": {},
   "source": [
    "### Coefficient Analysis"
   ]
  },
  {
   "cell_type": "markdown",
   "id": "7cf9b01c",
   "metadata": {},
   "source": [
    "In this coefficient analysis, we are refering to the **impact of features to the cuberoot of sale price**."
   ]
  },
  {
   "cell_type": "markdown",
   "id": "cd697e40",
   "metadata": {},
   "source": [
    "#### Summary of Shapley Values\n",
    "\n",
    "**SHAP values help to explain the predictions of your ML model.**<br/>\n",
    "\n",
    "1. Each feature has a shap value contributing to the prediction.\n",
    "2. The final prediction = the average prediction value + the shap values of all features.\n",
    "3. The shap value of a feature can be positive or negative.\n",
    "4. If a feature is positively correlated to the target, a value higher than its own average will contribute positively to the prediction.\n",
    "5. If a feature is negatively correlated to the target, a value higher than its own average will contribute negatively to the prediction."
   ]
  },
  {
   "cell_type": "code",
   "execution_count": 80,
   "id": "416a72b7",
   "metadata": {
    "scrolled": false
   },
   "outputs": [
    {
     "data": {
      "image/png": "[encoded data removed]",
      "text/plain": [
       "<Figure size 576x576 with 1 Axes>"
      ]
     },
     "metadata": {},
     "output_type": "display_data"
    }
   ],
   "source": [
    "# Read more at \n",
    "# https://christophm.github.io/interpretable-ml-book/shap.html\n",
    "# https://shap.readthedocs.io/en/latest/example_notebooks/overviews/An%20introduction%20to%20explainable%20AI%20with%20Shapley%20values.html\n",
    "\n",
    "explainer = shap.explainers.Linear(lr, X_train_sc)\n",
    "lr_shap_values = explainer(X_train_sc)\n",
    "\n",
    "# Add back the feature names removed by the StandardScaler\n",
    "for i,c in enumerate(X.columns):\n",
    "    lr_shap_values.feature_names[i] = c\n",
    "\n",
    "# Visualise variable importance for top 10 features\n",
    "# Set max_display to 11 so that \n",
    "shap.plots.bar(lr_shap_values, max_display=14)"
   ]
  },
  {
   "cell_type": "markdown",
   "id": "8a2740c0",
   "metadata": {},
   "source": [
    "This variable importance plot lists the most significant variables in descending order. The **top variables contribute more to the model** than the bottom ones and **thus have high predictive power**. Based on the plot, we can see that the **top 3** most significant variables are **overall_qual, gr_liv_area and year_built**. This means that when these variables change, they create bigger movement in the sale price than the bottom 3 variables for example."
   ]
  },
  {
   "cell_type": "markdown",
   "id": "77f52369",
   "metadata": {},
   "source": [
    "---"
   ]
  },
  {
   "cell_type": "markdown",
   "id": "3991b4e7",
   "metadata": {},
   "source": [
    "### Hypothesis Testing"
   ]
  },
  {
   "cell_type": "markdown",
   "id": "b59b36db",
   "metadata": {},
   "source": [
    "Using hypothesis testing, we can test whether or not our model are fully optimised. We can deduce this by looking at the p-value. If the p-value of a certain feature is greater than 0.05, it means that the feature is not statistically significant. Conversely if the p-value of a certain feature is lower than 0.05, we can conclude that this particular feature is statistically significant.\n",
    "\n",
    "If a feature is statistically significant, it means that the particular feature has a significant impact on the model's output.\n",
    "\n",
    "What we are looking for here is that we want to choose features that are statistically significant, if not, they are redundant. This means that ideally, we would want to have features with p-value of lower than 0.05."
   ]
  },
  {
   "cell_type": "code",
   "execution_count": 81,
   "id": "8c98b7a8",
   "metadata": {},
   "outputs": [],
   "source": [
    "# create x variable\n",
    "X_fin = df[features]"
   ]
  },
  {
   "cell_type": "code",
   "execution_count": 82,
   "id": "7915605a",
   "metadata": {},
   "outputs": [],
   "source": [
    "# add constant\n",
    "X_sm = sm.add_constant(X_fin)"
   ]
  },
  {
   "cell_type": "code",
   "execution_count": 83,
   "id": "4588b445",
   "metadata": {
    "scrolled": false
   },
   "outputs": [
    {
     "name": "stdout",
     "output_type": "stream",
     "text": [
      "                            OLS Regression Results                            \n",
      "==============================================================================\n",
      "Dep. Variable:         cbrt_saleprice   R-squared:                       0.876\n",
      "Model:                            OLS   Adj. R-squared:                  0.876\n",
      "Method:                 Least Squares   F-statistic:                     1109.\n",
      "Date:                Sun, 20 Nov 2022   Prob (F-statistic):               0.00\n",
      "Time:                        23:03:23   Log-Likelihood:                -4928.2\n",
      "No. Observations:                2048   AIC:                             9884.\n",
      "Df Residuals:                    2034   BIC:                             9963.\n",
      "Df Model:                          13                                         \n",
      "Covariance Type:            nonrobust                                         \n",
      "========================================================================================\n",
      "                           coef    std err          t      P>|t|      [0.025      0.975]\n",
      "----------------------------------------------------------------------------------------\n",
      "const                  -77.7320      5.844    -13.301      0.000     -89.193     -66.271\n",
      "overall_qual             1.4188      0.076     18.619      0.000       1.269       1.568\n",
      "overall_cond             0.8600      0.061     14.115      0.000       0.741       0.980\n",
      "bsmtfin_sf_1             0.0013      0.000      8.417      0.000       0.001       0.002\n",
      "total_bsmt_sf            0.0014      0.000      7.017      0.000       0.001       0.002\n",
      "kitchen_qual             1.1455      0.131      8.759      0.000       0.889       1.402\n",
      "fireplace_qu             0.3384      0.040      8.484      0.000       0.260       0.417\n",
      "gr_liv_area              0.0044      0.000     26.216      0.000       0.004       0.005\n",
      "garage_cars              1.0106      0.107      9.463      0.000       0.801       1.220\n",
      "bsmt_exposure            0.4060      0.064      6.321      0.000       0.280       0.532\n",
      "lot_area              7.507e-05   9.89e-06      7.589      0.000    5.57e-05    9.45e-05\n",
      "neighborhood_NridgHt     1.8101      0.283      6.407      0.000       1.256       2.364\n",
      "misc_val                -0.0009      0.000     -8.853      0.000      -0.001      -0.001\n",
      "year_built               0.0530      0.003     17.653      0.000       0.047       0.059\n",
      "==============================================================================\n",
      "Omnibus:                     1709.043   Durbin-Watson:                   2.010\n",
      "Prob(Omnibus):                  0.000   Jarque-Bera (JB):           255067.730\n",
      "Skew:                          -3.196   Prob(JB):                         0.00\n",
      "Kurtosis:                      57.297   Cond. No.                     1.21e+06\n",
      "==============================================================================\n",
      "\n",
      "Notes:\n",
      "[1] Standard Errors assume that the covariance matrix of the errors is correctly specified.\n",
      "[2] The condition number is large, 1.21e+06. This might indicate that there are\n",
      "strong multicollinearity or other numerical problems.\n"
     ]
    }
   ],
   "source": [
    "# fit x and y to OLS (Linear Regression)\n",
    "model = sm.OLS(df['cbrt_saleprice'],X_sm)\n",
    "# results of hypothesis testing between features and target variable\n",
    "results= model.fit()\n",
    "\n",
    "print(results.summary())"
   ]
  },
  {
   "cell_type": "markdown",
   "id": "db50fb04",
   "metadata": {},
   "source": [
    "---"
   ]
  },
  {
   "cell_type": "markdown",
   "id": "054ae215",
   "metadata": {},
   "source": [
    "Based on the p-value of the Linear Regression Results, we can see that they are actually all **below 0.05**. This means that we can **reject the null hypothesis** that these variables does not have an impact on the model's output.\n",
    "\n",
    "This means that **all** the variables in the Linear Regression Model are **statistically significant** at the 5% confidence interval which means that the selected features that have a **significant effect on the model's output**.\n"
   ]
  },
  {
   "cell_type": "markdown",
   "id": "a3387295",
   "metadata": {},
   "source": [
    "---"
   ]
  },
  {
   "cell_type": "markdown",
   "id": "251121ff",
   "metadata": {},
   "source": [
    "### Summary of Final Model"
   ]
  },
  {
   "cell_type": "markdown",
   "id": "fe994555",
   "metadata": {},
   "source": [
    "In summary, I strongly believe that the final model is the most optimised and accurate model with the dataset that we have. Requiring **only 13 features**, this means that there is less costs involved in data collection and less time is needed to collect these data. Not only is this efficient, it is also accurate. With a RMSE of \\$24,741, it has a slightly better root mean square error than the bench mark model. Additionally, the train and test R2 score are also close to 90%, this means that the **model is able to generalise and explain a high percentage of the dependent variable variation**. Moreover, the final model outperforms our bench mark model by its test R2 scores and also by the number of features required. Hence, I conclude that the Final Model is a success."
   ]
  },
  {
   "cell_type": "markdown",
   "id": "d30cfcce",
   "metadata": {},
   "source": [
    "---"
   ]
  },
  {
   "cell_type": "markdown",
   "id": "ea8d4a71",
   "metadata": {},
   "source": [
    "## Predicting test.csv"
   ]
  },
  {
   "cell_type": "markdown",
   "id": "631b7da1",
   "metadata": {},
   "source": [
    "In fulfilment to the Kaggle challenge, we will be predicting the housing prices of properties in this dataset. This allows us to also test our regression model on unseen data. The metric for evaluation in this challenge is the Root Mean Square Error (RMSE). \n",
    "\n",
    "**Also, since our model predicts the cuberoot of sale price, we will then cube the value to retrieve the actual sale price value before submission.**"
   ]
  },
  {
   "cell_type": "markdown",
   "id": "c68d4aba",
   "metadata": {},
   "source": [
    "### Importing test.csv"
   ]
  },
  {
   "cell_type": "code",
   "execution_count": 84,
   "id": "5737ffce",
   "metadata": {
    "scrolled": true
   },
   "outputs": [],
   "source": [
    "test_df = pd.read_csv('./datasets/test.csv')"
   ]
  },
  {
   "cell_type": "markdown",
   "id": "02db0d64",
   "metadata": {},
   "source": [
    "### Data Cleaning"
   ]
  },
  {
   "cell_type": "markdown",
   "id": "ab363b27",
   "metadata": {},
   "source": [
    "In order to use the dataset for prediction, we will have to engineer the dataset into a certain format. The format required is that the dataset should contain only features used in the regression model. This means that features engineered in part 1 would also have to be engineered in this dataset, ordinal features have to be ranked accordingly and categorical features should be one-hot encoded."
   ]
  },
  {
   "cell_type": "code",
   "execution_count": 85,
   "id": "359dab88",
   "metadata": {},
   "outputs": [],
   "source": [
    "# lambda function lower cases list of column names and join spaces with underscore\n",
    "test_df.rename(columns=lambda column: column.lower().replace(' ','_'), inplace=True)"
   ]
  },
  {
   "cell_type": "code",
   "execution_count": 86,
   "id": "5834184f",
   "metadata": {},
   "outputs": [],
   "source": [
    "# selecting only columns that are going to be used in the regression model\n",
    "test_df = test_df[['id',\n",
    "                   'overall_qual',\n",
    "                   'overall_cond',\n",
    "                   'bsmtfin_sf_1',\n",
    "                   'total_bsmt_sf',\n",
    "                   'kitchen_qual',\n",
    "                   'fireplace_qu',\n",
    "                   'gr_liv_area',\n",
    "                   'garage_cars',\n",
    "                   'bsmt_exposure',\n",
    "                   'lot_area',\n",
    "                   'misc_val',\n",
    "                   'neighborhood',\n",
    "                  'year_built']]"
   ]
  },
  {
   "cell_type": "markdown",
   "id": "0205f45a",
   "metadata": {},
   "source": [
    "###### Feature Engineering"
   ]
  },
  {
   "cell_type": "markdown",
   "id": "799bccad",
   "metadata": {},
   "source": [
    "###### bsmt_exposure"
   ]
  },
  {
   "cell_type": "code",
   "execution_count": 87,
   "id": "4324040f",
   "metadata": {},
   "outputs": [],
   "source": [
    "# creating a dictionary to scale ordinal data into numbers\n",
    "scale_mapper = {np.NaN:0,\"No\":1, \"Mn\":2, \"Av\":3,\"Gd\":4}\n",
    "\n",
    "# replacing values in fireplace quality column with values created in scale_mapper\n",
    "test_df[\"bsmt_exposure\"] = test_df[\"bsmt_exposure\"].replace(scale_mapper)"
   ]
  },
  {
   "cell_type": "markdown",
   "id": "c16ba3d3",
   "metadata": {},
   "source": [
    "###### kitchen_qual"
   ]
  },
  {
   "cell_type": "code",
   "execution_count": 88,
   "id": "d7da5667",
   "metadata": {},
   "outputs": [],
   "source": [
    "# creating a dictionary to scale ordinal data into numbers\n",
    "scale_mapper = {\"Po\":0, \"Fa\":1, \"TA\":2,\"Gd\":3,\"Ex\":4}\n",
    "\n",
    "# replacing values in fireplace quality column with values created in scale_mapper\n",
    "test_df[\"kitchen_qual\"] = test_df[\"kitchen_qual\"].replace(scale_mapper)"
   ]
  },
  {
   "cell_type": "markdown",
   "id": "1b6dfa54",
   "metadata": {},
   "source": [
    "###### fireplace_qu"
   ]
  },
  {
   "cell_type": "code",
   "execution_count": 89,
   "id": "bc1ab510",
   "metadata": {},
   "outputs": [],
   "source": [
    "# creating a dictionary to scale ordinal data into numbers\n",
    "scale_mapper = {np.NaN:0,\"Po\":1, \"Fa\":2, \"TA\":3, \"Gd\":4, \"Ex\":5}\n",
    "\n",
    "# replacing values in fireplace quality column with values created in scale_mapper\n",
    "test_df[\"fireplace_qu\"] = test_df[\"fireplace_qu\"].replace(scale_mapper)"
   ]
  },
  {
   "cell_type": "markdown",
   "id": "d186b511",
   "metadata": {},
   "source": [
    "###### One-hot Encoding"
   ]
  },
  {
   "cell_type": "code",
   "execution_count": 90,
   "id": "8bad8d75",
   "metadata": {},
   "outputs": [],
   "source": [
    "# id and the feature we want to one hot encode\n",
    "ohe = ['id','neighborhood']"
   ]
  },
  {
   "cell_type": "code",
   "execution_count": 91,
   "id": "15fa6cd3",
   "metadata": {},
   "outputs": [],
   "source": [
    "# dummified dataframe of nominal features\n",
    "dummified = pd.get_dummies(test_df[ohe])"
   ]
  },
  {
   "cell_type": "code",
   "execution_count": 92,
   "id": "953400af",
   "metadata": {},
   "outputs": [],
   "source": [
    "# merging one-hot encoded dataframe to final dataframe\n",
    "test_df = pd.merge(test_df,dummified,how='outer',on='id')"
   ]
  },
  {
   "cell_type": "markdown",
   "id": "96c5dd13",
   "metadata": {},
   "source": [
    "###### Creating final test_df"
   ]
  },
  {
   "cell_type": "code",
   "execution_count": 93,
   "id": "69207fd5",
   "metadata": {},
   "outputs": [],
   "source": [
    "# selecting only required features\n",
    "test_df1 = test_df[features]"
   ]
  },
  {
   "cell_type": "markdown",
   "id": "967c657f",
   "metadata": {},
   "source": [
    "### Scale"
   ]
  },
  {
   "cell_type": "code",
   "execution_count": 94,
   "id": "3881b589",
   "metadata": {},
   "outputs": [],
   "source": [
    "# scaling test_df1 \n",
    "scaled_test_df = ss.transform(test_df1)"
   ]
  },
  {
   "cell_type": "markdown",
   "id": "81768725",
   "metadata": {},
   "source": [
    "### Prediction"
   ]
  },
  {
   "cell_type": "code",
   "execution_count": 95,
   "id": "a57a9512",
   "metadata": {},
   "outputs": [],
   "source": [
    "# predicting housing values with selected features\n",
    "pred = lr.predict(scaled_test_df)"
   ]
  },
  {
   "cell_type": "code",
   "execution_count": 96,
   "id": "04114b51",
   "metadata": {},
   "outputs": [],
   "source": [
    "# engineering data to submission format\n",
    "# cubing pred as predicted y-value is the cuberoot of saleprice, cubing it returns the actual predicted saleprice\n",
    "data = list(zip(test_df.id,pred**3))\n",
    "data1 = pd.DataFrame(data,columns=['Id','SalePrice'])\n",
    "data1 = data1.sort_values(by=['Id'],ascending=True).round(4)"
   ]
  },
  {
   "cell_type": "markdown",
   "id": "a317d70f",
   "metadata": {},
   "source": [
    "###### Exporting submission.csv"
   ]
  },
  {
   "cell_type": "code",
   "execution_count": 97,
   "id": "a80f3ee7",
   "metadata": {},
   "outputs": [],
   "source": [
    "data1.to_csv('./datasets/submission_final.csv',index=False)"
   ]
  },
  {
   "cell_type": "markdown",
   "id": "a44c828b",
   "metadata": {},
   "source": [
    "---"
   ]
  },
  {
   "cell_type": "markdown",
   "id": "d579564d",
   "metadata": {},
   "source": [
    "## Conclusion and Recomendations"
   ]
  },
  {
   "cell_type": "markdown",
   "id": "b47e5de3",
   "metadata": {},
   "source": [
    "**Problem Statement**\n",
    "\n",
    "I am a data scientist working for an online property agency in the United States.  \n",
    "\n",
    "This online platform allows clients to put their properties on sale. When transactions are made, the company then takes a percentage of commission. As part of a new service, the company wishes to help clients properly value their properties and prevent our clients from being low-balled. When **clients make profits, the company also enjoys a higher commission** creating a win-win situation for both the company and its clients.  \n",
    "\n",
    "In view of the increase in property transactions in Ames, Iowa, the company is also looking to expand into Ames to take advantage of the increase in property transactions.\n",
    "\n",
    "As part of the Data Science team, I am tasked to build a regression model to predict sale prices of housing specifically in Ames, Iowa. Criterias given by the company includes that the model should have a **high R2 score (R-squared)** and a **low RMSE (Root Mean Squared Error)** as the cost of error can be huge to both **clients and the company**. Most importantly, the model should also be efficient and uses the **least amount of features** to predict housing prices in lieu of a cost-cutting measure.\n",
    "\n",
    "**Conclusion**\n",
    "\n",
    "In order to tackle this data science problem given to me, we first had to clean the data and decide the best imputation methods to fill them. Afterwards, we did an exploratory data analysis in which we had identified important features and also engineered some. Thereafter, we went on with the modeling process to train a regression model that beats a benchmark model. \n",
    "\n",
    "Linking back to the problem statement, we have successfully hit all business requirements for this project. With a model score of almost 90%, an RMSE of \\$24,741 and requiring only 13 features, we have essentially went over and beyond. This means that the regression is able to generalise sale price and predict an outcome with a low error term. Through this process, we have also discovered features that contributes most to the prediction of sale price and we can use this knowledge to help clients and when clients are able to improve their housing, they will be able to fetch a higher sale price which means more commission for the company, creating a win-win situation for both clients and our company.\n",
    "\n",
    "All in all, I would consider this project a success. We managed to train a regression model that exceeded expectation. \n",
    "\n",
    "**Limitations**\n",
    "\n",
    "1) Linear Regression is sensitive to outliers. However, we have used a cuberoot transformation to deal with these outliers as explained during EDA. \n",
    "\n",
    "2) External Factors such as economical push may influence housing price e.g. 2008 housing crisis in the US. These factors are out of our control and the model needs to be maintained to accomodate to such factors.\n",
    "\n",
    "**Recomendations**\n",
    "\n",
    "1) Firstly, we discovered the key predictors that has an impact on sale price. The top three being overall quality, above ground living area and the year the housing was built. Although there is nothing a client can do about the living area, the client can definitely look into ways to improve its overall quality. We can take this chance to also provide services that teach and help clients to find ways they can improve its overall quality to increase sale price. Also, one might think that there is nothing they can do about the year their housing was built. But in this analysis, we have discovered that by remodelling their house, it gives an effect that the house was reborn, which increases sale price.\n",
    "\n",
    "2) Secondly, I would recommend that the project was open to more machine learning models as one of a disadvantage of regression is that it is sensitive to outliers. This means that outliers can have a huge impact on the output of the model. \n",
    "\n",
    "3) Lastly, I would recommend that we can improve our data collection technique. This would result in a dataset with lesser missing values which. Since we had to impute some data using missing value imputation methods, a prediction is still a prediction. With data that were correctly recorded, we might be able to discover the true relationship between the column and our target variable. "
   ]
  }
 ],
 "metadata": {
  "kernelspec": {
   "display_name": "Python 3 (ipykernel)",
   "language": "python",
   "name": "python3"
  },
  "language_info": {
   "codemirror_mode": {
    "name": "ipython",
    "version": 3
   },
   "file_extension": ".py",
   "mimetype": "text/x-python",
   "name": "python",
   "nbconvert_exporter": "python",
   "pygments_lexer": "ipython3",
   "version": "3.9.12"
  }
 },
 "nbformat": 4,
 "nbformat_minor": 5
}
